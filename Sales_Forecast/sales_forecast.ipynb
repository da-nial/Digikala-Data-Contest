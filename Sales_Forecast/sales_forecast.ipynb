{
 "nbformat": 4,
 "nbformat_minor": 0,
 "metadata": {
  "colab": {
   "name": "Digikala - Sales Forecast.ipynb",
   "provenance": [],
   "collapsed_sections": [],
   "authorship_tag": "ABX9TyMmkL+Z/M/wxRUiHJxRtqh2"
  },
  "kernelspec": {
   "name": "python3",
   "display_name": "Python 3"
  },
  "accelerator": "GPU"
 },
 "cells": [
  {
   "cell_type": "code",
   "metadata": {
    "id": "I8bb0ve1iGH0",
    "colab_type": "code",
    "colab": {
     "base_uri": "https://localhost:8080/",
     "height": 734
    },
    "executionInfo": {
     "status": "ok",
     "timestamp": 1599809818638,
     "user_tz": -270,
     "elapsed": 4076,
     "user": {
      "displayName": "DaniaL Ha",
      "photoUrl": "https://lh3.googleusercontent.com/a-/AOh14GiRcJ0WxjalGy0bNYHXw1hl4sot0fF2_-1t4wbEag=s64",
      "userId": "15606141405640455496"
     }
    },
    "outputId": "7a71651f-cfc7-41c2-d724-2821b6d4584b"
   },
   "source": [
    "pip install fastai --upgrade"
   ],
   "execution_count": 1,
   "outputs": [
    {
     "output_type": "stream",
     "text": [
      "Requirement already up-to-date: fastai in /usr/local/lib/python3.6/dist-packages (2.0.10)\n",
      "Requirement already satisfied, skipping upgrade: pillow in /usr/local/lib/python3.6/dist-packages (from fastai) (7.0.0)\n",
      "Requirement already satisfied, skipping upgrade: fastprogress>=0.2.4 in /usr/local/lib/python3.6/dist-packages (from fastai) (1.0.0)\n",
      "Requirement already satisfied, skipping upgrade: pyyaml in /usr/local/lib/python3.6/dist-packages (from fastai) (3.13)\n",
      "Requirement already satisfied, skipping upgrade: requests in /usr/local/lib/python3.6/dist-packages (from fastai) (2.23.0)\n",
      "Requirement already satisfied, skipping upgrade: scikit-learn in /usr/local/lib/python3.6/dist-packages (from fastai) (0.22.2.post1)\n",
      "Requirement already satisfied, skipping upgrade: fastcore>=1.0.5 in /usr/local/lib/python3.6/dist-packages (from fastai) (1.0.9)\n",
      "Requirement already satisfied, skipping upgrade: packaging in /usr/local/lib/python3.6/dist-packages (from fastai) (20.4)\n",
      "Requirement already satisfied, skipping upgrade: pip in /usr/local/lib/python3.6/dist-packages (from fastai) (19.3.1)\n",
      "Requirement already satisfied, skipping upgrade: pandas in /usr/local/lib/python3.6/dist-packages (from fastai) (1.0.5)\n",
      "Requirement already satisfied, skipping upgrade: spacy in /usr/local/lib/python3.6/dist-packages (from fastai) (2.2.4)\n",
      "Requirement already satisfied, skipping upgrade: torch>=1.6.0 in /usr/local/lib/python3.6/dist-packages (from fastai) (1.6.0+cu101)\n",
      "Requirement already satisfied, skipping upgrade: torchvision>=0.7 in /usr/local/lib/python3.6/dist-packages (from fastai) (0.7.0+cu101)\n",
      "Requirement already satisfied, skipping upgrade: scipy in /usr/local/lib/python3.6/dist-packages (from fastai) (1.4.1)\n",
      "Requirement already satisfied, skipping upgrade: matplotlib in /usr/local/lib/python3.6/dist-packages (from fastai) (3.2.2)\n",
      "Requirement already satisfied, skipping upgrade: numpy in /usr/local/lib/python3.6/dist-packages (from fastprogress>=0.2.4->fastai) (1.18.5)\n",
      "Requirement already satisfied, skipping upgrade: urllib3!=1.25.0,!=1.25.1,<1.26,>=1.21.1 in /usr/local/lib/python3.6/dist-packages (from requests->fastai) (1.24.3)\n",
      "Requirement already satisfied, skipping upgrade: chardet<4,>=3.0.2 in /usr/local/lib/python3.6/dist-packages (from requests->fastai) (3.0.4)\n",
      "Requirement already satisfied, skipping upgrade: idna<3,>=2.5 in /usr/local/lib/python3.6/dist-packages (from requests->fastai) (2.10)\n",
      "Requirement already satisfied, skipping upgrade: certifi>=2017.4.17 in /usr/local/lib/python3.6/dist-packages (from requests->fastai) (2020.6.20)\n",
      "Requirement already satisfied, skipping upgrade: joblib>=0.11 in /usr/local/lib/python3.6/dist-packages (from scikit-learn->fastai) (0.16.0)\n",
      "Requirement already satisfied, skipping upgrade: six in /usr/local/lib/python3.6/dist-packages (from packaging->fastai) (1.15.0)\n",
      "Requirement already satisfied, skipping upgrade: pyparsing>=2.0.2 in /usr/local/lib/python3.6/dist-packages (from packaging->fastai) (2.4.7)\n",
      "Requirement already satisfied, skipping upgrade: pytz>=2017.2 in /usr/local/lib/python3.6/dist-packages (from pandas->fastai) (2018.9)\n",
      "Requirement already satisfied, skipping upgrade: python-dateutil>=2.6.1 in /usr/local/lib/python3.6/dist-packages (from pandas->fastai) (2.8.1)\n",
      "Requirement already satisfied, skipping upgrade: cymem<2.1.0,>=2.0.2 in /usr/local/lib/python3.6/dist-packages (from spacy->fastai) (2.0.3)\n",
      "Requirement already satisfied, skipping upgrade: blis<0.5.0,>=0.4.0 in /usr/local/lib/python3.6/dist-packages (from spacy->fastai) (0.4.1)\n",
      "Requirement already satisfied, skipping upgrade: setuptools in /usr/local/lib/python3.6/dist-packages (from spacy->fastai) (49.6.0)\n",
      "Requirement already satisfied, skipping upgrade: plac<1.2.0,>=0.9.6 in /usr/local/lib/python3.6/dist-packages (from spacy->fastai) (1.1.3)\n",
      "Requirement already satisfied, skipping upgrade: tqdm<5.0.0,>=4.38.0 in /usr/local/lib/python3.6/dist-packages (from spacy->fastai) (4.41.1)\n",
      "Requirement already satisfied, skipping upgrade: thinc==7.4.0 in /usr/local/lib/python3.6/dist-packages (from spacy->fastai) (7.4.0)\n",
      "Requirement already satisfied, skipping upgrade: catalogue<1.1.0,>=0.0.7 in /usr/local/lib/python3.6/dist-packages (from spacy->fastai) (1.0.0)\n",
      "Requirement already satisfied, skipping upgrade: murmurhash<1.1.0,>=0.28.0 in /usr/local/lib/python3.6/dist-packages (from spacy->fastai) (1.0.2)\n",
      "Requirement already satisfied, skipping upgrade: wasabi<1.1.0,>=0.4.0 in /usr/local/lib/python3.6/dist-packages (from spacy->fastai) (0.7.1)\n",
      "Requirement already satisfied, skipping upgrade: preshed<3.1.0,>=3.0.2 in /usr/local/lib/python3.6/dist-packages (from spacy->fastai) (3.0.2)\n",
      "Requirement already satisfied, skipping upgrade: srsly<1.1.0,>=1.0.2 in /usr/local/lib/python3.6/dist-packages (from spacy->fastai) (1.0.2)\n",
      "Requirement already satisfied, skipping upgrade: future in /usr/local/lib/python3.6/dist-packages (from torch>=1.6.0->fastai) (0.16.0)\n",
      "Requirement already satisfied, skipping upgrade: kiwisolver>=1.0.1 in /usr/local/lib/python3.6/dist-packages (from matplotlib->fastai) (1.2.0)\n",
      "Requirement already satisfied, skipping upgrade: cycler>=0.10 in /usr/local/lib/python3.6/dist-packages (from matplotlib->fastai) (0.10.0)\n",
      "Requirement already satisfied, skipping upgrade: importlib-metadata>=0.20; python_version < \"3.8\" in /usr/local/lib/python3.6/dist-packages (from catalogue<1.1.0,>=0.0.7->spacy->fastai) (1.7.0)\n",
      "Requirement already satisfied, skipping upgrade: zipp>=0.5 in /usr/local/lib/python3.6/dist-packages (from importlib-metadata>=0.20; python_version < \"3.8\"->catalogue<1.1.0,>=0.0.7->spacy->fastai) (3.1.0)\n"
     ],
     "name": "stdout"
    }
   ]
  },
  {
   "cell_type": "code",
   "metadata": {
    "id": "0P0uh6rE-JVv",
    "colab_type": "code",
    "colab": {
     "base_uri": "https://localhost:8080/",
     "height": 1000
    },
    "executionInfo": {
     "status": "ok",
     "timestamp": 1599809853463,
     "user_tz": -270,
     "elapsed": 2028,
     "user": {
      "displayName": "DaniaL Ha",
      "photoUrl": "https://lh3.googleusercontent.com/a-/AOh14GiRcJ0WxjalGy0bNYHXw1hl4sot0fF2_-1t4wbEag=s64",
      "userId": "15606141405640455496"
     }
    },
    "outputId": "0d6adc1d-51a5-4a06-efca-81f4a8500ac3"
   },
   "source": [
    "pip freeze"
   ],
   "execution_count": 2,
   "outputs": [
    {
     "output_type": "stream",
     "text": [
      "absl-py==0.8.1\n",
      "alabaster==0.7.12\n",
      "albumentations==0.1.12\n",
      "altair==4.1.0\n",
      "argon2-cffi==20.1.0\n",
      "asgiref==3.2.10\n",
      "astor==0.8.1\n",
      "astropy==4.0.1.post1\n",
      "astunparse==1.6.3\n",
      "atari-py==0.2.6\n",
      "atomicwrites==1.4.0\n",
      "attrs==20.1.0\n",
      "audioread==2.1.8\n",
      "autograd==1.3\n",
      "Babel==2.8.0\n",
      "backcall==0.2.0\n",
      "beautifulsoup4==4.6.3\n",
      "bleach==3.1.5\n",
      "blis==0.4.1\n",
      "bokeh==2.1.1\n",
      "boto==2.49.0\n",
      "boto3==1.14.48\n",
      "botocore==1.17.48\n",
      "Bottleneck==1.3.2\n",
      "branca==0.4.1\n",
      "bs4==0.0.1\n",
      "CacheControl==0.12.6\n",
      "cachetools==4.1.1\n",
      "catalogue==1.0.0\n",
      "certifi==2020.6.20\n",
      "cffi==1.14.2\n",
      "chainer==7.4.0\n",
      "chardet==3.0.4\n",
      "click==7.1.2\n",
      "cloudpickle==1.3.0\n",
      "cmake==3.12.0\n",
      "cmdstanpy==0.4.0\n",
      "colorlover==0.3.0\n",
      "community==1.0.0b1\n",
      "contextlib2==0.5.5\n",
      "convertdate==2.2.1\n",
      "coverage==3.7.1\n",
      "coveralls==0.5\n",
      "crcmod==1.7\n",
      "cufflinks==0.17.3\n",
      "cupy-cuda101==7.4.0\n",
      "cvxopt==1.2.5\n",
      "cvxpy==1.0.31\n",
      "cycler==0.10.0\n",
      "cymem==2.0.3\n",
      "Cython==0.29.21\n",
      "daft==0.0.4\n",
      "dask==2.12.0\n",
      "dataclasses==0.7\n",
      "datascience==0.10.6\n",
      "debugpy==1.0.0rc2\n",
      "decorator==4.4.2\n",
      "defusedxml==0.6.0\n",
      "descartes==1.1.0\n",
      "dill==0.3.2\n",
      "distributed==1.25.3\n",
      "Django==3.1\n",
      "dlib==19.18.0\n",
      "dm-tree==0.1.5\n",
      "docopt==0.6.2\n",
      "docutils==0.15.2\n",
      "dopamine-rl==1.0.5\n",
      "earthengine-api==0.1.232\n",
      "easydict==1.9\n",
      "ecos==2.0.7.post1\n",
      "editdistance==0.5.3\n",
      "en-core-web-sm==2.2.5\n",
      "entrypoints==0.3\n",
      "ephem==3.7.7.1\n",
      "et-xmlfile==1.0.1\n",
      "fa2==0.3.5\n",
      "fancyimpute==0.4.3\n",
      "fastai==2.0.10\n",
      "fastcore==1.0.9\n",
      "fastdtw==0.3.4\n",
      "fastprogress==1.0.0\n",
      "fastrlock==0.5\n",
      "fbprophet==0.6\n",
      "feather-format==0.4.1\n",
      "filelock==3.0.12\n",
      "firebase-admin==4.1.0\n",
      "fix-yahoo-finance==0.0.22\n",
      "Flask==1.1.2\n",
      "folium==0.8.3\n",
      "future==0.16.0\n",
      "gast==0.3.3\n",
      "GDAL==2.2.2\n",
      "gdown==3.6.4\n",
      "gensim==3.6.0\n",
      "geographiclib==1.50\n",
      "geopy==1.17.0\n",
      "gin-config==0.3.0\n",
      "glob2==0.7\n",
      "google==2.0.3\n",
      "google-api-core==1.16.0\n",
      "google-api-python-client==1.7.12\n",
      "google-auth==1.17.2\n",
      "google-auth-httplib2==0.0.4\n",
      "google-auth-oauthlib==0.4.1\n",
      "google-cloud-bigquery==1.21.0\n",
      "google-cloud-core==1.0.3\n",
      "google-cloud-datastore==1.8.0\n",
      "google-cloud-firestore==1.7.0\n",
      "google-cloud-language==1.2.0\n",
      "google-cloud-storage==1.18.1\n",
      "google-cloud-translate==1.5.0\n",
      "google-colab==1.0.0\n",
      "google-pasta==0.2.0\n",
      "google-resumable-media==0.4.1\n",
      "googleapis-common-protos==1.52.0\n",
      "googledrivedownloader==0.4\n",
      "graphviz==0.10.1\n",
      "grpcio==1.31.0\n",
      "gspread==3.0.1\n",
      "gspread-dataframe==3.0.8\n",
      "gym==0.17.2\n",
      "h5py==2.10.0\n",
      "HeapDict==1.0.1\n",
      "holidays==0.9.12\n",
      "holoviews==1.13.3\n",
      "html5lib==1.0.1\n",
      "httpimport==0.5.18\n",
      "httplib2==0.17.4\n",
      "httplib2shim==0.0.3\n",
      "humanize==0.5.1\n",
      "hyperopt==0.1.2\n",
      "ideep4py==2.0.0.post3\n",
      "idna==2.10\n",
      "image==1.5.32\n",
      "imageio==2.4.1\n",
      "imagesize==1.2.0\n",
      "imbalanced-learn==0.4.3\n",
      "imblearn==0.0\n",
      "imgaug==0.2.9\n",
      "importlib-metadata==1.7.0\n",
      "imutils==0.5.3\n",
      "inflect==2.1.0\n",
      "iniconfig==1.0.1\n",
      "intel-openmp==2020.0.133\n",
      "intervaltree==2.1.0\n",
      "ipykernel==4.10.1\n",
      "ipython==5.5.0\n",
      "ipython-genutils==0.2.0\n",
      "ipython-sql==0.3.9\n",
      "ipywidgets==7.5.1\n",
      "itsdangerous==1.1.0\n",
      "jax==0.1.75\n",
      "jaxlib==0.1.52\n",
      "jdcal==1.4.1\n",
      "jedi==0.17.2\n",
      "jieba==0.42.1\n",
      "Jinja2==2.11.2\n",
      "jmespath==0.10.0\n",
      "joblib==0.16.0\n",
      "jpeg4py==0.1.4\n",
      "jsonschema==2.6.0\n",
      "jupyter==1.0.0\n",
      "jupyter-client==5.3.5\n",
      "jupyter-console==5.2.0\n",
      "jupyter-core==4.6.3\n",
      "kaggle==1.5.6\n",
      "kapre==0.1.3.1\n",
      "Keras==2.4.3\n",
      "Keras-Preprocessing==1.1.2\n",
      "keras-vis==0.4.1\n",
      "kiwisolver==1.2.0\n",
      "knnimpute==0.1.0\n",
      "librosa==0.6.3\n",
      "lightgbm==2.2.3\n",
      "llvmlite==0.31.0\n",
      "lmdb==0.99\n",
      "lucid==0.3.8\n",
      "LunarCalendar==0.0.9\n",
      "lxml==4.2.6\n",
      "Markdown==3.2.2\n",
      "MarkupSafe==1.1.1\n",
      "matplotlib==3.2.2\n",
      "matplotlib-venn==0.11.5\n",
      "missingno==0.4.2\n",
      "mistune==0.8.4\n",
      "mizani==0.6.0\n",
      "mkl==2019.0\n",
      "mlxtend==0.14.0\n",
      "more-itertools==8.4.0\n",
      "moviepy==0.2.3.5\n",
      "mpmath==1.1.0\n",
      "msgpack==1.0.0\n",
      "multiprocess==0.70.10\n",
      "multitasking==0.0.9\n",
      "murmurhash==1.0.2\n",
      "music21==5.5.0\n",
      "natsort==5.5.0\n",
      "nbconvert==5.6.1\n",
      "nbformat==5.0.7\n",
      "networkx==2.5\n",
      "nibabel==3.0.2\n",
      "nltk==3.2.5\n",
      "notebook==5.3.1\n",
      "np-utils==0.5.12.1\n",
      "numba==0.48.0\n",
      "numexpr==2.7.1\n",
      "numpy==1.18.5\n",
      "nvidia-ml-py3==7.352.0\n",
      "oauth2client==4.1.3\n",
      "oauthlib==3.1.0\n",
      "okgrade==0.4.3\n",
      "opencv-contrib-python==4.1.2.30\n",
      "opencv-python==4.1.2.30\n",
      "openpyxl==2.5.9\n",
      "opt-einsum==3.3.0\n",
      "osqp==0.6.1\n",
      "packaging==20.4\n",
      "palettable==3.3.0\n",
      "pandas==1.0.5\n",
      "pandas-datareader==0.8.1\n",
      "pandas-gbq==0.11.0\n",
      "pandas-profiling==1.4.1\n",
      "pandocfilters==1.4.2\n",
      "panel==0.9.7\n",
      "param==1.9.3\n",
      "parso==0.7.1\n",
      "pathlib==1.0.1\n",
      "patsy==0.5.1\n",
      "pexpect==4.8.0\n",
      "pickleshare==0.7.5\n",
      "Pillow==7.0.0\n",
      "pip-tools==4.5.1\n",
      "plac==1.1.3\n",
      "plotly==4.4.1\n",
      "plotnine==0.6.0\n",
      "pluggy==0.7.1\n",
      "portpicker==1.3.1\n",
      "prefetch-generator==1.0.1\n",
      "preshed==3.0.2\n",
      "prettytable==0.7.2\n",
      "progressbar2==3.38.0\n",
      "prometheus-client==0.8.0\n",
      "promise==2.3\n",
      "prompt-toolkit==1.0.18\n",
      "protobuf==3.12.4\n",
      "psutil==5.4.8\n",
      "psycopg2==2.7.6.1\n",
      "ptyprocess==0.6.0\n",
      "py==1.9.0\n",
      "pyarrow==0.14.1\n",
      "pyasn1==0.4.8\n",
      "pyasn1-modules==0.2.8\n",
      "pycocotools==2.0.1\n",
      "pycparser==2.20\n",
      "pyct==0.4.6\n",
      "pydata-google-auth==1.1.0\n",
      "pydot==1.3.0\n",
      "pydot-ng==2.0.0\n",
      "pydotplus==2.0.2\n",
      "PyDrive==1.3.1\n",
      "pyemd==0.5.1\n",
      "pyglet==1.5.0\n",
      "Pygments==2.1.3\n",
      "pygobject==3.26.1\n",
      "pymc3==3.7\n",
      "PyMeeus==0.3.7\n",
      "pymongo==3.11.0\n",
      "pymystem3==0.2.0\n",
      "PyOpenGL==3.1.5\n",
      "pyparsing==2.4.7\n",
      "pyrsistent==0.16.0\n",
      "pysndfile==1.3.8\n",
      "PySocks==1.7.1\n",
      "pystan==2.19.1.1\n",
      "pytest==3.6.4\n",
      "python-apt==1.6.5+ubuntu0.3\n",
      "python-chess==0.23.11\n",
      "python-dateutil==2.8.1\n",
      "python-louvain==0.14\n",
      "python-slugify==4.0.1\n",
      "python-utils==2.4.0\n",
      "pytz==2018.9\n",
      "pyviz-comms==0.7.6\n",
      "PyWavelets==1.1.1\n",
      "PyYAML==3.13\n",
      "pyzmq==19.0.2\n",
      "qtconsole==4.7.6\n",
      "QtPy==1.9.0\n",
      "regex==2019.12.20\n",
      "requests==2.23.0\n",
      "requests-oauthlib==1.3.0\n",
      "resampy==0.2.2\n",
      "retrying==1.3.3\n",
      "rpy2==3.2.7\n",
      "rsa==4.6\n",
      "s3transfer==0.3.3\n",
      "scikit-image==0.16.2\n",
      "scikit-learn==0.22.2.post1\n",
      "scipy==1.4.1\n",
      "screen-resolution-extra==0.0.0\n",
      "scs==2.1.2\n",
      "seaborn==0.10.1\n",
      "Send2Trash==1.5.0\n",
      "setuptools-git==1.2\n",
      "Shapely==1.7.1\n",
      "simplegeneric==0.8.1\n",
      "six==1.15.0\n",
      "sklearn==0.0\n",
      "sklearn-pandas==1.8.0\n",
      "smart-open==2.1.0\n",
      "snowballstemmer==2.0.0\n",
      "sortedcontainers==2.2.2\n",
      "spacy==2.2.4\n",
      "Sphinx==1.8.5\n",
      "sphinxcontrib-serializinghtml==1.1.4\n",
      "sphinxcontrib-websupport==1.2.4\n",
      "SQLAlchemy==1.3.19\n",
      "sqlparse==0.3.1\n",
      "srsly==1.0.2\n",
      "statsmodels==0.10.2\n",
      "sympy==1.1.1\n",
      "tables==3.4.4\n",
      "tabulate==0.8.7\n",
      "tblib==1.7.0\n",
      "tensorboard==2.3.0\n",
      "tensorboard-plugin-wit==1.7.0\n",
      "tensorboardcolab==0.0.22\n",
      "tensorflow==2.3.0\n",
      "tensorflow-addons==0.8.3\n",
      "tensorflow-datasets==2.1.0\n",
      "tensorflow-estimator==2.3.0\n",
      "tensorflow-gcs-config==2.3.0\n",
      "tensorflow-hub==0.9.0\n",
      "tensorflow-metadata==0.23.0\n",
      "tensorflow-privacy==0.2.2\n",
      "tensorflow-probability==0.11.0\n",
      "termcolor==1.1.0\n",
      "terminado==0.8.3\n",
      "testpath==0.4.4\n",
      "text-unidecode==1.3\n",
      "textblob==0.15.3\n",
      "textgenrnn==1.4.1\n",
      "Theano==1.0.5\n",
      "thinc==7.4.0\n",
      "tifffile==2020.8.25\n",
      "toml==0.10.1\n",
      "toolz==0.10.0\n",
      "torch==1.6.0+cu101\n",
      "torchsummary==1.5.1\n",
      "torchtext==0.3.1\n",
      "torchvision==0.7.0+cu101\n",
      "tornado==5.1.1\n",
      "tqdm==4.41.1\n",
      "traitlets==4.3.3\n",
      "tweepy==3.6.0\n",
      "typeguard==2.7.1\n",
      "typing-extensions==3.7.4.3\n",
      "tzlocal==1.5.1\n",
      "umap-learn==0.4.6\n",
      "uritemplate==3.0.1\n",
      "urllib3==1.24.3\n",
      "vega-datasets==0.8.0\n",
      "wasabi==0.7.1\n",
      "wcwidth==0.2.5\n",
      "webencodings==0.5.1\n",
      "Werkzeug==1.0.1\n",
      "widgetsnbextension==3.5.1\n",
      "wordcloud==1.5.0\n",
      "wrapt==1.12.1\n",
      "xarray==0.15.1\n",
      "xgboost==0.90\n",
      "xkit==0.0.0\n",
      "xlrd==1.1.0\n",
      "xlwt==1.3.0\n",
      "yellowbrick==0.9.1\n",
      "zict==2.0.0\n",
      "zipp==3.1.0\n"
     ],
     "name": "stdout"
    }
   ]
  },
  {
   "cell_type": "code",
   "metadata": {
    "id": "C4UGd9E3i1sO",
    "colab_type": "code",
    "colab": {
     "base_uri": "https://localhost:8080/",
     "height": 54
    },
    "executionInfo": {
     "status": "ok",
     "timestamp": 1599809858807,
     "user_tz": -270,
     "elapsed": 2515,
     "user": {
      "displayName": "DaniaL Ha",
      "photoUrl": "https://lh3.googleusercontent.com/a-/AOh14GiRcJ0WxjalGy0bNYHXw1hl4sot0fF2_-1t4wbEag=s64",
      "userId": "15606141405640455496"
     }
    },
    "outputId": "be1eb9c9-9b6f-47c5-d64d-ec2f463d19c2"
   },
   "source": [
    "from fastai.tabular.all import *\n",
    "\n",
    "from google.colab import drive\n",
    "drive.mount('/content/gdrive')\n",
    "\n",
    "import pandas as pd\n",
    "import numpy as np"
   ],
   "execution_count": 3,
   "outputs": [
    {
     "output_type": "stream",
     "text": [
      "Drive already mounted at /content/gdrive; to attempt to forcibly remount, call drive.mount(\"/content/gdrive\", force_remount=True).\n"
     ],
     "name": "stdout"
    }
   ]
  },
  {
   "cell_type": "code",
   "metadata": {
    "id": "uLd0Isljszx2",
    "colab_type": "code",
    "colab": {},
    "executionInfo": {
     "status": "ok",
     "timestamp": 1599809861549,
     "user_tz": -270,
     "elapsed": 1735,
     "user": {
      "displayName": "DaniaL Ha",
      "photoUrl": "https://lh3.googleusercontent.com/a-/AOh14GiRcJ0WxjalGy0bNYHXw1hl4sot0fF2_-1t4wbEag=s64",
      "userId": "15606141405640455496"
     }
    }
   },
   "source": [
    "base_dir = '/content/gdrive/My Drive/Digikala Contest/Sales Forecast'"
   ],
   "execution_count": 4,
   "outputs": []
  },
  {
   "cell_type": "code",
   "metadata": {
    "id": "YUxTwp-Fryp1",
    "colab_type": "code",
    "colab": {
     "base_uri": "https://localhost:8080/",
     "height": 71
    },
    "executionInfo": {
     "status": "ok",
     "timestamp": 1599809869343,
     "user_tz": -270,
     "elapsed": 7027,
     "user": {
      "displayName": "DaniaL Ha",
      "photoUrl": "https://lh3.googleusercontent.com/a-/AOh14GiRcJ0WxjalGy0bNYHXw1hl4sot0fF2_-1t4wbEag=s64",
      "userId": "15606141405640455496"
     }
    },
    "outputId": "3ca19420-4170-46f2-e254-1e86ee25c82d"
   },
   "source": [
    "!unzip '/content/gdrive/My Drive/Digikala Contest/Sales Forecast/ML_User_Data.zip' -d '/content/gdrive/My Drive/Digikala Contest/Sales Forecast'"
   ],
   "execution_count": 5,
   "outputs": [
    {
     "output_type": "stream",
     "text": [
      "Archive:  /content/gdrive/My Drive/Digikala Contest/Sales Forecast/ML_User_Data.zip\n",
      "replace /content/gdrive/My Drive/Digikala Contest/Sales Forecast/answer_style.csv? [y]es, [n]o, [A]ll, [N]one, [r]ename: N\n"
     ],
     "name": "stdout"
    }
   ]
  },
  {
   "cell_type": "code",
   "metadata": {
    "id": "iJBDT0P2jDKU",
    "colab_type": "code",
    "colab": {},
    "executionInfo": {
     "status": "ok",
     "timestamp": 1599809872304,
     "user_tz": -270,
     "elapsed": 1228,
     "user": {
      "displayName": "DaniaL Ha",
      "photoUrl": "https://lh3.googleusercontent.com/a-/AOh14GiRcJ0WxjalGy0bNYHXw1hl4sot0fF2_-1t4wbEag=s64",
      "userId": "15606141405640455496"
     }
    }
   },
   "source": [
    "train_df = pd.read_csv(base_dir + '/train.csv') \n",
    "test_df = pd.read_csv(base_dir + '/test.csv')"
   ],
   "execution_count": 6,
   "outputs": []
  },
  {
   "cell_type": "code",
   "metadata": {
    "id": "rzLeI2NYsm13",
    "colab_type": "code",
    "colab": {
     "base_uri": "https://localhost:8080/",
     "height": 359
    },
    "executionInfo": {
     "status": "ok",
     "timestamp": 1599809874147,
     "user_tz": -270,
     "elapsed": 1455,
     "user": {
      "displayName": "DaniaL Ha",
      "photoUrl": "https://lh3.googleusercontent.com/a-/AOh14GiRcJ0WxjalGy0bNYHXw1hl4sot0fF2_-1t4wbEag=s64",
      "userId": "15606141405640455496"
     }
    },
    "outputId": "ac176281-b0f6-4573-e872-f4901e9883ae"
   },
   "source": [
    "train_df.head(10)"
   ],
   "execution_count": 7,
   "outputs": [
    {
     "output_type": "execute_result",
     "data": {
      "text/html": [
       "<div>\n",
       "<style scoped>\n",
       "    .dataframe tbody tr th:only-of-type {\n",
       "        vertical-align: middle;\n",
       "    }\n",
       "\n",
       "    .dataframe tbody tr th {\n",
       "        vertical-align: top;\n",
       "    }\n",
       "\n",
       "    .dataframe thead th {\n",
       "        text-align: right;\n",
       "    }\n",
       "</style>\n",
       "<table border=\"1\" class=\"dataframe\">\n",
       "  <thead>\n",
       "    <tr style=\"text-align: right;\">\n",
       "      <th></th>\n",
       "      <th>id</th>\n",
       "      <th>date</th>\n",
       "      <th>seller</th>\n",
       "      <th>item</th>\n",
       "      <th>sales</th>\n",
       "    </tr>\n",
       "  </thead>\n",
       "  <tbody>\n",
       "    <tr>\n",
       "      <th>0</th>\n",
       "      <td>0</td>\n",
       "      <td>2015-05-01</td>\n",
       "      <td>1</td>\n",
       "      <td>1</td>\n",
       "      <td>21</td>\n",
       "    </tr>\n",
       "    <tr>\n",
       "      <th>1</th>\n",
       "      <td>1</td>\n",
       "      <td>2015-05-01</td>\n",
       "      <td>2</td>\n",
       "      <td>1</td>\n",
       "      <td>45</td>\n",
       "    </tr>\n",
       "    <tr>\n",
       "      <th>2</th>\n",
       "      <td>2</td>\n",
       "      <td>2015-05-01</td>\n",
       "      <td>3</td>\n",
       "      <td>1</td>\n",
       "      <td>28</td>\n",
       "    </tr>\n",
       "    <tr>\n",
       "      <th>3</th>\n",
       "      <td>3</td>\n",
       "      <td>2015-05-01</td>\n",
       "      <td>4</td>\n",
       "      <td>1</td>\n",
       "      <td>34</td>\n",
       "    </tr>\n",
       "    <tr>\n",
       "      <th>4</th>\n",
       "      <td>4</td>\n",
       "      <td>2015-05-01</td>\n",
       "      <td>5</td>\n",
       "      <td>1</td>\n",
       "      <td>21</td>\n",
       "    </tr>\n",
       "    <tr>\n",
       "      <th>5</th>\n",
       "      <td>5</td>\n",
       "      <td>2015-05-01</td>\n",
       "      <td>6</td>\n",
       "      <td>1</td>\n",
       "      <td>21</td>\n",
       "    </tr>\n",
       "    <tr>\n",
       "      <th>6</th>\n",
       "      <td>6</td>\n",
       "      <td>2015-05-01</td>\n",
       "      <td>7</td>\n",
       "      <td>1</td>\n",
       "      <td>27</td>\n",
       "    </tr>\n",
       "    <tr>\n",
       "      <th>7</th>\n",
       "      <td>7</td>\n",
       "      <td>2015-05-01</td>\n",
       "      <td>8</td>\n",
       "      <td>1</td>\n",
       "      <td>27</td>\n",
       "    </tr>\n",
       "    <tr>\n",
       "      <th>8</th>\n",
       "      <td>8</td>\n",
       "      <td>2015-05-01</td>\n",
       "      <td>9</td>\n",
       "      <td>1</td>\n",
       "      <td>28</td>\n",
       "    </tr>\n",
       "    <tr>\n",
       "      <th>9</th>\n",
       "      <td>9</td>\n",
       "      <td>2015-05-01</td>\n",
       "      <td>10</td>\n",
       "      <td>1</td>\n",
       "      <td>25</td>\n",
       "    </tr>\n",
       "  </tbody>\n",
       "</table>\n",
       "</div>"
      ],
      "text/plain": [
       "   id        date  seller  item  sales\n",
       "0   0  2015-05-01       1     1     21\n",
       "1   1  2015-05-01       2     1     45\n",
       "2   2  2015-05-01       3     1     28\n",
       "3   3  2015-05-01       4     1     34\n",
       "4   4  2015-05-01       5     1     21\n",
       "5   5  2015-05-01       6     1     21\n",
       "6   6  2015-05-01       7     1     27\n",
       "7   7  2015-05-01       8     1     27\n",
       "8   8  2015-05-01       9     1     28\n",
       "9   9  2015-05-01      10     1     25"
      ]
     },
     "metadata": {
      "tags": []
     },
     "execution_count": 7
    }
   ]
  },
  {
   "cell_type": "code",
   "metadata": {
    "id": "KmORD4HytZGe",
    "colab_type": "code",
    "colab": {},
    "executionInfo": {
     "status": "ok",
     "timestamp": 1599809877116,
     "user_tz": -270,
     "elapsed": 2499,
     "user": {
      "displayName": "DaniaL Ha",
      "photoUrl": "https://lh3.googleusercontent.com/a-/AOh14GiRcJ0WxjalGy0bNYHXw1hl4sot0fF2_-1t4wbEag=s64",
      "userId": "15606141405640455496"
     }
    }
   },
   "source": [
    "train_df = add_datepart(train_df, 'date')"
   ],
   "execution_count": 8,
   "outputs": []
  },
  {
   "cell_type": "code",
   "metadata": {
    "id": "YoA3VMoWt3ps",
    "colab_type": "code",
    "colab": {
     "base_uri": "https://localhost:8080/",
     "height": 379
    },
    "executionInfo": {
     "status": "ok",
     "timestamp": 1599809877120,
     "user_tz": -270,
     "elapsed": 1170,
     "user": {
      "displayName": "DaniaL Ha",
      "photoUrl": "https://lh3.googleusercontent.com/a-/AOh14GiRcJ0WxjalGy0bNYHXw1hl4sot0fF2_-1t4wbEag=s64",
      "userId": "15606141405640455496"
     }
    },
    "outputId": "c0db1ff8-648f-4911-8a1e-5f5d1901dc49"
   },
   "source": [
    "train_df.head(10)"
   ],
   "execution_count": 9,
   "outputs": [
    {
     "output_type": "execute_result",
     "data": {
      "text/html": [
       "<div>\n",
       "<style scoped>\n",
       "    .dataframe tbody tr th:only-of-type {\n",
       "        vertical-align: middle;\n",
       "    }\n",
       "\n",
       "    .dataframe tbody tr th {\n",
       "        vertical-align: top;\n",
       "    }\n",
       "\n",
       "    .dataframe thead th {\n",
       "        text-align: right;\n",
       "    }\n",
       "</style>\n",
       "<table border=\"1\" class=\"dataframe\">\n",
       "  <thead>\n",
       "    <tr style=\"text-align: right;\">\n",
       "      <th></th>\n",
       "      <th>id</th>\n",
       "      <th>seller</th>\n",
       "      <th>Week</th>\n",
       "      <th>item</th>\n",
       "      <th>sales</th>\n",
       "      <th>Year</th>\n",
       "      <th>Month</th>\n",
       "      <th>Day</th>\n",
       "      <th>Dayofweek</th>\n",
       "      <th>Dayofyear</th>\n",
       "      <th>Is_month_end</th>\n",
       "      <th>Is_month_start</th>\n",
       "      <th>Is_quarter_end</th>\n",
       "      <th>Is_quarter_start</th>\n",
       "      <th>Is_year_end</th>\n",
       "      <th>Is_year_start</th>\n",
       "      <th>Elapsed</th>\n",
       "    </tr>\n",
       "  </thead>\n",
       "  <tbody>\n",
       "    <tr>\n",
       "      <th>0</th>\n",
       "      <td>0</td>\n",
       "      <td>1</td>\n",
       "      <td>18</td>\n",
       "      <td>1</td>\n",
       "      <td>21</td>\n",
       "      <td>2015</td>\n",
       "      <td>5</td>\n",
       "      <td>1</td>\n",
       "      <td>4</td>\n",
       "      <td>121</td>\n",
       "      <td>False</td>\n",
       "      <td>True</td>\n",
       "      <td>False</td>\n",
       "      <td>False</td>\n",
       "      <td>False</td>\n",
       "      <td>False</td>\n",
       "      <td>1430438400</td>\n",
       "    </tr>\n",
       "    <tr>\n",
       "      <th>1</th>\n",
       "      <td>1</td>\n",
       "      <td>2</td>\n",
       "      <td>18</td>\n",
       "      <td>1</td>\n",
       "      <td>45</td>\n",
       "      <td>2015</td>\n",
       "      <td>5</td>\n",
       "      <td>1</td>\n",
       "      <td>4</td>\n",
       "      <td>121</td>\n",
       "      <td>False</td>\n",
       "      <td>True</td>\n",
       "      <td>False</td>\n",
       "      <td>False</td>\n",
       "      <td>False</td>\n",
       "      <td>False</td>\n",
       "      <td>1430438400</td>\n",
       "    </tr>\n",
       "    <tr>\n",
       "      <th>2</th>\n",
       "      <td>2</td>\n",
       "      <td>3</td>\n",
       "      <td>18</td>\n",
       "      <td>1</td>\n",
       "      <td>28</td>\n",
       "      <td>2015</td>\n",
       "      <td>5</td>\n",
       "      <td>1</td>\n",
       "      <td>4</td>\n",
       "      <td>121</td>\n",
       "      <td>False</td>\n",
       "      <td>True</td>\n",
       "      <td>False</td>\n",
       "      <td>False</td>\n",
       "      <td>False</td>\n",
       "      <td>False</td>\n",
       "      <td>1430438400</td>\n",
       "    </tr>\n",
       "    <tr>\n",
       "      <th>3</th>\n",
       "      <td>3</td>\n",
       "      <td>4</td>\n",
       "      <td>18</td>\n",
       "      <td>1</td>\n",
       "      <td>34</td>\n",
       "      <td>2015</td>\n",
       "      <td>5</td>\n",
       "      <td>1</td>\n",
       "      <td>4</td>\n",
       "      <td>121</td>\n",
       "      <td>False</td>\n",
       "      <td>True</td>\n",
       "      <td>False</td>\n",
       "      <td>False</td>\n",
       "      <td>False</td>\n",
       "      <td>False</td>\n",
       "      <td>1430438400</td>\n",
       "    </tr>\n",
       "    <tr>\n",
       "      <th>4</th>\n",
       "      <td>4</td>\n",
       "      <td>5</td>\n",
       "      <td>18</td>\n",
       "      <td>1</td>\n",
       "      <td>21</td>\n",
       "      <td>2015</td>\n",
       "      <td>5</td>\n",
       "      <td>1</td>\n",
       "      <td>4</td>\n",
       "      <td>121</td>\n",
       "      <td>False</td>\n",
       "      <td>True</td>\n",
       "      <td>False</td>\n",
       "      <td>False</td>\n",
       "      <td>False</td>\n",
       "      <td>False</td>\n",
       "      <td>1430438400</td>\n",
       "    </tr>\n",
       "    <tr>\n",
       "      <th>5</th>\n",
       "      <td>5</td>\n",
       "      <td>6</td>\n",
       "      <td>18</td>\n",
       "      <td>1</td>\n",
       "      <td>21</td>\n",
       "      <td>2015</td>\n",
       "      <td>5</td>\n",
       "      <td>1</td>\n",
       "      <td>4</td>\n",
       "      <td>121</td>\n",
       "      <td>False</td>\n",
       "      <td>True</td>\n",
       "      <td>False</td>\n",
       "      <td>False</td>\n",
       "      <td>False</td>\n",
       "      <td>False</td>\n",
       "      <td>1430438400</td>\n",
       "    </tr>\n",
       "    <tr>\n",
       "      <th>6</th>\n",
       "      <td>6</td>\n",
       "      <td>7</td>\n",
       "      <td>18</td>\n",
       "      <td>1</td>\n",
       "      <td>27</td>\n",
       "      <td>2015</td>\n",
       "      <td>5</td>\n",
       "      <td>1</td>\n",
       "      <td>4</td>\n",
       "      <td>121</td>\n",
       "      <td>False</td>\n",
       "      <td>True</td>\n",
       "      <td>False</td>\n",
       "      <td>False</td>\n",
       "      <td>False</td>\n",
       "      <td>False</td>\n",
       "      <td>1430438400</td>\n",
       "    </tr>\n",
       "    <tr>\n",
       "      <th>7</th>\n",
       "      <td>7</td>\n",
       "      <td>8</td>\n",
       "      <td>18</td>\n",
       "      <td>1</td>\n",
       "      <td>27</td>\n",
       "      <td>2015</td>\n",
       "      <td>5</td>\n",
       "      <td>1</td>\n",
       "      <td>4</td>\n",
       "      <td>121</td>\n",
       "      <td>False</td>\n",
       "      <td>True</td>\n",
       "      <td>False</td>\n",
       "      <td>False</td>\n",
       "      <td>False</td>\n",
       "      <td>False</td>\n",
       "      <td>1430438400</td>\n",
       "    </tr>\n",
       "    <tr>\n",
       "      <th>8</th>\n",
       "      <td>8</td>\n",
       "      <td>9</td>\n",
       "      <td>18</td>\n",
       "      <td>1</td>\n",
       "      <td>28</td>\n",
       "      <td>2015</td>\n",
       "      <td>5</td>\n",
       "      <td>1</td>\n",
       "      <td>4</td>\n",
       "      <td>121</td>\n",
       "      <td>False</td>\n",
       "      <td>True</td>\n",
       "      <td>False</td>\n",
       "      <td>False</td>\n",
       "      <td>False</td>\n",
       "      <td>False</td>\n",
       "      <td>1430438400</td>\n",
       "    </tr>\n",
       "    <tr>\n",
       "      <th>9</th>\n",
       "      <td>9</td>\n",
       "      <td>10</td>\n",
       "      <td>18</td>\n",
       "      <td>1</td>\n",
       "      <td>25</td>\n",
       "      <td>2015</td>\n",
       "      <td>5</td>\n",
       "      <td>1</td>\n",
       "      <td>4</td>\n",
       "      <td>121</td>\n",
       "      <td>False</td>\n",
       "      <td>True</td>\n",
       "      <td>False</td>\n",
       "      <td>False</td>\n",
       "      <td>False</td>\n",
       "      <td>False</td>\n",
       "      <td>1430438400</td>\n",
       "    </tr>\n",
       "  </tbody>\n",
       "</table>\n",
       "</div>"
      ],
      "text/plain": [
       "   id  seller  Week  ...  Is_year_end  Is_year_start     Elapsed\n",
       "0   0       1    18  ...        False          False  1430438400\n",
       "1   1       2    18  ...        False          False  1430438400\n",
       "2   2       3    18  ...        False          False  1430438400\n",
       "3   3       4    18  ...        False          False  1430438400\n",
       "4   4       5    18  ...        False          False  1430438400\n",
       "5   5       6    18  ...        False          False  1430438400\n",
       "6   6       7    18  ...        False          False  1430438400\n",
       "7   7       8    18  ...        False          False  1430438400\n",
       "8   8       9    18  ...        False          False  1430438400\n",
       "9   9      10    18  ...        False          False  1430438400\n",
       "\n",
       "[10 rows x 17 columns]"
      ]
     },
     "metadata": {
      "tags": []
     },
     "execution_count": 9
    }
   ]
  },
  {
   "cell_type": "code",
   "metadata": {
    "id": "OmjuqA6pt5m6",
    "colab_type": "code",
    "colab": {
     "base_uri": "https://localhost:8080/",
     "height": 425
    },
    "executionInfo": {
     "status": "ok",
     "timestamp": 1599809878520,
     "user_tz": -270,
     "elapsed": 1067,
     "user": {
      "displayName": "DaniaL Ha",
      "photoUrl": "https://lh3.googleusercontent.com/a-/AOh14GiRcJ0WxjalGy0bNYHXw1hl4sot0fF2_-1t4wbEag=s64",
      "userId": "15606141405640455496"
     }
    },
    "outputId": "a5c6a690-f5bb-4f65-f4a2-a390d685cdb8"
   },
   "source": [
    "train_df.info()"
   ],
   "execution_count": 10,
   "outputs": [
    {
     "output_type": "stream",
     "text": [
      "<class 'pandas.core.frame.DataFrame'>\n",
      "RangeIndex: 900000 entries, 0 to 899999\n",
      "Data columns (total 17 columns):\n",
      " #   Column            Non-Null Count   Dtype \n",
      "---  ------            --------------   ----- \n",
      " 0   id                900000 non-null  int64 \n",
      " 1   seller            900000 non-null  int64 \n",
      " 2   Week              900000 non-null  int64 \n",
      " 3   item              900000 non-null  int64 \n",
      " 4   sales             900000 non-null  int64 \n",
      " 5   Year              900000 non-null  int64 \n",
      " 6   Month             900000 non-null  int64 \n",
      " 7   Day               900000 non-null  int64 \n",
      " 8   Dayofweek         900000 non-null  int64 \n",
      " 9   Dayofyear         900000 non-null  int64 \n",
      " 10  Is_month_end      900000 non-null  bool  \n",
      " 11  Is_month_start    900000 non-null  bool  \n",
      " 12  Is_quarter_end    900000 non-null  bool  \n",
      " 13  Is_quarter_start  900000 non-null  bool  \n",
      " 14  Is_year_end       900000 non-null  bool  \n",
      " 15  Is_year_start     900000 non-null  bool  \n",
      " 16  Elapsed           900000 non-null  object\n",
      "dtypes: bool(6), int64(10), object(1)\n",
      "memory usage: 80.7+ MB\n"
     ],
     "name": "stdout"
    }
   ]
  },
  {
   "cell_type": "code",
   "metadata": {
    "id": "wSGNYoEiv2Bq",
    "colab_type": "code",
    "colab": {
     "base_uri": "https://localhost:8080/",
     "height": 34
    },
    "executionInfo": {
     "status": "ok",
     "timestamp": 1599809880915,
     "user_tz": -270,
     "elapsed": 2061,
     "user": {
      "displayName": "DaniaL Ha",
      "photoUrl": "https://lh3.googleusercontent.com/a-/AOh14GiRcJ0WxjalGy0bNYHXw1hl4sot0fF2_-1t4wbEag=s64",
      "userId": "15606141405640455496"
     }
    },
    "outputId": "2ddda706-387b-4a31-91c5-b815b0bedd65"
   },
   "source": [
    "n = len(train_df);\n",
    "n"
   ],
   "execution_count": 11,
   "outputs": [
    {
     "output_type": "execute_result",
     "data": {
      "text/plain": [
       "900000"
      ]
     },
     "metadata": {
      "tags": []
     },
     "execution_count": 11
    }
   ]
  },
  {
   "cell_type": "code",
   "metadata": {
    "id": "nCSydGLNwB33",
    "colab_type": "code",
    "colab": {},
    "executionInfo": {
     "status": "ok",
     "timestamp": 1599809882641,
     "user_tz": -270,
     "elapsed": 1310,
     "user": {
      "displayName": "DaniaL Ha",
      "photoUrl": "https://lh3.googleusercontent.com/a-/AOh14GiRcJ0WxjalGy0bNYHXw1hl4sot0fF2_-1t4wbEag=s64",
      "userId": "15606141405640455496"
     }
    }
   },
   "source": [
    "procs=[FillMissing, Categorify, Normalize]"
   ],
   "execution_count": 12,
   "outputs": []
  },
  {
   "cell_type": "code",
   "metadata": {
    "id": "_JgXexsjwPbU",
    "colab_type": "code",
    "colab": {},
    "executionInfo": {
     "status": "ok",
     "timestamp": 1599809884491,
     "user_tz": -270,
     "elapsed": 1394,
     "user": {
      "displayName": "DaniaL Ha",
      "photoUrl": "https://lh3.googleusercontent.com/a-/AOh14GiRcJ0WxjalGy0bNYHXw1hl4sot0fF2_-1t4wbEag=s64",
      "userId": "15606141405640455496"
     }
    }
   },
   "source": [
    "cat_vars = ['seller', 'item', 'Week', 'Year', 'Month' ,'Day', 'Dayofweek', 'Dayofyear',\n",
    "    'Is_month_end', 'Is_month_start', 'Is_quarter_end', 'Is_quarter_start', 'Is_year_end', 'Is_year_start']\n",
    "\n",
    "cont_vars = []\n",
    "\n",
    "dep_var = 'sales'"
   ],
   "execution_count": 13,
   "outputs": []
  },
  {
   "cell_type": "code",
   "metadata": {
    "id": "tOIHqCo2yjyb",
    "colab_type": "code",
    "colab": {
     "base_uri": "https://localhost:8080/",
     "height": 119
    },
    "executionInfo": {
     "status": "ok",
     "timestamp": 1599809886230,
     "user_tz": -270,
     "elapsed": 1263,
     "user": {
      "displayName": "DaniaL Ha",
      "photoUrl": "https://lh3.googleusercontent.com/a-/AOh14GiRcJ0WxjalGy0bNYHXw1hl4sot0fF2_-1t4wbEag=s64",
      "userId": "15606141405640455496"
     }
    },
    "outputId": "66beb65c-2293-4ca9-c585-2e39c126550d"
   },
   "source": [
    "train_df[dep_var].head()"
   ],
   "execution_count": 14,
   "outputs": [
    {
     "output_type": "execute_result",
     "data": {
      "text/plain": [
       "0    21\n",
       "1    45\n",
       "2    28\n",
       "3    34\n",
       "4    21\n",
       "Name: sales, dtype: int64"
      ]
     },
     "metadata": {
      "tags": []
     },
     "execution_count": 14
    }
   ]
  },
  {
   "cell_type": "code",
   "metadata": {
    "id": "hcosZkYF0czE",
    "colab_type": "code",
    "colab": {},
    "executionInfo": {
     "status": "ok",
     "timestamp": 1599809890836,
     "user_tz": -270,
     "elapsed": 4351,
     "user": {
      "displayName": "DaniaL Ha",
      "photoUrl": "https://lh3.googleusercontent.com/a-/AOh14GiRcJ0WxjalGy0bNYHXw1hl4sot0fF2_-1t4wbEag=s64",
      "userId": "15606141405640455496"
     }
    }
   },
   "source": [
    "splits = RandomSplitter(valid_pct=0.1)(range_of(train_df))"
   ],
   "execution_count": 15,
   "outputs": []
  },
  {
   "cell_type": "code",
   "metadata": {
    "id": "cwgx2KYQ0qWk",
    "colab_type": "code",
    "colab": {},
    "executionInfo": {
     "status": "ok",
     "timestamp": 1599809897503,
     "user_tz": -270,
     "elapsed": 7947,
     "user": {
      "displayName": "DaniaL Ha",
      "photoUrl": "https://lh3.googleusercontent.com/a-/AOh14GiRcJ0WxjalGy0bNYHXw1hl4sot0fF2_-1t4wbEag=s64",
      "userId": "15606141405640455496"
     }
    }
   },
   "source": [
    "to = TabularPandas(train_df, procs=[Categorify, FillMissing,Normalize],\n",
    "                   cat_names = cat_vars,\n",
    "                   cont_names = cont_vars,\n",
    "                   y_names=dep_var,\n",
    "                   splits=splits)"
   ],
   "execution_count": 16,
   "outputs": []
  },
  {
   "cell_type": "code",
   "metadata": {
    "id": "dyaI1AJ41Dfo",
    "colab_type": "code",
    "colab": {},
    "executionInfo": {
     "status": "ok",
     "timestamp": 1599809901085,
     "user_tz": -270,
     "elapsed": 9038,
     "user": {
      "displayName": "DaniaL Ha",
      "photoUrl": "https://lh3.googleusercontent.com/a-/AOh14GiRcJ0WxjalGy0bNYHXw1hl4sot0fF2_-1t4wbEag=s64",
      "userId": "15606141405640455496"
     }
    }
   },
   "source": [
    "dls = to.dataloaders(bs=64)"
   ],
   "execution_count": 17,
   "outputs": []
  },
  {
   "cell_type": "code",
   "metadata": {
    "id": "wjC634IL1K7r",
    "colab_type": "code",
    "colab": {
     "base_uri": "https://localhost:8080/",
     "height": 379
    },
    "executionInfo": {
     "status": "ok",
     "timestamp": 1599809916480,
     "user_tz": -270,
     "elapsed": 2093,
     "user": {
      "displayName": "DaniaL Ha",
      "photoUrl": "https://lh3.googleusercontent.com/a-/AOh14GiRcJ0WxjalGy0bNYHXw1hl4sot0fF2_-1t4wbEag=s64",
      "userId": "15606141405640455496"
     }
    },
    "outputId": "25f51a06-b494-41af-9aa3-e52a93829f92"
   },
   "source": [
    "dls.show_batch()"
   ],
   "execution_count": 18,
   "outputs": [
    {
     "output_type": "display_data",
     "data": {
      "text/html": [
       "<table border=\"1\" class=\"dataframe\">\n",
       "  <thead>\n",
       "    <tr style=\"text-align: right;\">\n",
       "      <th></th>\n",
       "      <th>seller</th>\n",
       "      <th>item</th>\n",
       "      <th>Week</th>\n",
       "      <th>Year</th>\n",
       "      <th>Month</th>\n",
       "      <th>Day</th>\n",
       "      <th>Dayofweek</th>\n",
       "      <th>Dayofyear</th>\n",
       "      <th>Is_month_end</th>\n",
       "      <th>Is_month_start</th>\n",
       "      <th>Is_quarter_end</th>\n",
       "      <th>Is_quarter_start</th>\n",
       "      <th>Is_year_end</th>\n",
       "      <th>Is_year_start</th>\n",
       "      <th>sales</th>\n",
       "    </tr>\n",
       "  </thead>\n",
       "  <tbody>\n",
       "    <tr>\n",
       "      <th>0</th>\n",
       "      <td>2</td>\n",
       "      <td>22</td>\n",
       "      <td>1</td>\n",
       "      <td>2016</td>\n",
       "      <td>1</td>\n",
       "      <td>6</td>\n",
       "      <td>2</td>\n",
       "      <td>6</td>\n",
       "      <td>False</td>\n",
       "      <td>False</td>\n",
       "      <td>False</td>\n",
       "      <td>False</td>\n",
       "      <td>False</td>\n",
       "      <td>False</td>\n",
       "      <td>50</td>\n",
       "    </tr>\n",
       "    <tr>\n",
       "      <th>1</th>\n",
       "      <td>9</td>\n",
       "      <td>39</td>\n",
       "      <td>39</td>\n",
       "      <td>2015</td>\n",
       "      <td>9</td>\n",
       "      <td>26</td>\n",
       "      <td>5</td>\n",
       "      <td>269</td>\n",
       "      <td>False</td>\n",
       "      <td>False</td>\n",
       "      <td>False</td>\n",
       "      <td>False</td>\n",
       "      <td>False</td>\n",
       "      <td>False</td>\n",
       "      <td>80</td>\n",
       "    </tr>\n",
       "    <tr>\n",
       "      <th>2</th>\n",
       "      <td>4</td>\n",
       "      <td>6</td>\n",
       "      <td>40</td>\n",
       "      <td>2017</td>\n",
       "      <td>10</td>\n",
       "      <td>4</td>\n",
       "      <td>2</td>\n",
       "      <td>277</td>\n",
       "      <td>False</td>\n",
       "      <td>False</td>\n",
       "      <td>False</td>\n",
       "      <td>False</td>\n",
       "      <td>False</td>\n",
       "      <td>False</td>\n",
       "      <td>58</td>\n",
       "    </tr>\n",
       "    <tr>\n",
       "      <th>3</th>\n",
       "      <td>2</td>\n",
       "      <td>26</td>\n",
       "      <td>48</td>\n",
       "      <td>2018</td>\n",
       "      <td>11</td>\n",
       "      <td>30</td>\n",
       "      <td>4</td>\n",
       "      <td>334</td>\n",
       "      <td>True</td>\n",
       "      <td>False</td>\n",
       "      <td>False</td>\n",
       "      <td>False</td>\n",
       "      <td>False</td>\n",
       "      <td>False</td>\n",
       "      <td>52</td>\n",
       "    </tr>\n",
       "    <tr>\n",
       "      <th>4</th>\n",
       "      <td>2</td>\n",
       "      <td>12</td>\n",
       "      <td>33</td>\n",
       "      <td>2019</td>\n",
       "      <td>8</td>\n",
       "      <td>12</td>\n",
       "      <td>0</td>\n",
       "      <td>224</td>\n",
       "      <td>False</td>\n",
       "      <td>False</td>\n",
       "      <td>False</td>\n",
       "      <td>False</td>\n",
       "      <td>False</td>\n",
       "      <td>False</td>\n",
       "      <td>76</td>\n",
       "    </tr>\n",
       "    <tr>\n",
       "      <th>5</th>\n",
       "      <td>2</td>\n",
       "      <td>45</td>\n",
       "      <td>47</td>\n",
       "      <td>2016</td>\n",
       "      <td>11</td>\n",
       "      <td>25</td>\n",
       "      <td>4</td>\n",
       "      <td>330</td>\n",
       "      <td>False</td>\n",
       "      <td>False</td>\n",
       "      <td>False</td>\n",
       "      <td>False</td>\n",
       "      <td>False</td>\n",
       "      <td>False</td>\n",
       "      <td>54</td>\n",
       "    </tr>\n",
       "    <tr>\n",
       "      <th>6</th>\n",
       "      <td>10</td>\n",
       "      <td>3</td>\n",
       "      <td>34</td>\n",
       "      <td>2018</td>\n",
       "      <td>8</td>\n",
       "      <td>26</td>\n",
       "      <td>6</td>\n",
       "      <td>238</td>\n",
       "      <td>False</td>\n",
       "      <td>False</td>\n",
       "      <td>False</td>\n",
       "      <td>False</td>\n",
       "      <td>False</td>\n",
       "      <td>False</td>\n",
       "      <td>89</td>\n",
       "    </tr>\n",
       "    <tr>\n",
       "      <th>7</th>\n",
       "      <td>9</td>\n",
       "      <td>45</td>\n",
       "      <td>12</td>\n",
       "      <td>2016</td>\n",
       "      <td>3</td>\n",
       "      <td>26</td>\n",
       "      <td>5</td>\n",
       "      <td>86</td>\n",
       "      <td>False</td>\n",
       "      <td>False</td>\n",
       "      <td>False</td>\n",
       "      <td>False</td>\n",
       "      <td>False</td>\n",
       "      <td>False</td>\n",
       "      <td>33</td>\n",
       "    </tr>\n",
       "    <tr>\n",
       "      <th>8</th>\n",
       "      <td>3</td>\n",
       "      <td>13</td>\n",
       "      <td>30</td>\n",
       "      <td>2019</td>\n",
       "      <td>7</td>\n",
       "      <td>25</td>\n",
       "      <td>3</td>\n",
       "      <td>206</td>\n",
       "      <td>False</td>\n",
       "      <td>False</td>\n",
       "      <td>False</td>\n",
       "      <td>False</td>\n",
       "      <td>False</td>\n",
       "      <td>False</td>\n",
       "      <td>67</td>\n",
       "    </tr>\n",
       "    <tr>\n",
       "      <th>9</th>\n",
       "      <td>9</td>\n",
       "      <td>3</td>\n",
       "      <td>15</td>\n",
       "      <td>2018</td>\n",
       "      <td>4</td>\n",
       "      <td>11</td>\n",
       "      <td>2</td>\n",
       "      <td>101</td>\n",
       "      <td>False</td>\n",
       "      <td>False</td>\n",
       "      <td>False</td>\n",
       "      <td>False</td>\n",
       "      <td>False</td>\n",
       "      <td>False</td>\n",
       "      <td>58</td>\n",
       "    </tr>\n",
       "  </tbody>\n",
       "</table>"
      ],
      "text/plain": [
       "<IPython.core.display.HTML object>"
      ]
     },
     "metadata": {
      "tags": []
     }
    }
   ]
  },
  {
   "cell_type": "code",
   "metadata": {
    "id": "4qeoyFoT1Mri",
    "colab_type": "code",
    "colab": {},
    "executionInfo": {
     "status": "ok",
     "timestamp": 1599809916482,
     "user_tz": -270,
     "elapsed": 1299,
     "user": {
      "displayName": "DaniaL Ha",
      "photoUrl": "https://lh3.googleusercontent.com/a-/AOh14GiRcJ0WxjalGy0bNYHXw1hl4sot0fF2_-1t4wbEag=s64",
      "userId": "15606141405640455496"
     }
    }
   },
   "source": [
    "learn = tabular_learner(dls, metrics=rmse)"
   ],
   "execution_count": 19,
   "outputs": []
  },
  {
   "cell_type": "code",
   "metadata": {
    "id": "g46J3xig12C8",
    "colab_type": "code",
    "colab": {
     "base_uri": "https://localhost:8080/",
     "height": 612
    },
    "executionInfo": {
     "status": "ok",
     "timestamp": 1599809919930,
     "user_tz": -270,
     "elapsed": 1354,
     "user": {
      "displayName": "DaniaL Ha",
      "photoUrl": "https://lh3.googleusercontent.com/a-/AOh14GiRcJ0WxjalGy0bNYHXw1hl4sot0fF2_-1t4wbEag=s64",
      "userId": "15606141405640455496"
     }
    },
    "outputId": "0c912b38-b114-4236-bc3f-ff61c5fd8a00"
   },
   "source": [
    "learn.model"
   ],
   "execution_count": 20,
   "outputs": [
    {
     "output_type": "execute_result",
     "data": {
      "text/plain": [
       "TabularModel(\n",
       "  (embeds): ModuleList(\n",
       "    (0): Embedding(11, 6)\n",
       "    (1): Embedding(51, 14)\n",
       "    (2): Embedding(54, 15)\n",
       "    (3): Embedding(7, 5)\n",
       "    (4): Embedding(13, 7)\n",
       "    (5): Embedding(32, 11)\n",
       "    (6): Embedding(8, 5)\n",
       "    (7): Embedding(367, 44)\n",
       "    (8): Embedding(3, 3)\n",
       "    (9): Embedding(3, 3)\n",
       "    (10): Embedding(3, 3)\n",
       "    (11): Embedding(3, 3)\n",
       "    (12): Embedding(3, 3)\n",
       "    (13): Embedding(3, 3)\n",
       "  )\n",
       "  (emb_drop): Dropout(p=0.0, inplace=False)\n",
       "  (bn_cont): BatchNorm1d(0, eps=1e-05, momentum=0.1, affine=True, track_running_stats=True)\n",
       "  (layers): Sequential(\n",
       "    (0): LinBnDrop(\n",
       "      (0): BatchNorm1d(125, eps=1e-05, momentum=0.1, affine=True, track_running_stats=True)\n",
       "      (1): Linear(in_features=125, out_features=200, bias=False)\n",
       "      (2): ReLU(inplace=True)\n",
       "    )\n",
       "    (1): LinBnDrop(\n",
       "      (0): BatchNorm1d(200, eps=1e-05, momentum=0.1, affine=True, track_running_stats=True)\n",
       "      (1): Linear(in_features=200, out_features=100, bias=False)\n",
       "      (2): ReLU(inplace=True)\n",
       "    )\n",
       "    (2): LinBnDrop(\n",
       "      (0): Linear(in_features=100, out_features=1, bias=True)\n",
       "    )\n",
       "  )\n",
       ")"
      ]
     },
     "metadata": {
      "tags": []
     },
     "execution_count": 20
    }
   ]
  },
  {
   "cell_type": "code",
   "metadata": {
    "id": "Vm6eOwQFF7sH",
    "colab_type": "code",
    "colab": {
     "base_uri": "https://localhost:8080/",
     "height": 80
    },
    "executionInfo": {
     "status": "ok",
     "timestamp": 1599810157002,
     "user_tz": -270,
     "elapsed": 218888,
     "user": {
      "displayName": "DaniaL Ha",
      "photoUrl": "https://lh3.googleusercontent.com/a-/AOh14GiRcJ0WxjalGy0bNYHXw1hl4sot0fF2_-1t4wbEag=s64",
      "userId": "15606141405640455496"
     }
    },
    "outputId": "0e1b4a7f-7258-45a3-d0b7-9f0520f2a0c2"
   },
   "source": [
    "learn.fit_one_cycle(1)"
   ],
   "execution_count": 21,
   "outputs": [
    {
     "output_type": "display_data",
     "data": {
      "text/html": [
       "<table border=\"1\" class=\"dataframe\">\n",
       "  <thead>\n",
       "    <tr style=\"text-align: left;\">\n",
       "      <th>epoch</th>\n",
       "      <th>train_loss</th>\n",
       "      <th>valid_loss</th>\n",
       "      <th>_rmse</th>\n",
       "      <th>time</th>\n",
       "    </tr>\n",
       "  </thead>\n",
       "  <tbody>\n",
       "    <tr>\n",
       "      <td>0</td>\n",
       "      <td>60.330025</td>\n",
       "      <td>55.010132</td>\n",
       "      <td>7.416883</td>\n",
       "      <td>03:37</td>\n",
       "    </tr>\n",
       "  </tbody>\n",
       "</table>"
      ],
      "text/plain": [
       "<IPython.core.display.HTML object>"
      ]
     },
     "metadata": {
      "tags": []
     }
    }
   ]
  },
  {
   "cell_type": "code",
   "metadata": {
    "id": "jKDJmkLOHdgl",
    "colab_type": "code",
    "colab": {
     "base_uri": "https://localhost:8080/",
     "height": 80
    },
    "executionInfo": {
     "status": "ok",
     "timestamp": 1599810389662,
     "user_tz": -270,
     "elapsed": 220036,
     "user": {
      "displayName": "DaniaL Ha",
      "photoUrl": "https://lh3.googleusercontent.com/a-/AOh14GiRcJ0WxjalGy0bNYHXw1hl4sot0fF2_-1t4wbEag=s64",
      "userId": "15606141405640455496"
     }
    },
    "outputId": "3ddda014-9916-4c94-9855-ecee40b29679"
   },
   "source": [
    "learn.fit_one_cycle(1)"
   ],
   "execution_count": 22,
   "outputs": [
    {
     "output_type": "display_data",
     "data": {
      "text/html": [
       "<table border=\"1\" class=\"dataframe\">\n",
       "  <thead>\n",
       "    <tr style=\"text-align: left;\">\n",
       "      <th>epoch</th>\n",
       "      <th>train_loss</th>\n",
       "      <th>valid_loss</th>\n",
       "      <th>_rmse</th>\n",
       "      <th>time</th>\n",
       "    </tr>\n",
       "  </thead>\n",
       "  <tbody>\n",
       "    <tr>\n",
       "      <td>0</td>\n",
       "      <td>58.667175</td>\n",
       "      <td>54.341873</td>\n",
       "      <td>7.371696</td>\n",
       "      <td>03:38</td>\n",
       "    </tr>\n",
       "  </tbody>\n",
       "</table>"
      ],
      "text/plain": [
       "<IPython.core.display.HTML object>"
      ]
     },
     "metadata": {
      "tags": []
     }
    }
   ]
  },
  {
   "cell_type": "code",
   "metadata": {
    "id": "lVsoHm5U4z6p",
    "colab_type": "code",
    "colab": {
     "base_uri": "https://localhost:8080/",
     "height": 300
    },
    "executionInfo": {
     "status": "ok",
     "timestamp": 1599810410536,
     "user_tz": -270,
     "elapsed": 3859,
     "user": {
      "displayName": "DaniaL Ha",
      "photoUrl": "https://lh3.googleusercontent.com/a-/AOh14GiRcJ0WxjalGy0bNYHXw1hl4sot0fF2_-1t4wbEag=s64",
      "userId": "15606141405640455496"
     }
    },
    "outputId": "c4b347ba-4920-49d7-94f4-9b3639f01b4f"
   },
   "source": [
    "learn.lr_find()"
   ],
   "execution_count": 23,
   "outputs": [
    {
     "output_type": "display_data",
     "data": {
      "text/html": [
       ""
      ],
      "text/plain": [
       "<IPython.core.display.HTML object>"
      ]
     },
     "metadata": {
      "tags": []
     }
    },
    {
     "output_type": "execute_result",
     "data": {
      "text/plain": [
       "SuggestedLRs(lr_min=9.12010818865383e-08, lr_steep=1.737800812406931e-05)"
      ]
     },
     "metadata": {
      "tags": []
     },
     "execution_count": 23
    },
    {
     "output_type": "display_data",
     "data": {
      "image/png": "[encoded data removed]",
      "text/plain": [
       "<Figure size 432x288 with 1 Axes>"
      ]
     },
     "metadata": {
      "tags": [],
      "needs_background": "light"
     }
    }
   ]
  },
  {
   "cell_type": "code",
   "metadata": {
    "id": "tLR0LQV15C6A",
    "colab_type": "code",
    "colab": {
     "base_uri": "https://localhost:8080/",
     "height": 80
    },
    "executionInfo": {
     "status": "ok",
     "timestamp": 1599810933113,
     "user_tz": -270,
     "elapsed": 218740,
     "user": {
      "displayName": "DaniaL Ha",
      "photoUrl": "https://lh3.googleusercontent.com/a-/AOh14GiRcJ0WxjalGy0bNYHXw1hl4sot0fF2_-1t4wbEag=s64",
      "userId": "15606141405640455496"
     }
    },
    "outputId": "1c70a871-1cdd-4f51-9260-204827aad753"
   },
   "source": [
    "learn.fit_one_cycle(1,1.737800812406931e-05, wd=0.2)"
   ],
   "execution_count": 25,
   "outputs": [
    {
     "output_type": "display_data",
     "data": {
      "text/html": [
       "<table border=\"1\" class=\"dataframe\">\n",
       "  <thead>\n",
       "    <tr style=\"text-align: left;\">\n",
       "      <th>epoch</th>\n",
       "      <th>train_loss</th>\n",
       "      <th>valid_loss</th>\n",
       "      <th>_rmse</th>\n",
       "      <th>time</th>\n",
       "    </tr>\n",
       "  </thead>\n",
       "  <tbody>\n",
       "    <tr>\n",
       "      <td>0</td>\n",
       "      <td>56.059853</td>\n",
       "      <td>54.234310</td>\n",
       "      <td>7.364401</td>\n",
       "      <td>03:37</td>\n",
       "    </tr>\n",
       "  </tbody>\n",
       "</table>"
      ],
      "text/plain": [
       "<IPython.core.display.HTML object>"
      ]
     },
     "metadata": {
      "tags": []
     }
    }
   ]
  },
  {
   "cell_type": "code",
   "metadata": {
    "id": "HxQRnwV0Ky9O",
    "colab_type": "code",
    "colab": {},
    "executionInfo": {
     "status": "ok",
     "timestamp": 1599811076027,
     "user_tz": -270,
     "elapsed": 1214,
     "user": {
      "displayName": "DaniaL Ha",
      "photoUrl": "https://lh3.googleusercontent.com/a-/AOh14GiRcJ0WxjalGy0bNYHXw1hl4sot0fF2_-1t4wbEag=s64",
      "userId": "15606141405640455496"
     }
    }
   },
   "source": [
    "test_df = add_datepart(test_df, 'date')"
   ],
   "execution_count": 29,
   "outputs": []
  },
  {
   "cell_type": "code",
   "metadata": {
    "id": "-YnUVKJrD2Sw",
    "colab_type": "code",
    "colab": {},
    "executionInfo": {
     "status": "ok",
     "timestamp": 1599811080236,
     "user_tz": -270,
     "elapsed": 1309,
     "user": {
      "displayName": "DaniaL Ha",
      "photoUrl": "https://lh3.googleusercontent.com/a-/AOh14GiRcJ0WxjalGy0bNYHXw1hl4sot0fF2_-1t4wbEag=s64",
      "userId": "15606141405640455496"
     }
    }
   },
   "source": [
    "dl = learn.dls.test_dl(test_df)"
   ],
   "execution_count": 30,
   "outputs": []
  },
  {
   "cell_type": "code",
   "metadata": {
    "id": "dp2u2UOVKioa",
    "colab_type": "code",
    "colab": {
     "base_uri": "https://localhost:8080/",
     "height": 17
    },
    "executionInfo": {
     "status": "ok",
     "timestamp": 1599811170855,
     "user_tz": -270,
     "elapsed": 3590,
     "user": {
      "displayName": "DaniaL Ha",
      "photoUrl": "https://lh3.googleusercontent.com/a-/AOh14GiRcJ0WxjalGy0bNYHXw1hl4sot0fF2_-1t4wbEag=s64",
      "userId": "15606141405640455496"
     }
    },
    "outputId": "204bafec-0165-4145-d1ef-5dde04dcc2ab"
   },
   "source": [
    "x = learn.get_preds(dl=dl)"
   ],
   "execution_count": 32,
   "outputs": [
    {
     "output_type": "display_data",
     "data": {
      "text/html": [
       ""
      ],
      "text/plain": [
       "<IPython.core.display.HTML object>"
      ]
     },
     "metadata": {
      "tags": []
     }
    }
   ]
  },
  {
   "cell_type": "code",
   "metadata": {
    "id": "P0nGf3zNKjRu",
    "colab_type": "code",
    "colab": {
     "base_uri": "https://localhost:8080/",
     "height": 34
    },
    "executionInfo": {
     "status": "ok",
     "timestamp": 1599811201240,
     "user_tz": -270,
     "elapsed": 1345,
     "user": {
      "displayName": "DaniaL Ha",
      "photoUrl": "https://lh3.googleusercontent.com/a-/AOh14GiRcJ0WxjalGy0bNYHXw1hl4sot0fF2_-1t4wbEag=s64",
      "userId": "15606141405640455496"
     }
    },
    "outputId": "b39f4d8a-6daf-4f02-e178-210180e4fcc9"
   },
   "source": [
    "len(x[0])"
   ],
   "execution_count": 37,
   "outputs": [
    {
     "output_type": "execute_result",
     "data": {
      "text/plain": [
       "13000"
      ]
     },
     "metadata": {
      "tags": []
     },
     "execution_count": 37
    }
   ]
  },
  {
   "cell_type": "code",
   "metadata": {
    "id": "00gJ2O-tLcMG",
    "colab_type": "code",
    "colab": {},
    "executionInfo": {
     "status": "ok",
     "timestamp": 1599812154318,
     "user_tz": -270,
     "elapsed": 1377,
     "user": {
      "displayName": "DaniaL Ha",
      "photoUrl": "https://lh3.googleusercontent.com/a-/AOh14GiRcJ0WxjalGy0bNYHXw1hl4sot0fF2_-1t4wbEag=s64",
      "userId": "15606141405640455496"
     }
    }
   },
   "source": [
    "a = list()\n",
    "for i in range(len(x[0])):\n",
    "  a.append(x[0][i].item())\n",
    "test_df['sales'] = a"
   ],
   "execution_count": 61,
   "outputs": []
  },
  {
   "cell_type": "code",
   "metadata": {
    "id": "Gf-ttLWjLume",
    "colab_type": "code",
    "colab": {},
    "executionInfo": {
     "status": "ok",
     "timestamp": 1599812156306,
     "user_tz": -270,
     "elapsed": 1594,
     "user": {
      "displayName": "DaniaL Ha",
      "photoUrl": "https://lh3.googleusercontent.com/a-/AOh14GiRcJ0WxjalGy0bNYHXw1hl4sot0fF2_-1t4wbEag=s64",
      "userId": "15606141405640455496"
     }
    }
   },
   "source": [
    "prediction_df = test_df.copy()"
   ],
   "execution_count": 62,
   "outputs": []
  },
  {
   "cell_type": "code",
   "metadata": {
    "id": "Xv_tR2mBMaDM",
    "colab_type": "code",
    "colab": {},
    "executionInfo": {
     "status": "ok",
     "timestamp": 1599812156308,
     "user_tz": -270,
     "elapsed": 1184,
     "user": {
      "displayName": "DaniaL Ha",
      "photoUrl": "https://lh3.googleusercontent.com/a-/AOh14GiRcJ0WxjalGy0bNYHXw1hl4sot0fF2_-1t4wbEag=s64",
      "userId": "15606141405640455496"
     }
    }
   },
   "source": [
    "prediction_df.drop(labels=\n",
    "                   ['seller', 'Week', 'item', 'Year', 'Month', 'Day', 'Dayofweek', 'Dayofyear', 'Is_month_end', 'Is_month_start', 'Is_quarter_end', 'Is_quarter_start', 'Is_year_end', 'Is_year_start', 'Elapsed'],\n",
    "                   axis=1, inplace=True)"
   ],
   "execution_count": 63,
   "outputs": []
  },
  {
   "cell_type": "code",
   "metadata": {
    "id": "Bx2FIimTMcff",
    "colab_type": "code",
    "colab": {},
    "executionInfo": {
     "status": "ok",
     "timestamp": 1599812220158,
     "user_tz": -270,
     "elapsed": 1289,
     "user": {
      "displayName": "DaniaL Ha",
      "photoUrl": "https://lh3.googleusercontent.com/a-/AOh14GiRcJ0WxjalGy0bNYHXw1hl4sot0fF2_-1t4wbEag=s64",
      "userId": "15606141405640455496"
     }
    }
   },
   "source": [
    "prediction_df.to_csv(base_dir + '/predictions.csv', index= False)"
   ],
   "execution_count": 65,
   "outputs": []
  },
  {
   "cell_type": "code",
   "metadata": {
    "id": "hVm60CPlOROK",
    "colab_type": "code",
    "colab": {}
   },
   "source": [],
   "execution_count": null,
   "outputs": []
  }
 ]
}
