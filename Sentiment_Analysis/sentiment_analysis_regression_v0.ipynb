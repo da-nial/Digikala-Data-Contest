{
 "nbformat": 4,
 "nbformat_minor": 0,
 "metadata": {
  "colab": {
   "name": "Digikala - Sentiment Analysis - v0 - Regression.ipynb",
   "provenance": [
    {
     "file_id": "1CxE__zd9WGH-FB_3sSEd-Aqrh7xgrQs9",
     "timestamp": 1599856386354
    },
    {
     "file_id": "1mySjznxagDUtBZT4MeH1aN0ygufJ1LNi",
     "timestamp": 1599855251281
    },
    {
     "file_id": "1R5PVNRKoDDPZVFFZRSRpqQ3LD1gsxGd_",
     "timestamp": 1599845581811
    },
    {
     "file_id": "1OVV-dOiGsugHY94AtQKaJ5c5u12DpHBh",
     "timestamp": 1599842103248
    }
   ],
   "collapsed_sections": [],
   "authorship_tag": "ABX9TyMaaTQOQU8/xLDRlYmaoAgQ"
  },
  "kernelspec": {
   "name": "python3",
   "display_name": "Python 3"
  },
  "accelerator": "GPU"
 },
 "cells": [
  {
   "cell_type": "code",
   "metadata": {
    "id": "fxOibDQFWsKg",
    "colab_type": "code",
    "colab": {
     "base_uri": "https://localhost:8080/",
     "height": 34
    },
    "executionInfo": {
     "status": "ok",
     "timestamp": 1599858145534,
     "user_tz": -270,
     "elapsed": 32452,
     "user": {
      "displayName": "DaniaL Ha",
      "photoUrl": "https://lh3.googleusercontent.com/a-/AOh14GiRcJ0WxjalGy0bNYHXw1hl4sot0fF2_-1t4wbEag=s64",
      "userId": "15606141405640455496"
     }
    },
    "outputId": "58c3f420-252a-49ab-b8e8-fd63b04b0e23"
   },
   "source": [
    "from google.colab import drive\n",
    "drive.mount('/content/gdrive')"
   ],
   "execution_count": 1,
   "outputs": [
    {
     "output_type": "stream",
     "text": [
      "Mounted at /content/gdrive\n"
     ],
     "name": "stdout"
    }
   ]
  },
  {
   "cell_type": "code",
   "metadata": {
    "id": "3TvygBlvXGCt",
    "colab_type": "code",
    "colab": {},
    "executionInfo": {
     "status": "ok",
     "timestamp": 1599858148905,
     "user_tz": -270,
     "elapsed": 2528,
     "user": {
      "displayName": "DaniaL Ha",
      "photoUrl": "https://lh3.googleusercontent.com/a-/AOh14GiRcJ0WxjalGy0bNYHXw1hl4sot0fF2_-1t4wbEag=s64",
      "userId": "15606141405640455496"
     }
    }
   },
   "source": [
    "from tensorflow.keras.preprocessing.text import Tokenizer\n",
    "from tensorflow.keras.preprocessing.sequence import pad_sequences\n",
    "from tensorflow.keras.callbacks import EarlyStopping\n",
    "\n",
    "import tensorflow as tf\n",
    "import pandas as pd\n",
    "import numpy as np"
   ],
   "execution_count": 2,
   "outputs": []
  },
  {
   "cell_type": "code",
   "metadata": {
    "id": "iMv-TZEAYalh",
    "colab_type": "code",
    "colab": {},
    "executionInfo": {
     "status": "ok",
     "timestamp": 1599858148906,
     "user_tz": -270,
     "elapsed": 874,
     "user": {
      "displayName": "DaniaL Ha",
      "photoUrl": "https://lh3.googleusercontent.com/a-/AOh14GiRcJ0WxjalGy0bNYHXw1hl4sot0fF2_-1t4wbEag=s64",
      "userId": "15606141405640455496"
     }
    }
   },
   "source": [
    "base_dir = '/content/gdrive/My Drive/Digikala Contest/Sentiment Analysis'"
   ],
   "execution_count": 3,
   "outputs": []
  },
  {
   "cell_type": "code",
   "metadata": {
    "id": "oGIJAsZsYdGl",
    "colab_type": "code",
    "colab": {
     "base_uri": "https://localhost:8080/",
     "height": 51
    },
    "executionInfo": {
     "status": "ok",
     "timestamp": 1599858159944,
     "user_tz": -270,
     "elapsed": 7256,
     "user": {
      "displayName": "DaniaL Ha",
      "photoUrl": "https://lh3.googleusercontent.com/a-/AOh14GiRcJ0WxjalGy0bNYHXw1hl4sot0fF2_-1t4wbEag=s64",
      "userId": "15606141405640455496"
     }
    },
    "outputId": "7b6a2c5f-493f-438e-b21b-6296b427fa53"
   },
   "source": [
    "!unzip '/content/gdrive/My Drive/Digikala Contest/Sentiment Analysis/nlp_comments_users.zip' -d '/content/gdrive/My Drive/Digikala Contest/Sentiment Analysis'"
   ],
   "execution_count": 4,
   "outputs": [
    {
     "output_type": "stream",
     "text": [
      "Archive:  /content/gdrive/My Drive/Digikala Contest/Sentiment Analysis/nlp_comments_users.zip\n",
      "replace /content/gdrive/My Drive/Digikala Contest/Sentiment Analysis/test_users.csv? [y]es, [n]o, [A]ll, [N]one, [r]ename: N\n"
     ],
     "name": "stdout"
    }
   ]
  },
  {
   "cell_type": "code",
   "metadata": {
    "id": "W-fPzAi2YnUI",
    "colab_type": "code",
    "colab": {},
    "executionInfo": {
     "status": "ok",
     "timestamp": 1599858167068,
     "user_tz": -270,
     "elapsed": 5865,
     "user": {
      "displayName": "DaniaL Ha",
      "photoUrl": "https://lh3.googleusercontent.com/a-/AOh14GiRcJ0WxjalGy0bNYHXw1hl4sot0fF2_-1t4wbEag=s64",
      "userId": "15606141405640455496"
     }
    }
   },
   "source": [
    "train_df = pd.read_csv(base_dir + '/train_users.csv') \n",
    "test_df = pd.read_csv(base_dir + '/test_users.csv')"
   ],
   "execution_count": 5,
   "outputs": []
  },
  {
   "cell_type": "code",
   "metadata": {
    "id": "R-Fc7QyVYuHr",
    "colab_type": "code",
    "colab": {
     "base_uri": "https://localhost:8080/",
     "height": 289
    },
    "executionInfo": {
     "status": "ok",
     "timestamp": 1599858167069,
     "user_tz": -270,
     "elapsed": 4251,
     "user": {
      "displayName": "DaniaL Ha",
      "photoUrl": "https://lh3.googleusercontent.com/a-/AOh14GiRcJ0WxjalGy0bNYHXw1hl4sot0fF2_-1t4wbEag=s64",
      "userId": "15606141405640455496"
     }
    },
    "outputId": "e8fad9d3-4571-40f5-f8d1-bde60debb61a"
   },
   "source": [
    "train_df.head(5)"
   ],
   "execution_count": 6,
   "outputs": [
    {
     "output_type": "execute_result",
     "data": {
      "text/html": [
       "<div>\n",
       "<style scoped>\n",
       "    .dataframe tbody tr th:only-of-type {\n",
       "        vertical-align: middle;\n",
       "    }\n",
       "\n",
       "    .dataframe tbody tr th {\n",
       "        vertical-align: top;\n",
       "    }\n",
       "\n",
       "    .dataframe thead th {\n",
       "        text-align: right;\n",
       "    }\n",
       "</style>\n",
       "<table border=\"1\" class=\"dataframe\">\n",
       "  <thead>\n",
       "    <tr style=\"text-align: right;\">\n",
       "      <th></th>\n",
       "      <th>id</th>\n",
       "      <th>title</th>\n",
       "      <th>comment</th>\n",
       "      <th>advantages</th>\n",
       "      <th>disadvantages</th>\n",
       "      <th>title_fa_product</th>\n",
       "      <th>title_fa_category</th>\n",
       "      <th>is_buyer</th>\n",
       "      <th>verification_status</th>\n",
       "      <th>rate</th>\n",
       "    </tr>\n",
       "  </thead>\n",
       "  <tbody>\n",
       "    <tr>\n",
       "      <th>0</th>\n",
       "      <td>0</td>\n",
       "      <td>NaN</td>\n",
       "      <td>مثل بقیه محصولات الکل دار پوست رو خشک نمیکنه</td>\n",
       "      <td>NaN</td>\n",
       "      <td>NaN</td>\n",
       "      <td>ژل ضد عفونی کننده دست شون مدل Aloevera حجم 300...</td>\n",
       "      <td>ضدعفونی کننده</td>\n",
       "      <td>1</td>\n",
       "      <td>1</td>\n",
       "      <td>100.0</td>\n",
       "    </tr>\n",
       "    <tr>\n",
       "      <th>1</th>\n",
       "      <td>1</td>\n",
       "      <td>Redmi 8</td>\n",
       "      <td>با این مبلغ اگه امکانات و ارزش خرید واستون مهم...</td>\n",
       "      <td>[\"رم4\\r\",\"قیمت نسبت به سایر برندها\\r\",\"طراحی و...</td>\n",
       "      <td>[\"نداشتن هندزفری\"]</td>\n",
       "      <td>گوشی موبایل شیائومی مدل Redmi 8 M1908C3IG دو س...</td>\n",
       "      <td>گوشی موبایل</td>\n",
       "      <td>1</td>\n",
       "      <td>1</td>\n",
       "      <td>80.0</td>\n",
       "    </tr>\n",
       "    <tr>\n",
       "      <th>2</th>\n",
       "      <td>2</td>\n",
       "      <td>عالی</td>\n",
       "      <td>خوبه فقط کج و کوله بدستم رسید ولی پسرم خیلی خو...</td>\n",
       "      <td>NaN</td>\n",
       "      <td>NaN</td>\n",
       "      <td>ماسک کودک طرح سگ نگهبان مدل رابل</td>\n",
       "      <td>ایفای نقش</td>\n",
       "      <td>1</td>\n",
       "      <td>1</td>\n",
       "      <td>100.0</td>\n",
       "    </tr>\n",
       "    <tr>\n",
       "      <th>3</th>\n",
       "      <td>3</td>\n",
       "      <td>NaN</td>\n",
       "      <td>در کل خوب بود ولی متاسفانه درب محصول شکسته بود...</td>\n",
       "      <td>NaN</td>\n",
       "      <td>NaN</td>\n",
       "      <td>مایع ضدعفونی کننده میوه و سبزیجات من مدل WT حج...</td>\n",
       "      <td>ضدعفونی کننده سطوح</td>\n",
       "      <td>1</td>\n",
       "      <td>1</td>\n",
       "      <td>70.0</td>\n",
       "    </tr>\n",
       "    <tr>\n",
       "      <th>4</th>\n",
       "      <td>4</td>\n",
       "      <td>NaN</td>\n",
       "      <td>من که خیلی باهاش حال کردم فقط من که همیشه L می...</td>\n",
       "      <td>NaN</td>\n",
       "      <td>NaN</td>\n",
       "      <td>تی شرت آستین کوتاه مردانه باینت کد 323-1 btt</td>\n",
       "      <td>تی شرت و پولوشرت مردانه</td>\n",
       "      <td>1</td>\n",
       "      <td>1</td>\n",
       "      <td>72.0</td>\n",
       "    </tr>\n",
       "  </tbody>\n",
       "</table>\n",
       "</div>"
      ],
      "text/plain": [
       "   id    title  ... verification_status   rate\n",
       "0   0      NaN  ...                   1  100.0\n",
       "1   1  Redmi 8  ...                   1   80.0\n",
       "2   2     عالی  ...                   1  100.0\n",
       "3   3      NaN  ...                   1   70.0\n",
       "4   4      NaN  ...                   1   72.0\n",
       "\n",
       "[5 rows x 10 columns]"
      ]
     },
     "metadata": {
      "tags": []
     },
     "execution_count": 6
    }
   ]
  },
  {
   "cell_type": "code",
   "metadata": {
    "id": "yPS6jHZjiiHN",
    "colab_type": "code",
    "colab": {
     "base_uri": "https://localhost:8080/",
     "height": 238
    },
    "executionInfo": {
     "status": "ok",
     "timestamp": 1599858167070,
     "user_tz": -270,
     "elapsed": 955,
     "user": {
      "displayName": "DaniaL Ha",
      "photoUrl": "https://lh3.googleusercontent.com/a-/AOh14GiRcJ0WxjalGy0bNYHXw1hl4sot0fF2_-1t4wbEag=s64",
      "userId": "15606141405640455496"
     }
    },
    "outputId": "e0e64707-70f1-4897-87b5-cbbb16e7fed5"
   },
   "source": [
    "test_df.head(5)"
   ],
   "execution_count": 7,
   "outputs": [
    {
     "output_type": "execute_result",
     "data": {
      "text/html": [
       "<div>\n",
       "<style scoped>\n",
       "    .dataframe tbody tr th:only-of-type {\n",
       "        vertical-align: middle;\n",
       "    }\n",
       "\n",
       "    .dataframe tbody tr th {\n",
       "        vertical-align: top;\n",
       "    }\n",
       "\n",
       "    .dataframe thead th {\n",
       "        text-align: right;\n",
       "    }\n",
       "</style>\n",
       "<table border=\"1\" class=\"dataframe\">\n",
       "  <thead>\n",
       "    <tr style=\"text-align: right;\">\n",
       "      <th></th>\n",
       "      <th>id</th>\n",
       "      <th>title</th>\n",
       "      <th>comment</th>\n",
       "      <th>advantages</th>\n",
       "      <th>disadvantages</th>\n",
       "      <th>title_fa_product</th>\n",
       "      <th>title_fa_category</th>\n",
       "      <th>is_buyer</th>\n",
       "    </tr>\n",
       "  </thead>\n",
       "  <tbody>\n",
       "    <tr>\n",
       "      <th>0</th>\n",
       "      <td>0</td>\n",
       "      <td>با کیفیت</td>\n",
       "      <td>بسته بندی بهداشتی و کیفیت عالی</td>\n",
       "      <td>NaN</td>\n",
       "      <td>NaN</td>\n",
       "      <td>گوش پاک کن کتابی پنبه ریز بسته 200 عددی</td>\n",
       "      <td>گوش پاک کن</td>\n",
       "      <td>1</td>\n",
       "    </tr>\n",
       "    <tr>\n",
       "      <th>1</th>\n",
       "      <td>1</td>\n",
       "      <td>گوشی موبایل شیائومی</td>\n",
       "      <td>این گوشی فوق‌العاده است</td>\n",
       "      <td>[\"این گوشی همه چیش فوق‌العاده است از دوربین تا...</td>\n",
       "      <td>[\"اصلا هیچ نقاط ضعفی نداره \"]</td>\n",
       "      <td>گوشی موبایل شیائومی مدل Redmi Note 8 M1908C3JG...</td>\n",
       "      <td>گوشی موبایل</td>\n",
       "      <td>1</td>\n",
       "    </tr>\n",
       "    <tr>\n",
       "      <th>2</th>\n",
       "      <td>2</td>\n",
       "      <td>NaN</td>\n",
       "      <td>صداش قطع میشه باتریشم خیییلی ضعیفه</td>\n",
       "      <td>NaN</td>\n",
       "      <td>NaN</td>\n",
       "      <td>هدفون بی سیم مدل inpods 12</td>\n",
       "      <td>هدفون، هدست و هندزفری</td>\n",
       "      <td>1</td>\n",
       "    </tr>\n",
       "    <tr>\n",
       "      <th>3</th>\n",
       "      <td>3</td>\n",
       "      <td>NaN</td>\n",
       "      <td>بنظرم‌ خوبه</td>\n",
       "      <td>NaN</td>\n",
       "      <td>NaN</td>\n",
       "      <td>خمیر دندان نسیم مدل Feluoride Protection مقدار...</td>\n",
       "      <td>خمیر دندان</td>\n",
       "      <td>1</td>\n",
       "    </tr>\n",
       "    <tr>\n",
       "      <th>4</th>\n",
       "      <td>4</td>\n",
       "      <td>عااالیه</td>\n",
       "      <td>عااالیه</td>\n",
       "      <td>[\"عاااالیه\"]</td>\n",
       "      <td>NaN</td>\n",
       "      <td>کرم موبر صورت و بدن سینره حجم 100 میلی لیتر</td>\n",
       "      <td>کرم موبر</td>\n",
       "      <td>1</td>\n",
       "    </tr>\n",
       "  </tbody>\n",
       "</table>\n",
       "</div>"
      ],
      "text/plain": [
       "   id                title  ...      title_fa_category is_buyer\n",
       "0   0             با کیفیت  ...             گوش پاک کن        1\n",
       "1   1  گوشی موبایل شیائومی  ...            گوشی موبایل        1\n",
       "2   2                  NaN  ...  هدفون، هدست و هندزفری        1\n",
       "3   3                  NaN  ...             خمیر دندان        1\n",
       "4   4              عااالیه  ...               کرم موبر        1\n",
       "\n",
       "[5 rows x 8 columns]"
      ]
     },
     "metadata": {
      "tags": []
     },
     "execution_count": 7
    }
   ]
  },
  {
   "cell_type": "code",
   "metadata": {
    "id": "GVk4BXVgYzE7",
    "colab_type": "code",
    "colab": {},
    "executionInfo": {
     "status": "ok",
     "timestamp": 1599858169852,
     "user_tz": -270,
     "elapsed": 2303,
     "user": {
      "displayName": "DaniaL Ha",
      "photoUrl": "https://lh3.googleusercontent.com/a-/AOh14GiRcJ0WxjalGy0bNYHXw1hl4sot0fF2_-1t4wbEag=s64",
      "userId": "15606141405640455496"
     }
    }
   },
   "source": [
    "train_texts = train_df['comment'].tolist()\n",
    "test_texts = test_df['comment'].tolist()"
   ],
   "execution_count": 8,
   "outputs": []
  },
  {
   "cell_type": "code",
   "metadata": {
    "id": "d0waWoypibKA",
    "colab_type": "code",
    "colab": {},
    "executionInfo": {
     "status": "ok",
     "timestamp": 1599858171877,
     "user_tz": -270,
     "elapsed": 3034,
     "user": {
      "displayName": "DaniaL Ha",
      "photoUrl": "https://lh3.googleusercontent.com/a-/AOh14GiRcJ0WxjalGy0bNYHXw1hl4sot0fF2_-1t4wbEag=s64",
      "userId": "15606141405640455496"
     }
    }
   },
   "source": [
    "train_labels = train_df['rate'].tolist()"
   ],
   "execution_count": 9,
   "outputs": []
  },
  {
   "cell_type": "code",
   "metadata": {
    "id": "KL0bTu42jgLx",
    "colab_type": "code",
    "colab": {
     "base_uri": "https://localhost:8080/",
     "height": 34
    },
    "executionInfo": {
     "status": "ok",
     "timestamp": 1599858172629,
     "user_tz": -270,
     "elapsed": 1273,
     "user": {
      "displayName": "DaniaL Ha",
      "photoUrl": "https://lh3.googleusercontent.com/a-/AOh14GiRcJ0WxjalGy0bNYHXw1hl4sot0fF2_-1t4wbEag=s64",
      "userId": "15606141405640455496"
     }
    },
    "outputId": "25885683-c85b-4ade-8558-1ab6a4b4daf6"
   },
   "source": [
    "len(train_df), len(test_df)"
   ],
   "execution_count": 10,
   "outputs": [
    {
     "output_type": "execute_result",
     "data": {
      "text/plain": [
       "(264399, 19399)"
      ]
     },
     "metadata": {
      "tags": []
     },
     "execution_count": 10
    }
   ]
  },
  {
   "cell_type": "code",
   "metadata": {
    "id": "_bDvBmaBP506",
    "colab_type": "code",
    "colab": {
     "base_uri": "https://localhost:8080/",
     "height": 35
    },
    "executionInfo": {
     "status": "ok",
     "timestamp": 1599858173204,
     "user_tz": -270,
     "elapsed": 955,
     "user": {
      "displayName": "DaniaL Ha",
      "photoUrl": "https://lh3.googleusercontent.com/a-/AOh14GiRcJ0WxjalGy0bNYHXw1hl4sot0fF2_-1t4wbEag=s64",
      "userId": "15606141405640455496"
     }
    },
    "outputId": "7baeeae0-e6f9-4f1f-b321-baccbe7f461c"
   },
   "source": [
    "train_texts[100]"
   ],
   "execution_count": 11,
   "outputs": [
    {
     "output_type": "execute_result",
     "data": {
      "application/vnd.google.colaboratory.intrinsic+json": {
       "type": "string"
      },
      "text/plain": [
       "'تطابق قیمت و کیفیت. رطوبت خوب و کافی، بوی خوب. از محصولات ایرانی حمایت کنیم.'"
      ]
     },
     "metadata": {
      "tags": []
     },
     "execution_count": 11
    }
   ]
  },
  {
   "cell_type": "code",
   "metadata": {
    "id": "tE5_YKLuinaJ",
    "colab_type": "code",
    "colab": {},
    "executionInfo": {
     "status": "ok",
     "timestamp": 1599858176943,
     "user_tz": -270,
     "elapsed": 1440,
     "user": {
      "displayName": "DaniaL Ha",
      "photoUrl": "https://lh3.googleusercontent.com/a-/AOh14GiRcJ0WxjalGy0bNYHXw1hl4sot0fF2_-1t4wbEag=s64",
      "userId": "15606141405640455496"
     }
    }
   },
   "source": [
    "# train_texts_cleaned = []\n",
    "\n",
    "# TODO: cleaning the text, removing stopwords, maybe use Hazm?\n",
    "# for text in train_texts:\n",
    "#   text_cleaned = ' '.join(filter(lambda x: (x[0] != '@') and (x[:7] != 'http://'), text.split()))\n",
    "#   train_texts_cleaned.append(text_cleaned)\n",
    "\n",
    "# train_texts = train_texts_cleaned\n",
    "import re\n",
    "\n",
    "# train_texts = [print(type(sentence)) for sentence in train_texts]\n",
    "\n",
    "# the empty comments are float, we replace them with an empty string\n",
    "for i in range(len(train_texts)):\n",
    "  if type(train_texts[i]) == float:\n",
    "    train_texts[i] = ''"
   ],
   "execution_count": 12,
   "outputs": []
  },
  {
   "cell_type": "code",
   "metadata": {
    "id": "nwOwNmuTtWfb",
    "colab_type": "code",
    "colab": {},
    "executionInfo": {
     "status": "ok",
     "timestamp": 1599858179436,
     "user_tz": -270,
     "elapsed": 1733,
     "user": {
      "displayName": "DaniaL Ha",
      "photoUrl": "https://lh3.googleusercontent.com/a-/AOh14GiRcJ0WxjalGy0bNYHXw1hl4sot0fF2_-1t4wbEag=s64",
      "userId": "15606141405640455496"
     }
    }
   },
   "source": [
    "# the empty comments are float, we replace them with an empty string\n",
    "for i in range(len(test_texts)):\n",
    "  if type(test_texts[i]) == float:\n",
    "    test_texts[i] = ''"
   ],
   "execution_count": 13,
   "outputs": []
  },
  {
   "cell_type": "code",
   "metadata": {
    "id": "ZOdkT5vMnbnX",
    "colab_type": "code",
    "colab": {},
    "executionInfo": {
     "status": "ok",
     "timestamp": 1599858182573,
     "user_tz": -270,
     "elapsed": 1547,
     "user": {
      "displayName": "DaniaL Ha",
      "photoUrl": "https://lh3.googleusercontent.com/a-/AOh14GiRcJ0WxjalGy0bNYHXw1hl4sot0fF2_-1t4wbEag=s64",
      "userId": "15606141405640455496"
     }
    }
   },
   "source": [
    "from urllib.request import urlopen\n",
    "import gzip"
   ],
   "execution_count": 14,
   "outputs": []
  },
  {
   "cell_type": "code",
   "metadata": {
    "id": "9scvTD3cnjWZ",
    "colab_type": "code",
    "colab": {},
    "executionInfo": {
     "status": "ok",
     "timestamp": 1599858186271,
     "user_tz": -270,
     "elapsed": 2681,
     "user": {
      "displayName": "DaniaL Ha",
      "photoUrl": "https://lh3.googleusercontent.com/a-/AOh14GiRcJ0WxjalGy0bNYHXw1hl4sot0fF2_-1t4wbEag=s64",
      "userId": "15606141405640455496"
     }
    }
   },
   "source": [
    "embedding_file = gzip.open(urlopen('https://dl.fbaipublicfiles.com/fasttext/vectors-crawl/cc.fa.300.vec.gz'))"
   ],
   "execution_count": 15,
   "outputs": []
  },
  {
   "cell_type": "code",
   "metadata": {
    "id": "R9EoYVA_n39G",
    "colab_type": "code",
    "colab": {},
    "executionInfo": {
     "status": "ok",
     "timestamp": 1599858326969,
     "user_tz": -270,
     "elapsed": 137132,
     "user": {
      "displayName": "DaniaL Ha",
      "photoUrl": "https://lh3.googleusercontent.com/a-/AOh14GiRcJ0WxjalGy0bNYHXw1hl4sot0fF2_-1t4wbEag=s64",
      "userId": "15606141405640455496"
     }
    }
   },
   "source": [
    "fasttext_embeddings = {}\n",
    "# put words as dict indexes and vectors as dict values\n",
    "\n",
    "for line in embedding_file:\n",
    "  values = line.split()\n",
    "  word = values [0].decode('utf-8')\n",
    "  vector = np.asarray(values[1:], dtype='float32')\n",
    "  fasttext_embeddings[word] = vector"
   ],
   "execution_count": 16,
   "outputs": []
  },
  {
   "cell_type": "code",
   "metadata": {
    "id": "9ulKVLYqooI8",
    "colab_type": "code",
    "colab": {},
    "executionInfo": {
     "status": "ok",
     "timestamp": 1599858391246,
     "user_tz": -270,
     "elapsed": 2069,
     "user": {
      "displayName": "DaniaL Ha",
      "photoUrl": "https://lh3.googleusercontent.com/a-/AOh14GiRcJ0WxjalGy0bNYHXw1hl4sot0fF2_-1t4wbEag=s64",
      "userId": "15606141405640455496"
     }
    }
   },
   "source": [
    "vocab_size = 20000\n",
    "max_length = 40 # Estimated average length of comments\n",
    "trunc_type='post'\n",
    "padding_type='post'\n",
    "oov_tok = \"<OOV>\""
   ],
   "execution_count": 17,
   "outputs": []
  },
  {
   "cell_type": "code",
   "metadata": {
    "id": "h1H3mGv-qSbK",
    "colab_type": "code",
    "colab": {},
    "executionInfo": {
     "status": "ok",
     "timestamp": 1599858404881,
     "user_tz": -270,
     "elapsed": 13228,
     "user": {
      "displayName": "DaniaL Ha",
      "photoUrl": "https://lh3.googleusercontent.com/a-/AOh14GiRcJ0WxjalGy0bNYHXw1hl4sot0fF2_-1t4wbEag=s64",
      "userId": "15606141405640455496"
     }
    }
   },
   "source": [
    "tokenizer = Tokenizer(num_words=vocab_size, oov_token=oov_tok)\n",
    "tokenizer.fit_on_texts(train_texts)\n",
    "\n",
    "word_index = tokenizer.word_index\n",
    "\n",
    "train_sequences = tokenizer.texts_to_sequences(train_texts)\n",
    "train_padded = pad_sequences(train_sequences, maxlen=max_length, padding=padding_type, truncating=trunc_type)\n",
    "\n",
    "test_sequences = tokenizer.texts_to_sequences(test_texts)\n",
    "test_padded = pad_sequences(test_sequences, maxlen=max_length, padding=padding_type, truncating=trunc_type)"
   ],
   "execution_count": 18,
   "outputs": []
  },
  {
   "cell_type": "code",
   "metadata": {
    "id": "EsIx0tXTqiLx",
    "colab_type": "code",
    "colab": {},
    "executionInfo": {
     "status": "ok",
     "timestamp": 1599858409525,
     "user_tz": -270,
     "elapsed": 3203,
     "user": {
      "displayName": "DaniaL Ha",
      "photoUrl": "https://lh3.googleusercontent.com/a-/AOh14GiRcJ0WxjalGy0bNYHXw1hl4sot0fF2_-1t4wbEag=s64",
      "userId": "15606141405640455496"
     }
    }
   },
   "source": [
    "# Need this block to get it to work with TensorFlow 2.x\n",
    "\n",
    "train_padded = np.array(train_padded)\n",
    "train_labels = np.array(train_labels)\n",
    "\n",
    "test_padded = np.array(test_padded)"
   ],
   "execution_count": 19,
   "outputs": []
  },
  {
   "cell_type": "code",
   "metadata": {
    "id": "pbrvy4G_1K3d",
    "colab_type": "code",
    "colab": {
     "base_uri": "https://localhost:8080/",
     "height": 102
    },
    "executionInfo": {
     "status": "ok",
     "timestamp": 1599858409526,
     "user_tz": -270,
     "elapsed": 2687,
     "user": {
      "displayName": "DaniaL Ha",
      "photoUrl": "https://lh3.googleusercontent.com/a-/AOh14GiRcJ0WxjalGy0bNYHXw1hl4sot0fF2_-1t4wbEag=s64",
      "userId": "15606141405640455496"
     }
    },
    "outputId": "abba8509-c2c8-4da2-8e0e-5f71c7b2eb45"
   },
   "source": [
    "train_labels[:50]"
   ],
   "execution_count": 20,
   "outputs": [
    {
     "output_type": "execute_result",
     "data": {
      "text/plain": [
       "array([100.,  80., 100.,  70.,  72., 100., 100., 100.,  80.,  80.,  80.,\n",
       "        48.,   0., 100.,  60.,   0., 100., 100., 100.,  95.,  80., 100.,\n",
       "       100.,   0.,   0.,  20.,  20.,  60.,  60.,   0.,   0.,   0.,   0.,\n",
       "        44.,  60.,  60.,   0.,   0.,  92.,  80.,  60.,   0.,   0.,  80.,\n",
       "        60.,   0.,  20.,  80.,  90.,   0.])"
      ]
     },
     "metadata": {
      "tags": []
     },
     "execution_count": 20
    }
   ]
  },
  {
   "cell_type": "code",
   "metadata": {
    "id": "KNJ4TjhVqtcO",
    "colab_type": "code",
    "colab": {
     "base_uri": "https://localhost:8080/",
     "height": 34
    },
    "executionInfo": {
     "status": "ok",
     "timestamp": 1599858413281,
     "user_tz": -270,
     "elapsed": 2756,
     "user": {
      "displayName": "DaniaL Ha",
      "photoUrl": "https://lh3.googleusercontent.com/a-/AOh14GiRcJ0WxjalGy0bNYHXw1hl4sot0fF2_-1t4wbEag=s64",
      "userId": "15606141405640455496"
     }
    },
    "outputId": "17903f48-018b-4819-9727-0f5d2c3192ae"
   },
   "source": [
    "num_tokens = len(word_index) + 1\n",
    "embedding_dim = 300\n",
    "hits = 0\n",
    "misses = 0\n",
    "\n",
    "# Prepare embedding matrix\n",
    "embedding_matrix = np.zeros((num_tokens, embedding_dim))\n",
    "for word, i in word_index.items():\n",
    "    embedding_vector = fasttext_embeddings.get(word)\n",
    "    if embedding_vector is not None:\n",
    "        # Words not found in embedding index will be all-zeros.\n",
    "        # This includes the representation for \"padding\" and \"OOV\"\n",
    "        embedding_matrix[i] = embedding_vector\n",
    "        hits += 1\n",
    "    else:\n",
    "        misses += 1\n",
    "print(\"Converted %d words (%d misses)\" % (hits, misses))"
   ],
   "execution_count": 21,
   "outputs": [
    {
     "output_type": "stream",
     "text": [
      "Converted 47084 words (41998 misses)\n"
     ],
     "name": "stdout"
    }
   ]
  },
  {
   "cell_type": "code",
   "metadata": {
    "id": "JkrNes_huANW",
    "colab_type": "code",
    "colab": {},
    "executionInfo": {
     "status": "ok",
     "timestamp": 1599858416897,
     "user_tz": -270,
     "elapsed": 1487,
     "user": {
      "displayName": "DaniaL Ha",
      "photoUrl": "https://lh3.googleusercontent.com/a-/AOh14GiRcJ0WxjalGy0bNYHXw1hl4sot0fF2_-1t4wbEag=s64",
      "userId": "15606141405640455496"
     }
    }
   },
   "source": [
    "from keras.models import Sequential\n",
    "from keras.layers import LSTM, Dense, Embedding"
   ],
   "execution_count": 22,
   "outputs": []
  },
  {
   "cell_type": "code",
   "metadata": {
    "id": "JWiFKvzwvQOY",
    "colab_type": "code",
    "colab": {},
    "executionInfo": {
     "status": "ok",
     "timestamp": 1599858422809,
     "user_tz": -270,
     "elapsed": 1984,
     "user": {
      "displayName": "DaniaL Ha",
      "photoUrl": "https://lh3.googleusercontent.com/a-/AOh14GiRcJ0WxjalGy0bNYHXw1hl4sot0fF2_-1t4wbEag=s64",
      "userId": "15606141405640455496"
     }
    }
   },
   "source": [
    "early_stopping = EarlyStopping(monitor= 'val_loss', patience= 2, mode='min')"
   ],
   "execution_count": 23,
   "outputs": []
  },
  {
   "cell_type": "code",
   "metadata": {
    "id": "ILhtZW4OTakN",
    "colab_type": "code",
    "colab": {},
    "executionInfo": {
     "status": "ok",
     "timestamp": 1599858427107,
     "user_tz": -270,
     "elapsed": 1647,
     "user": {
      "displayName": "DaniaL Ha",
      "photoUrl": "https://lh3.googleusercontent.com/a-/AOh14GiRcJ0WxjalGy0bNYHXw1hl4sot0fF2_-1t4wbEag=s64",
      "userId": "15606141405640455496"
     }
    }
   },
   "source": [
    "from tensorflow.python.ops import math_ops\n",
    "from tensorflow.python.framework import ops\n",
    "from tensorflow.python.keras import backend as K\n",
    "\n",
    "\n",
    "def smape(y_true, y_pred):\n",
    "  y_pred = ops.convert_to_tensor_v2(y_pred)\n",
    "  y_true = math_ops.cast(y_true, y_pred.dtype)\n",
    "  diff = math_ops.abs(\n",
    "      (y_true - y_pred) / math_ops.add(math_ops.abs(y_true), math_ops(y_pred))\n",
    "      )\n",
    "  return 100. * K.mean(diff, axis=-1)"
   ],
   "execution_count": 24,
   "outputs": []
  },
  {
   "cell_type": "code",
   "metadata": {
    "id": "GYLfMvTzud5v",
    "colab_type": "code",
    "colab": {},
    "executionInfo": {
     "status": "ok",
     "timestamp": 1599858437704,
     "user_tz": -270,
     "elapsed": 10181,
     "user": {
      "displayName": "DaniaL Ha",
      "photoUrl": "https://lh3.googleusercontent.com/a-/AOh14GiRcJ0WxjalGy0bNYHXw1hl4sot0fF2_-1t4wbEag=s64",
      "userId": "15606141405640455496"
     }
    }
   },
   "source": [
    "model = tf.keras.Sequential([\n",
    "                             tf.keras.layers.Embedding(num_tokens, embedding_dim,\n",
    "                                                       embeddings_initializer=tf.keras.initializers.Constant(embedding_matrix),\n",
    "                                                       trainable=True),\n",
    "                             tf.keras.layers.Bidirectional(tf.keras.layers.LSTM(32)),\n",
    "                             tf.keras.layers.Dense(24, activation='relu'),\n",
    "                             tf.keras.layers.Dense(1)\n",
    "                             ])\n",
    "\n",
    "model.compile(loss='mean_absolute_percentage_error',optimizer='adam',metrics=['accuracy'])"
   ],
   "execution_count": 25,
   "outputs": []
  },
  {
   "cell_type": "code",
   "metadata": {
    "id": "IpNiIzZGuu6R",
    "colab_type": "code",
    "colab": {
     "base_uri": "https://localhost:8080/",
     "height": 289
    },
    "executionInfo": {
     "status": "ok",
     "timestamp": 1599858439714,
     "user_tz": -270,
     "elapsed": 1032,
     "user": {
      "displayName": "DaniaL Ha",
      "photoUrl": "https://lh3.googleusercontent.com/a-/AOh14GiRcJ0WxjalGy0bNYHXw1hl4sot0fF2_-1t4wbEag=s64",
      "userId": "15606141405640455496"
     }
    },
    "outputId": "9b1f1dc7-66a4-4fdb-96b6-e84906574734"
   },
   "source": [
    "model.summary()"
   ],
   "execution_count": 26,
   "outputs": [
    {
     "output_type": "stream",
     "text": [
      "Model: \"sequential\"\n",
      "_________________________________________________________________\n",
      "Layer (type)                 Output Shape              Param #   \n",
      "=================================================================\n",
      "embedding (Embedding)        (None, None, 300)         26724900  \n",
      "_________________________________________________________________\n",
      "bidirectional (Bidirectional (None, 64)                85248     \n",
      "_________________________________________________________________\n",
      "dense (Dense)                (None, 24)                1560      \n",
      "_________________________________________________________________\n",
      "dense_1 (Dense)              (None, 1)                 25        \n",
      "=================================================================\n",
      "Total params: 26,811,733\n",
      "Trainable params: 26,811,733\n",
      "Non-trainable params: 0\n",
      "_________________________________________________________________\n"
     ],
     "name": "stdout"
    }
   ]
  },
  {
   "cell_type": "code",
   "metadata": {
    "id": "FQwqCkeeu8Gg",
    "colab_type": "code",
    "colab": {
     "base_uri": "https://localhost:8080/",
     "height": 187
    },
    "executionInfo": {
     "status": "ok",
     "timestamp": 1599860670129,
     "user_tz": -270,
     "elapsed": 2224494,
     "user": {
      "displayName": "DaniaL Ha",
      "photoUrl": "https://lh3.googleusercontent.com/a-/AOh14GiRcJ0WxjalGy0bNYHXw1hl4sot0fF2_-1t4wbEag=s64",
      "userId": "15606141405640455496"
     }
    },
    "outputId": "7fd23c6d-e0af-4658-b64a-8f35b3c967a3"
   },
   "source": [
    "num_epochs = 5\n",
    "history = model.fit(train_padded, train_labels, batch_size=128, epochs=num_epochs, validation_split=0.1, callbacks=[early_stopping])"
   ],
   "execution_count": 27,
   "outputs": [
    {
     "output_type": "stream",
     "text": [
      "Epoch 1/5\n",
      "1860/1860 [==============================] - 443s 238ms/step - loss: 65502.5898 - accuracy: 0.2391 - val_loss: 47174.7773 - val_accuracy: 0.2391\n",
      "Epoch 2/5\n",
      "1860/1860 [==============================] - 443s 238ms/step - loss: 34709.0938 - accuracy: 0.2391 - val_loss: 44336.3672 - val_accuracy: 0.2391\n",
      "Epoch 3/5\n",
      "1860/1860 [==============================] - 443s 238ms/step - loss: 34479.1445 - accuracy: 0.2391 - val_loss: 35000.5938 - val_accuracy: 0.2391\n",
      "Epoch 4/5\n",
      "1860/1860 [==============================] - 443s 238ms/step - loss: 32944.5273 - accuracy: 0.2391 - val_loss: 8665.7812 - val_accuracy: 0.2391\n",
      "Epoch 5/5\n",
      "1860/1860 [==============================] - 441s 237ms/step - loss: 32577.8418 - accuracy: 0.2391 - val_loss: 3791.2085 - val_accuracy: 0.2391\n"
     ],
     "name": "stdout"
    }
   ]
  },
  {
   "cell_type": "code",
   "metadata": {
    "id": "C4E_YIiKvRLX",
    "colab_type": "code",
    "colab": {
     "base_uri": "https://localhost:8080/",
     "height": 1000
    },
    "executionInfo": {
     "status": "ok",
     "timestamp": 1599860680240,
     "user_tz": -270,
     "elapsed": 2550,
     "user": {
      "displayName": "DaniaL Ha",
      "photoUrl": "https://lh3.googleusercontent.com/a-/AOh14GiRcJ0WxjalGy0bNYHXw1hl4sot0fF2_-1t4wbEag=s64",
      "userId": "15606141405640455496"
     }
    },
    "outputId": "415163c2-22da-4ced-a2df-a293fd409ca0"
   },
   "source": [
    "import matplotlib.pyplot as plt\n",
    "import seaborn as sns\n",
    "sns.set(rc={'figure.figsize':(12,8)})\n",
    "\n",
    "def plot_graphs(model_history, ploting_variable):\n",
    "  plt.plot(model_history.history[ploting_variable])\n",
    "  plt.plot(model_history.history['val_' + ploting_variable])\n",
    "  plt.xlabel(\"Epochs\")\n",
    "  plt.ylabel(ploting_variable)\n",
    "  plt.legend([ploting_variable, 'val_' + ploting_variable])\n",
    "  plt.show()\n",
    "\n",
    "plot_graphs(history, \"accuracy\")\n",
    "plot_graphs(history, \"loss\")"
   ],
   "execution_count": 28,
   "outputs": [
    {
     "output_type": "stream",
     "text": [
      "/usr/local/lib/python3.6/dist-packages/statsmodels/tools/_testing.py:19: FutureWarning: pandas.util.testing is deprecated. Use the functions in the public API at pandas.testing instead.\n",
      "  import pandas.util.testing as tm\n"
     ],
     "name": "stderr"
    },
    {
     "output_type": "display_data",
     "data": {
      "image/png": "[encoded data removed]",
      "text/plain": [
       "<Figure size 864x576 with 1 Axes>"
      ]
     },
     "metadata": {
      "tags": []
     }
    },
    {
     "output_type": "display_data",
     "data": {
      "image/png": "[encoded data removed]",
      "text/plain": [
       "<Figure size 864x576 with 1 Axes>"
      ]
     },
     "metadata": {
      "tags": []
     }
    }
   ]
  },
  {
   "cell_type": "code",
   "metadata": {
    "id": "p84klBpxz4lp",
    "colab_type": "code",
    "colab": {},
    "executionInfo": {
     "status": "ok",
     "timestamp": 1599860687422,
     "user_tz": -270,
     "elapsed": 3551,
     "user": {
      "displayName": "DaniaL Ha",
      "photoUrl": "https://lh3.googleusercontent.com/a-/AOh14GiRcJ0WxjalGy0bNYHXw1hl4sot0fF2_-1t4wbEag=s64",
      "userId": "15606141405640455496"
     }
    }
   },
   "source": [
    "test_predict = model.predict(test_padded)"
   ],
   "execution_count": 29,
   "outputs": []
  },
  {
   "cell_type": "code",
   "metadata": {
    "id": "H9ih7NUPIeyN",
    "colab_type": "code",
    "colab": {
     "base_uri": "https://localhost:8080/",
     "height": 1000
    },
    "executionInfo": {
     "status": "ok",
     "timestamp": 1599860791039,
     "user_tz": -270,
     "elapsed": 1671,
     "user": {
      "displayName": "DaniaL Ha",
      "photoUrl": "https://lh3.googleusercontent.com/a-/AOh14GiRcJ0WxjalGy0bNYHXw1hl4sot0fF2_-1t4wbEag=s64",
      "userId": "15606141405640455496"
     }
    },
    "outputId": "ea177241-6b34-45d7-eb3d-d5d5dbd0fc9e"
   },
   "source": [
    "test_predict[:100]"
   ],
   "execution_count": 36,
   "outputs": [
    {
     "output_type": "execute_result",
     "data": {
      "text/plain": [
       "array([[-1.5537451e-05],\n",
       "       [-1.5537451e-05],\n",
       "       [-1.5537451e-05],\n",
       "       [-1.5537451e-05],\n",
       "       [-1.5537451e-05],\n",
       "       [-1.5537451e-05],\n",
       "       [-1.5537451e-05],\n",
       "       [-1.5537451e-05],\n",
       "       [-1.5537451e-05],\n",
       "       [-1.5537451e-05],\n",
       "       [-1.5537451e-05],\n",
       "       [-1.5537451e-05],\n",
       "       [-1.5537451e-05],\n",
       "       [-1.5537451e-05],\n",
       "       [-1.5537451e-05],\n",
       "       [-1.5537451e-05],\n",
       "       [-1.5537451e-05],\n",
       "       [-1.5537451e-05],\n",
       "       [-1.5537451e-05],\n",
       "       [-1.5537451e-05],\n",
       "       [-1.5537451e-05],\n",
       "       [-1.5537451e-05],\n",
       "       [-1.5537451e-05],\n",
       "       [-1.5537451e-05],\n",
       "       [-1.5537451e-05],\n",
       "       [-1.5537451e-05],\n",
       "       [-1.5537451e-05],\n",
       "       [-1.5537451e-05],\n",
       "       [-1.5537451e-05],\n",
       "       [-1.5537451e-05],\n",
       "       [-1.5537451e-05],\n",
       "       [-1.5537451e-05],\n",
       "       [-1.5537451e-05],\n",
       "       [-1.5537451e-05],\n",
       "       [-1.5537451e-05],\n",
       "       [-1.5537451e-05],\n",
       "       [-1.5537451e-05],\n",
       "       [-1.5537451e-05],\n",
       "       [-1.5537451e-05],\n",
       "       [-1.5537451e-05],\n",
       "       [-1.5537451e-05],\n",
       "       [-1.5537451e-05],\n",
       "       [-1.5537451e-05],\n",
       "       [-1.5537451e-05],\n",
       "       [-1.5537451e-05],\n",
       "       [-1.5537451e-05],\n",
       "       [-1.5537451e-05],\n",
       "       [-1.5537451e-05],\n",
       "       [-1.5537451e-05],\n",
       "       [-1.5537451e-05],\n",
       "       [-1.5537451e-05],\n",
       "       [-1.5537451e-05],\n",
       "       [-1.5537451e-05],\n",
       "       [-1.5537451e-05],\n",
       "       [-1.5537451e-05],\n",
       "       [-1.5537451e-05],\n",
       "       [-1.5537451e-05],\n",
       "       [-1.5537451e-05],\n",
       "       [-1.5537451e-05],\n",
       "       [-1.5537451e-05],\n",
       "       [-1.5537451e-05],\n",
       "       [-1.5537451e-05],\n",
       "       [-1.5537451e-05],\n",
       "       [-1.5537451e-05],\n",
       "       [-1.5537451e-05],\n",
       "       [-1.5537451e-05],\n",
       "       [-1.5537451e-05],\n",
       "       [-1.5537451e-05],\n",
       "       [-1.5537451e-05],\n",
       "       [-1.5537451e-05],\n",
       "       [-1.5537451e-05],\n",
       "       [-1.5537451e-05],\n",
       "       [-1.5537451e-05],\n",
       "       [-1.5537451e-05],\n",
       "       [-1.5537451e-05],\n",
       "       [-1.5537451e-05],\n",
       "       [-1.5537451e-05],\n",
       "       [-1.5537451e-05],\n",
       "       [-1.5537451e-05],\n",
       "       [-1.5537451e-05],\n",
       "       [-1.5537451e-05],\n",
       "       [-1.5537451e-05],\n",
       "       [-1.5537451e-05],\n",
       "       [-1.5537451e-05],\n",
       "       [-1.5537451e-05],\n",
       "       [-1.5537451e-05],\n",
       "       [-1.5537451e-05],\n",
       "       [-1.5537451e-05],\n",
       "       [-1.5537451e-05],\n",
       "       [-1.5537451e-05],\n",
       "       [-1.5537451e-05],\n",
       "       [-1.5537451e-05],\n",
       "       [-1.5537451e-05],\n",
       "       [-1.5537451e-05],\n",
       "       [-1.5537451e-05],\n",
       "       [-1.5537451e-05],\n",
       "       [-1.5537451e-05],\n",
       "       [-1.5537451e-05],\n",
       "       [-1.5537451e-05],\n",
       "       [-1.5537451e-05]], dtype=float32)"
      ]
     },
     "metadata": {
      "tags": []
     },
     "execution_count": 36
    }
   ]
  },
  {
   "cell_type": "code",
   "metadata": {
    "id": "xZF-yo_60fkk",
    "colab_type": "code",
    "colab": {
     "base_uri": "https://localhost:8080/",
     "height": 34
    },
    "executionInfo": {
     "status": "ok",
     "timestamp": 1599860762206,
     "user_tz": -270,
     "elapsed": 1746,
     "user": {
      "displayName": "DaniaL Ha",
      "photoUrl": "https://lh3.googleusercontent.com/a-/AOh14GiRcJ0WxjalGy0bNYHXw1hl4sot0fF2_-1t4wbEag=s64",
      "userId": "15606141405640455496"
     }
    },
    "outputId": "0fb46076-65b2-4499-bb30-23d0b317f1d7"
   },
   "source": [
    "predictions = []\n",
    "for prediction in test_predict:\n",
    "  if prediction < 0:\n",
    "    predictions.append(0)\n",
    "  elif prediction > 100:\n",
    "    predictions.append(100)\n",
    "  else:\n",
    "    predictions.append(prediction)\n",
    "predictions[:10]"
   ],
   "execution_count": 32,
   "outputs": [
    {
     "output_type": "execute_result",
     "data": {
      "text/plain": [
       "[0, 0, 0, 0, 0, 0, 0, 0, 0, 0]"
      ]
     },
     "metadata": {
      "tags": []
     },
     "execution_count": 32
    }
   ]
  },
  {
   "cell_type": "code",
   "metadata": {
    "id": "FNygdfSu0iBm",
    "colab_type": "code",
    "colab": {},
    "executionInfo": {
     "status": "ok",
     "timestamp": 1599860691308,
     "user_tz": -270,
     "elapsed": 1087,
     "user": {
      "displayName": "DaniaL Ha",
      "photoUrl": "https://lh3.googleusercontent.com/a-/AOh14GiRcJ0WxjalGy0bNYHXw1hl4sot0fF2_-1t4wbEag=s64",
      "userId": "15606141405640455496"
     }
    }
   },
   "source": [
    " predictions_df = test_df.copy()\n",
    " predictions_df.drop(labels=\n",
    "                   ['title', 'comment', 'advantages', 'disadvantages', 'title_fa_product', 'title_fa_category', 'is_buyer'],\n",
    "                   axis=1, inplace=True)\n",
    " predictions_df['verification_status'] = test_predict.round().astype(int)"
   ],
   "execution_count": 31,
   "outputs": []
  },
  {
   "cell_type": "code",
   "metadata": {
    "id": "1esuujUP2AHE",
    "colab_type": "code",
    "colab": {
     "base_uri": "https://localhost:8080/",
     "height": 419
    },
    "executionInfo": {
     "status": "ok",
     "timestamp": 1599844657758,
     "user_tz": -270,
     "elapsed": 2365,
     "user": {
      "displayName": "DaniaL Ha",
      "photoUrl": "https://lh3.googleusercontent.com/a-/AOh14GiRcJ0WxjalGy0bNYHXw1hl4sot0fF2_-1t4wbEag=s64",
      "userId": "15606141405640455496"
     }
    },
    "outputId": "5505e2b0-116c-45c8-e02a-74480ff1dbdb"
   },
   "source": [
    "predictions_df"
   ],
   "execution_count": null,
   "outputs": [
    {
     "output_type": "execute_result",
     "data": {
      "text/html": [
       "<div>\n",
       "<style scoped>\n",
       "    .dataframe tbody tr th:only-of-type {\n",
       "        vertical-align: middle;\n",
       "    }\n",
       "\n",
       "    .dataframe tbody tr th {\n",
       "        vertical-align: top;\n",
       "    }\n",
       "\n",
       "    .dataframe thead th {\n",
       "        text-align: right;\n",
       "    }\n",
       "</style>\n",
       "<table border=\"1\" class=\"dataframe\">\n",
       "  <thead>\n",
       "    <tr style=\"text-align: right;\">\n",
       "      <th></th>\n",
       "      <th>id</th>\n",
       "      <th>verification_status</th>\n",
       "    </tr>\n",
       "  </thead>\n",
       "  <tbody>\n",
       "    <tr>\n",
       "      <th>0</th>\n",
       "      <td>0</td>\n",
       "      <td>1</td>\n",
       "    </tr>\n",
       "    <tr>\n",
       "      <th>1</th>\n",
       "      <td>1</td>\n",
       "      <td>1</td>\n",
       "    </tr>\n",
       "    <tr>\n",
       "      <th>2</th>\n",
       "      <td>2</td>\n",
       "      <td>1</td>\n",
       "    </tr>\n",
       "    <tr>\n",
       "      <th>3</th>\n",
       "      <td>3</td>\n",
       "      <td>1</td>\n",
       "    </tr>\n",
       "    <tr>\n",
       "      <th>4</th>\n",
       "      <td>4</td>\n",
       "      <td>1</td>\n",
       "    </tr>\n",
       "    <tr>\n",
       "      <th>...</th>\n",
       "      <td>...</td>\n",
       "      <td>...</td>\n",
       "    </tr>\n",
       "    <tr>\n",
       "      <th>19394</th>\n",
       "      <td>19394</td>\n",
       "      <td>1</td>\n",
       "    </tr>\n",
       "    <tr>\n",
       "      <th>19395</th>\n",
       "      <td>19395</td>\n",
       "      <td>1</td>\n",
       "    </tr>\n",
       "    <tr>\n",
       "      <th>19396</th>\n",
       "      <td>19396</td>\n",
       "      <td>1</td>\n",
       "    </tr>\n",
       "    <tr>\n",
       "      <th>19397</th>\n",
       "      <td>19397</td>\n",
       "      <td>1</td>\n",
       "    </tr>\n",
       "    <tr>\n",
       "      <th>19398</th>\n",
       "      <td>19398</td>\n",
       "      <td>1</td>\n",
       "    </tr>\n",
       "  </tbody>\n",
       "</table>\n",
       "<p>19399 rows × 2 columns</p>\n",
       "</div>"
      ],
      "text/plain": [
       "          id  verification_status\n",
       "0          0                    1\n",
       "1          1                    1\n",
       "2          2                    1\n",
       "3          3                    1\n",
       "4          4                    1\n",
       "...      ...                  ...\n",
       "19394  19394                    1\n",
       "19395  19395                    1\n",
       "19396  19396                    1\n",
       "19397  19397                    1\n",
       "19398  19398                    1\n",
       "\n",
       "[19399 rows x 2 columns]"
      ]
     },
     "metadata": {
      "tags": []
     },
     "execution_count": 31
    }
   ]
  },
  {
   "cell_type": "code",
   "metadata": {
    "id": "Jit94_8L2NgD",
    "colab_type": "code",
    "colab": {}
   },
   "source": [
    "predictions_df.to_csv(base_dir + '/predictions.csv', index= False)"
   ],
   "execution_count": null,
   "outputs": []
  },
  {
   "cell_type": "code",
   "metadata": {
    "id": "HubU6qn524Ur",
    "colab_type": "code",
    "colab": {}
   },
   "source": [],
   "execution_count": null,
   "outputs": []
  }
 ]
}
