{
 "nbformat": 4,
 "nbformat_minor": 0,
 "metadata": {
  "colab": {
   "name": "Digikala - Sentiment Analysis - v2 - Categorical.ipynb",
   "provenance": [
    {
     "file_id": "1R5PVNRKoDDPZVFFZRSRpqQ3LD1gsxGd_",
     "timestamp": 1599845581811
    },
    {
     "file_id": "1OVV-dOiGsugHY94AtQKaJ5c5u12DpHBh",
     "timestamp": 1599842103248
    }
   ],
   "collapsed_sections": [],
   "authorship_tag": "ABX9TyPd+SpC0Ww+kQyCyZ8bfzoM"
  },
  "kernelspec": {
   "name": "python3",
   "display_name": "Python 3"
  },
  "accelerator": "GPU"
 },
 "cells": [
  {
   "cell_type": "code",
   "metadata": {
    "id": "S1FJ06H1WPCE",
    "colab_type": "code",
    "colab": {
     "base_uri": "https://localhost:8080/",
     "height": 34
    },
    "executionInfo": {
     "status": "ok",
     "timestamp": 1599847599128,
     "user_tz": -270,
     "elapsed": 1202,
     "user": {
      "displayName": "DaniaL Ha",
      "photoUrl": "https://lh3.googleusercontent.com/a-/AOh14GiRcJ0WxjalGy0bNYHXw1hl4sot0fF2_-1t4wbEag=s64",
      "userId": "15606141405640455496"
     }
    },
    "outputId": "1aed4bdc-da74-4940-f76f-34f438f77412"
   },
   "source": [
    "print('hello')"
   ],
   "execution_count": null,
   "outputs": [
    {
     "output_type": "stream",
     "text": [
      "hello\n"
     ],
     "name": "stdout"
    }
   ]
  },
  {
   "cell_type": "code",
   "metadata": {
    "id": "fxOibDQFWsKg",
    "colab_type": "code",
    "colab": {
     "base_uri": "https://localhost:8080/",
     "height": 34
    },
    "executionInfo": {
     "status": "ok",
     "timestamp": 1599899232158,
     "user_tz": -270,
     "elapsed": 9505,
     "user": {
      "displayName": "DaniaL Ha",
      "photoUrl": "https://lh3.googleusercontent.com/a-/AOh14GiRcJ0WxjalGy0bNYHXw1hl4sot0fF2_-1t4wbEag=s64",
      "userId": "15606141405640455496"
     }
    },
    "outputId": "d20a408a-53eb-4eaa-8882-a2d66df99cb5"
   },
   "source": [
    "from google.colab import drive\n",
    "drive.mount('/content/gdrive')"
   ],
   "execution_count": 2,
   "outputs": [
    {
     "output_type": "stream",
     "text": [
      "Mounted at /content/gdrive\n"
     ],
     "name": "stdout"
    }
   ]
  },
  {
   "cell_type": "code",
   "metadata": {
    "id": "3TvygBlvXGCt",
    "colab_type": "code",
    "colab": {},
    "executionInfo": {
     "status": "ok",
     "timestamp": 1599899239938,
     "user_tz": -270,
     "elapsed": 3508,
     "user": {
      "displayName": "DaniaL Ha",
      "photoUrl": "https://lh3.googleusercontent.com/a-/AOh14GiRcJ0WxjalGy0bNYHXw1hl4sot0fF2_-1t4wbEag=s64",
      "userId": "15606141405640455496"
     }
    }
   },
   "source": [
    "from tensorflow.keras.preprocessing.text import Tokenizer\n",
    "from tensorflow.keras.preprocessing.sequence import pad_sequences\n",
    "from tensorflow.keras.callbacks import EarlyStopping\n",
    "\n",
    "import tensorflow as tf\n",
    "import pandas as pd\n",
    "import numpy as np"
   ],
   "execution_count": 3,
   "outputs": []
  },
  {
   "cell_type": "code",
   "metadata": {
    "id": "iMv-TZEAYalh",
    "colab_type": "code",
    "colab": {},
    "executionInfo": {
     "status": "ok",
     "timestamp": 1599899239939,
     "user_tz": -270,
     "elapsed": 2407,
     "user": {
      "displayName": "DaniaL Ha",
      "photoUrl": "https://lh3.googleusercontent.com/a-/AOh14GiRcJ0WxjalGy0bNYHXw1hl4sot0fF2_-1t4wbEag=s64",
      "userId": "15606141405640455496"
     }
    }
   },
   "source": [
    "base_dir = '/content/gdrive/My Drive/Digikala Contest/Sentiment Analysis'"
   ],
   "execution_count": 4,
   "outputs": []
  },
  {
   "cell_type": "code",
   "metadata": {
    "id": "oGIJAsZsYdGl",
    "colab_type": "code",
    "colab": {
     "base_uri": "https://localhost:8080/",
     "height": 51
    },
    "executionInfo": {
     "status": "ok",
     "timestamp": 1599899251281,
     "user_tz": -270,
     "elapsed": 5127,
     "user": {
      "displayName": "DaniaL Ha",
      "photoUrl": "https://lh3.googleusercontent.com/a-/AOh14GiRcJ0WxjalGy0bNYHXw1hl4sot0fF2_-1t4wbEag=s64",
      "userId": "15606141405640455496"
     }
    },
    "outputId": "a0acf93e-ab64-4b22-d541-f2dd944054f7"
   },
   "source": [
    "!unzip '/content/gdrive/My Drive/Digikala Contest/Sentiment Analysis/nlp_comments_users.zip' -d '/content/gdrive/My Drive/Digikala Contest/Sentiment Analysis'"
   ],
   "execution_count": 5,
   "outputs": [
    {
     "output_type": "stream",
     "text": [
      "Archive:  /content/gdrive/My Drive/Digikala Contest/Sentiment Analysis/nlp_comments_users.zip\n",
      "replace /content/gdrive/My Drive/Digikala Contest/Sentiment Analysis/test_users.csv? [y]es, [n]o, [A]ll, [N]one, [r]ename: N\n"
     ],
     "name": "stdout"
    }
   ]
  },
  {
   "cell_type": "code",
   "metadata": {
    "id": "W-fPzAi2YnUI",
    "colab_type": "code",
    "colab": {},
    "executionInfo": {
     "status": "ok",
     "timestamp": 1599899262083,
     "user_tz": -270,
     "elapsed": 3632,
     "user": {
      "displayName": "DaniaL Ha",
      "photoUrl": "https://lh3.googleusercontent.com/a-/AOh14GiRcJ0WxjalGy0bNYHXw1hl4sot0fF2_-1t4wbEag=s64",
      "userId": "15606141405640455496"
     }
    }
   },
   "source": [
    "train_df = pd.read_csv(base_dir + '/train_users.csv') \n",
    "test_df = pd.read_csv(base_dir + '/test_users.csv')"
   ],
   "execution_count": 6,
   "outputs": []
  },
  {
   "cell_type": "code",
   "metadata": {
    "id": "R-Fc7QyVYuHr",
    "colab_type": "code",
    "colab": {
     "base_uri": "https://localhost:8080/",
     "height": 289
    },
    "executionInfo": {
     "status": "ok",
     "timestamp": 1599899266474,
     "user_tz": -270,
     "elapsed": 1511,
     "user": {
      "displayName": "DaniaL Ha",
      "photoUrl": "https://lh3.googleusercontent.com/a-/AOh14GiRcJ0WxjalGy0bNYHXw1hl4sot0fF2_-1t4wbEag=s64",
      "userId": "15606141405640455496"
     }
    },
    "outputId": "b1fba514-6dba-4f43-927e-9c4000912e62"
   },
   "source": [
    "train_df.head(5)"
   ],
   "execution_count": 7,
   "outputs": [
    {
     "output_type": "execute_result",
     "data": {
      "text/html": [
       "<div>\n",
       "<style scoped>\n",
       "    .dataframe tbody tr th:only-of-type {\n",
       "        vertical-align: middle;\n",
       "    }\n",
       "\n",
       "    .dataframe tbody tr th {\n",
       "        vertical-align: top;\n",
       "    }\n",
       "\n",
       "    .dataframe thead th {\n",
       "        text-align: right;\n",
       "    }\n",
       "</style>\n",
       "<table border=\"1\" class=\"dataframe\">\n",
       "  <thead>\n",
       "    <tr style=\"text-align: right;\">\n",
       "      <th></th>\n",
       "      <th>id</th>\n",
       "      <th>title</th>\n",
       "      <th>comment</th>\n",
       "      <th>advantages</th>\n",
       "      <th>disadvantages</th>\n",
       "      <th>title_fa_product</th>\n",
       "      <th>title_fa_category</th>\n",
       "      <th>is_buyer</th>\n",
       "      <th>verification_status</th>\n",
       "      <th>rate</th>\n",
       "    </tr>\n",
       "  </thead>\n",
       "  <tbody>\n",
       "    <tr>\n",
       "      <th>0</th>\n",
       "      <td>0</td>\n",
       "      <td>NaN</td>\n",
       "      <td>مثل بقیه محصولات الکل دار پوست رو خشک نمیکنه</td>\n",
       "      <td>NaN</td>\n",
       "      <td>NaN</td>\n",
       "      <td>ژل ضد عفونی کننده دست شون مدل Aloevera حجم 300...</td>\n",
       "      <td>ضدعفونی کننده</td>\n",
       "      <td>1</td>\n",
       "      <td>1</td>\n",
       "      <td>100.0</td>\n",
       "    </tr>\n",
       "    <tr>\n",
       "      <th>1</th>\n",
       "      <td>1</td>\n",
       "      <td>Redmi 8</td>\n",
       "      <td>با این مبلغ اگه امکانات و ارزش خرید واستون مهم...</td>\n",
       "      <td>[\"رم4\\r\",\"قیمت نسبت به سایر برندها\\r\",\"طراحی و...</td>\n",
       "      <td>[\"نداشتن هندزفری\"]</td>\n",
       "      <td>گوشی موبایل شیائومی مدل Redmi 8 M1908C3IG دو س...</td>\n",
       "      <td>گوشی موبایل</td>\n",
       "      <td>1</td>\n",
       "      <td>1</td>\n",
       "      <td>80.0</td>\n",
       "    </tr>\n",
       "    <tr>\n",
       "      <th>2</th>\n",
       "      <td>2</td>\n",
       "      <td>عالی</td>\n",
       "      <td>خوبه فقط کج و کوله بدستم رسید ولی پسرم خیلی خو...</td>\n",
       "      <td>NaN</td>\n",
       "      <td>NaN</td>\n",
       "      <td>ماسک کودک طرح سگ نگهبان مدل رابل</td>\n",
       "      <td>ایفای نقش</td>\n",
       "      <td>1</td>\n",
       "      <td>1</td>\n",
       "      <td>100.0</td>\n",
       "    </tr>\n",
       "    <tr>\n",
       "      <th>3</th>\n",
       "      <td>3</td>\n",
       "      <td>NaN</td>\n",
       "      <td>در کل خوب بود ولی متاسفانه درب محصول شکسته بود...</td>\n",
       "      <td>NaN</td>\n",
       "      <td>NaN</td>\n",
       "      <td>مایع ضدعفونی کننده میوه و سبزیجات من مدل WT حج...</td>\n",
       "      <td>ضدعفونی کننده سطوح</td>\n",
       "      <td>1</td>\n",
       "      <td>1</td>\n",
       "      <td>70.0</td>\n",
       "    </tr>\n",
       "    <tr>\n",
       "      <th>4</th>\n",
       "      <td>4</td>\n",
       "      <td>NaN</td>\n",
       "      <td>من که خیلی باهاش حال کردم فقط من که همیشه L می...</td>\n",
       "      <td>NaN</td>\n",
       "      <td>NaN</td>\n",
       "      <td>تی شرت آستین کوتاه مردانه باینت کد 323-1 btt</td>\n",
       "      <td>تی شرت و پولوشرت مردانه</td>\n",
       "      <td>1</td>\n",
       "      <td>1</td>\n",
       "      <td>72.0</td>\n",
       "    </tr>\n",
       "  </tbody>\n",
       "</table>\n",
       "</div>"
      ],
      "text/plain": [
       "   id    title  ... verification_status   rate\n",
       "0   0      NaN  ...                   1  100.0\n",
       "1   1  Redmi 8  ...                   1   80.0\n",
       "2   2     عالی  ...                   1  100.0\n",
       "3   3      NaN  ...                   1   70.0\n",
       "4   4      NaN  ...                   1   72.0\n",
       "\n",
       "[5 rows x 10 columns]"
      ]
     },
     "metadata": {
      "tags": []
     },
     "execution_count": 7
    }
   ]
  },
  {
   "cell_type": "code",
   "metadata": {
    "id": "yPS6jHZjiiHN",
    "colab_type": "code",
    "colab": {
     "base_uri": "https://localhost:8080/",
     "height": 238
    },
    "executionInfo": {
     "status": "ok",
     "timestamp": 1599899268495,
     "user_tz": -270,
     "elapsed": 1414,
     "user": {
      "displayName": "DaniaL Ha",
      "photoUrl": "https://lh3.googleusercontent.com/a-/AOh14GiRcJ0WxjalGy0bNYHXw1hl4sot0fF2_-1t4wbEag=s64",
      "userId": "15606141405640455496"
     }
    },
    "outputId": "5fb954de-3cb9-477d-a882-1b4585d17057"
   },
   "source": [
    "test_df.head(5)"
   ],
   "execution_count": 8,
   "outputs": [
    {
     "output_type": "execute_result",
     "data": {
      "text/html": [
       "<div>\n",
       "<style scoped>\n",
       "    .dataframe tbody tr th:only-of-type {\n",
       "        vertical-align: middle;\n",
       "    }\n",
       "\n",
       "    .dataframe tbody tr th {\n",
       "        vertical-align: top;\n",
       "    }\n",
       "\n",
       "    .dataframe thead th {\n",
       "        text-align: right;\n",
       "    }\n",
       "</style>\n",
       "<table border=\"1\" class=\"dataframe\">\n",
       "  <thead>\n",
       "    <tr style=\"text-align: right;\">\n",
       "      <th></th>\n",
       "      <th>id</th>\n",
       "      <th>title</th>\n",
       "      <th>comment</th>\n",
       "      <th>advantages</th>\n",
       "      <th>disadvantages</th>\n",
       "      <th>title_fa_product</th>\n",
       "      <th>title_fa_category</th>\n",
       "      <th>is_buyer</th>\n",
       "    </tr>\n",
       "  </thead>\n",
       "  <tbody>\n",
       "    <tr>\n",
       "      <th>0</th>\n",
       "      <td>0</td>\n",
       "      <td>با کیفیت</td>\n",
       "      <td>بسته بندی بهداشتی و کیفیت عالی</td>\n",
       "      <td>NaN</td>\n",
       "      <td>NaN</td>\n",
       "      <td>گوش پاک کن کتابی پنبه ریز بسته 200 عددی</td>\n",
       "      <td>گوش پاک کن</td>\n",
       "      <td>1</td>\n",
       "    </tr>\n",
       "    <tr>\n",
       "      <th>1</th>\n",
       "      <td>1</td>\n",
       "      <td>گوشی موبایل شیائومی</td>\n",
       "      <td>این گوشی فوق‌العاده است</td>\n",
       "      <td>[\"این گوشی همه چیش فوق‌العاده است از دوربین تا...</td>\n",
       "      <td>[\"اصلا هیچ نقاط ضعفی نداره \"]</td>\n",
       "      <td>گوشی موبایل شیائومی مدل Redmi Note 8 M1908C3JG...</td>\n",
       "      <td>گوشی موبایل</td>\n",
       "      <td>1</td>\n",
       "    </tr>\n",
       "    <tr>\n",
       "      <th>2</th>\n",
       "      <td>2</td>\n",
       "      <td>NaN</td>\n",
       "      <td>صداش قطع میشه باتریشم خیییلی ضعیفه</td>\n",
       "      <td>NaN</td>\n",
       "      <td>NaN</td>\n",
       "      <td>هدفون بی سیم مدل inpods 12</td>\n",
       "      <td>هدفون، هدست و هندزفری</td>\n",
       "      <td>1</td>\n",
       "    </tr>\n",
       "    <tr>\n",
       "      <th>3</th>\n",
       "      <td>3</td>\n",
       "      <td>NaN</td>\n",
       "      <td>بنظرم‌ خوبه</td>\n",
       "      <td>NaN</td>\n",
       "      <td>NaN</td>\n",
       "      <td>خمیر دندان نسیم مدل Feluoride Protection مقدار...</td>\n",
       "      <td>خمیر دندان</td>\n",
       "      <td>1</td>\n",
       "    </tr>\n",
       "    <tr>\n",
       "      <th>4</th>\n",
       "      <td>4</td>\n",
       "      <td>عااالیه</td>\n",
       "      <td>عااالیه</td>\n",
       "      <td>[\"عاااالیه\"]</td>\n",
       "      <td>NaN</td>\n",
       "      <td>کرم موبر صورت و بدن سینره حجم 100 میلی لیتر</td>\n",
       "      <td>کرم موبر</td>\n",
       "      <td>1</td>\n",
       "    </tr>\n",
       "  </tbody>\n",
       "</table>\n",
       "</div>"
      ],
      "text/plain": [
       "   id                title  ...      title_fa_category is_buyer\n",
       "0   0             با کیفیت  ...             گوش پاک کن        1\n",
       "1   1  گوشی موبایل شیائومی  ...            گوشی موبایل        1\n",
       "2   2                  NaN  ...  هدفون، هدست و هندزفری        1\n",
       "3   3                  NaN  ...             خمیر دندان        1\n",
       "4   4              عااالیه  ...               کرم موبر        1\n",
       "\n",
       "[5 rows x 8 columns]"
      ]
     },
     "metadata": {
      "tags": []
     },
     "execution_count": 8
    }
   ]
  },
  {
   "cell_type": "code",
   "metadata": {
    "id": "GVk4BXVgYzE7",
    "colab_type": "code",
    "colab": {},
    "executionInfo": {
     "status": "ok",
     "timestamp": 1599899269550,
     "user_tz": -270,
     "elapsed": 1754,
     "user": {
      "displayName": "DaniaL Ha",
      "photoUrl": "https://lh3.googleusercontent.com/a-/AOh14GiRcJ0WxjalGy0bNYHXw1hl4sot0fF2_-1t4wbEag=s64",
      "userId": "15606141405640455496"
     }
    }
   },
   "source": [
    "train_texts = train_df['comment'].tolist()\n",
    "test_texts = test_df['comment'].tolist()"
   ],
   "execution_count": 9,
   "outputs": []
  },
  {
   "cell_type": "code",
   "metadata": {
    "id": "d0waWoypibKA",
    "colab_type": "code",
    "colab": {},
    "executionInfo": {
     "status": "ok",
     "timestamp": 1599899270432,
     "user_tz": -270,
     "elapsed": 1670,
     "user": {
      "displayName": "DaniaL Ha",
      "photoUrl": "https://lh3.googleusercontent.com/a-/AOh14GiRcJ0WxjalGy0bNYHXw1hl4sot0fF2_-1t4wbEag=s64",
      "userId": "15606141405640455496"
     }
    }
   },
   "source": [
    "train_labels = train_df['rate'].tolist()\n",
    "train_labels = [int(rate // 5) for rate in train_labels]"
   ],
   "execution_count": 10,
   "outputs": []
  },
  {
   "cell_type": "code",
   "metadata": {
    "id": "_nx-NylCRSix",
    "colab_type": "code",
    "colab": {
     "base_uri": "https://localhost:8080/",
     "height": 34
    },
    "executionInfo": {
     "status": "ok",
     "timestamp": 1599899319969,
     "user_tz": -270,
     "elapsed": 1671,
     "user": {
      "displayName": "DaniaL Ha",
      "photoUrl": "https://lh3.googleusercontent.com/a-/AOh14GiRcJ0WxjalGy0bNYHXw1hl4sot0fF2_-1t4wbEag=s64",
      "userId": "15606141405640455496"
     }
    },
    "outputId": "d66920c5-03b5-4d21-c4db-8eff9b466c59"
   },
   "source": [
    "num_classes = len(set(train_labels))\n",
    "num_classes"
   ],
   "execution_count": 11,
   "outputs": [
    {
     "output_type": "execute_result",
     "data": {
      "text/plain": [
       "21"
      ]
     },
     "metadata": {
      "tags": []
     },
     "execution_count": 11
    }
   ]
  },
  {
   "cell_type": "code",
   "metadata": {
    "id": "KL0bTu42jgLx",
    "colab_type": "code",
    "colab": {
     "base_uri": "https://localhost:8080/",
     "height": 34
    },
    "executionInfo": {
     "status": "ok",
     "timestamp": 1599899319970,
     "user_tz": -270,
     "elapsed": 1581,
     "user": {
      "displayName": "DaniaL Ha",
      "photoUrl": "https://lh3.googleusercontent.com/a-/AOh14GiRcJ0WxjalGy0bNYHXw1hl4sot0fF2_-1t4wbEag=s64",
      "userId": "15606141405640455496"
     }
    },
    "outputId": "80050e41-3256-4050-b69e-4aef677a9421"
   },
   "source": [
    "len(train_df), len(test_df)"
   ],
   "execution_count": 12,
   "outputs": [
    {
     "output_type": "execute_result",
     "data": {
      "text/plain": [
       "(264399, 19399)"
      ]
     },
     "metadata": {
      "tags": []
     },
     "execution_count": 12
    }
   ]
  },
  {
   "cell_type": "code",
   "metadata": {
    "id": "_bDvBmaBP506",
    "colab_type": "code",
    "colab": {
     "base_uri": "https://localhost:8080/",
     "height": 35
    },
    "executionInfo": {
     "status": "ok",
     "timestamp": 1599854884675,
     "user_tz": -270,
     "elapsed": 1074,
     "user": {
      "displayName": "DaniaL Ha",
      "photoUrl": "https://lh3.googleusercontent.com/a-/AOh14GiRcJ0WxjalGy0bNYHXw1hl4sot0fF2_-1t4wbEag=s64",
      "userId": "15606141405640455496"
     }
    },
    "outputId": "6d523b95-734f-4e04-fd33-c7a1a1fbc161"
   },
   "source": [
    "train_texts[100]"
   ],
   "execution_count": null,
   "outputs": [
    {
     "output_type": "execute_result",
     "data": {
      "application/vnd.google.colaboratory.intrinsic+json": {
       "type": "string"
      },
      "text/plain": [
       "'تطابق قیمت و کیفیت. رطوبت خوب و کافی، بوی خوب. از محصولات ایرانی حمایت کنیم.'"
      ]
     },
     "metadata": {
      "tags": []
     },
     "execution_count": 14
    }
   ]
  },
  {
   "cell_type": "code",
   "metadata": {
    "id": "tE5_YKLuinaJ",
    "colab_type": "code",
    "colab": {}
   },
   "source": [
    "# train_texts_cleaned = []\n",
    "\n",
    "# TODO: cleaning the text, removing stopwords, maybe use Hazm?\n",
    "# for text in train_texts:\n",
    "#   text_cleaned = ' '.join(filter(lambda x: (x[0] != '@') and (x[:7] != 'http://'), text.split()))\n",
    "#   train_texts_cleaned.append(text_cleaned)\n",
    "\n",
    "# train_texts = train_texts_cleaned\n",
    "import re\n",
    "\n",
    "# train_texts = [print(type(sentence)) for sentence in train_texts]\n",
    "\n",
    "# the empty comments are float, we replace them with an empty string\n",
    "for i in range(len(train_texts)):\n",
    "  if type(train_texts[i]) == float:\n",
    "    train_texts[i] = ''"
   ],
   "execution_count": null,
   "outputs": []
  },
  {
   "cell_type": "code",
   "metadata": {
    "id": "nwOwNmuTtWfb",
    "colab_type": "code",
    "colab": {}
   },
   "source": [
    "# the empty comments are float, we replace them with an empty string\n",
    "for i in range(len(test_texts)):\n",
    "  if type(test_texts[i]) == float:\n",
    "    test_texts[i] = ''"
   ],
   "execution_count": null,
   "outputs": []
  },
  {
   "cell_type": "code",
   "metadata": {
    "id": "ZOdkT5vMnbnX",
    "colab_type": "code",
    "colab": {}
   },
   "source": [
    "from urllib.request import urlopen\n",
    "import gzip"
   ],
   "execution_count": null,
   "outputs": []
  },
  {
   "cell_type": "code",
   "metadata": {
    "id": "9scvTD3cnjWZ",
    "colab_type": "code",
    "colab": {}
   },
   "source": [
    "embedding_file = gzip.open(urlopen('https://dl.fbaipublicfiles.com/fasttext/vectors-crawl/cc.fa.300.vec.gz'))"
   ],
   "execution_count": null,
   "outputs": []
  },
  {
   "cell_type": "code",
   "metadata": {
    "id": "R9EoYVA_n39G",
    "colab_type": "code",
    "colab": {}
   },
   "source": [
    "fasttext_embeddings = {}\n",
    "# put words as dict indexes and vectors as dict values\n",
    "\n",
    "for line in embedding_file:\n",
    "  values = line.split()\n",
    "  word = values [0].decode('utf-8')\n",
    "  vector = np.asarray(values[1:], dtype='float32')\n",
    "  fasttext_embeddings[word] = vector"
   ],
   "execution_count": null,
   "outputs": []
  },
  {
   "cell_type": "code",
   "metadata": {
    "id": "9ulKVLYqooI8",
    "colab_type": "code",
    "colab": {}
   },
   "source": [
    "vocab_size = 20000\n",
    "max_length = 40 # Estimated average length of comments\n",
    "trunc_type='post'\n",
    "padding_type='post'\n",
    "oov_tok = \"<OOV>\""
   ],
   "execution_count": null,
   "outputs": []
  },
  {
   "cell_type": "code",
   "metadata": {
    "id": "h1H3mGv-qSbK",
    "colab_type": "code",
    "colab": {}
   },
   "source": [
    "tokenizer = Tokenizer(num_words=vocab_size, oov_token=oov_tok)\n",
    "tokenizer.fit_on_texts(train_texts)\n",
    "\n",
    "word_index = tokenizer.word_index\n",
    "\n",
    "train_sequences = tokenizer.texts_to_sequences(train_texts)\n",
    "train_padded = pad_sequences(train_sequences, maxlen=max_length, padding=padding_type, truncating=trunc_type)\n",
    "\n",
    "test_sequences = tokenizer.texts_to_sequences(test_texts)\n",
    "test_padded = pad_sequences(test_sequences, maxlen=max_length, padding=padding_type, truncating=trunc_type)"
   ],
   "execution_count": null,
   "outputs": []
  },
  {
   "cell_type": "code",
   "metadata": {
    "id": "EsIx0tXTqiLx",
    "colab_type": "code",
    "colab": {}
   },
   "source": [
    "# Need this block to get it to work with TensorFlow 2.x\n",
    "from keras.utils import to_categorical\n",
    "\n",
    "train_padded = np.array(train_padded)\n",
    "train_labels = np.array(train_labels)\n",
    "train_labels = to_categorical(train_labels)\n",
    "\n",
    "test_padded = np.array(test_padded)"
   ],
   "execution_count": null,
   "outputs": []
  },
  {
   "cell_type": "code",
   "metadata": {
    "id": "KNJ4TjhVqtcO",
    "colab_type": "code",
    "colab": {
     "base_uri": "https://localhost:8080/",
     "height": 34
    },
    "executionInfo": {
     "status": "ok",
     "timestamp": 1599855086293,
     "user_tz": -270,
     "elapsed": 1324,
     "user": {
      "displayName": "DaniaL Ha",
      "photoUrl": "https://lh3.googleusercontent.com/a-/AOh14GiRcJ0WxjalGy0bNYHXw1hl4sot0fF2_-1t4wbEag=s64",
      "userId": "15606141405640455496"
     }
    },
    "outputId": "edaa0a01-3c0d-4c34-ec24-a9186358142d"
   },
   "source": [
    "num_tokens = len(word_index) + 1\n",
    "embedding_dim = 300\n",
    "hits = 0\n",
    "misses = 0\n",
    "\n",
    "# Prepare embedding matrix\n",
    "embedding_matrix = np.zeros((num_tokens, embedding_dim))\n",
    "for word, i in word_index.items():\n",
    "    embedding_vector = fasttext_embeddings.get(word)\n",
    "    if embedding_vector is not None:\n",
    "        # Words not found in embedding index will be all-zeros.\n",
    "        # This includes the representation for \"padding\" and \"OOV\"\n",
    "        embedding_matrix[i] = embedding_vector\n",
    "        hits += 1\n",
    "    else:\n",
    "        misses += 1\n",
    "print(\"Converted %d words (%d misses)\" % (hits, misses))"
   ],
   "execution_count": null,
   "outputs": [
    {
     "output_type": "stream",
     "text": [
      "Converted 47084 words (41998 misses)\n"
     ],
     "name": "stdout"
    }
   ]
  },
  {
   "cell_type": "code",
   "metadata": {
    "id": "JkrNes_huANW",
    "colab_type": "code",
    "colab": {}
   },
   "source": [
    "from keras.models import Sequential\n",
    "from keras.layers import LSTM, Dense, Embedding"
   ],
   "execution_count": null,
   "outputs": []
  },
  {
   "cell_type": "code",
   "metadata": {
    "id": "JWiFKvzwvQOY",
    "colab_type": "code",
    "colab": {}
   },
   "source": [
    "early_stopping = EarlyStopping(monitor= 'val_loss', patience= 2, mode='min')"
   ],
   "execution_count": null,
   "outputs": []
  },
  {
   "cell_type": "code",
   "metadata": {
    "id": "ILhtZW4OTakN",
    "colab_type": "code",
    "colab": {}
   },
   "source": [
    "from tensorflow.python.ops import math_ops\n",
    "from tensorflow.python.framework import ops\n",
    "from tensorflow.python.keras import backend as K\n",
    "\n",
    "\n",
    "def smape(y_true, y_pred):\n",
    "  y_pred = ops.convert_to_tensor_v2(y_pred)\n",
    "  y_true = math_ops.cast(y_true, y_pred.dtype)\n",
    "  diff = math_ops.abs(\n",
    "      (y_true - y_pred) / math_ops.add(math_ops.abs(y_true), math_ops(y_pred))\n",
    "      )\n",
    "  return 100. * K.mean(diff, axis=-1)"
   ],
   "execution_count": null,
   "outputs": []
  },
  {
   "cell_type": "code",
   "metadata": {
    "id": "GYLfMvTzud5v",
    "colab_type": "code",
    "colab": {}
   },
   "source": [
    "model = tf.keras.Sequential([\n",
    "                             tf.keras.layers.Embedding(num_tokens, embedding_dim,\n",
    "                                                       embeddings_initializer=tf.keras.initializers.Constant(embedding_matrix),\n",
    "                                                       trainable=True),\n",
    "                             tf.keras.layers.Bidirectional(tf.keras.layers.LSTM(32)),\n",
    "                             tf.keras.layers.Dense(24, activation='relu'),\n",
    "                             tf.keras.layers.Dense(num_classes, activation='softmax')\n",
    "                             ])\n",
    "\n",
    "model.compile(loss='categorical_crossentropy',optimizer='adam',metrics=['accuracy'])"
   ],
   "execution_count": null,
   "outputs": []
  },
  {
   "cell_type": "code",
   "metadata": {
    "id": "IpNiIzZGuu6R",
    "colab_type": "code",
    "colab": {
     "base_uri": "https://localhost:8080/",
     "height": 289
    },
    "executionInfo": {
     "status": "ok",
     "timestamp": 1599855105685,
     "user_tz": -270,
     "elapsed": 607,
     "user": {
      "displayName": "DaniaL Ha",
      "photoUrl": "https://lh3.googleusercontent.com/a-/AOh14GiRcJ0WxjalGy0bNYHXw1hl4sot0fF2_-1t4wbEag=s64",
      "userId": "15606141405640455496"
     }
    },
    "outputId": "dd07b8c0-e97f-4a8a-fb3b-976b325f9482"
   },
   "source": [
    "model.summary()"
   ],
   "execution_count": null,
   "outputs": [
    {
     "output_type": "stream",
     "text": [
      "Model: \"sequential_1\"\n",
      "_________________________________________________________________\n",
      "Layer (type)                 Output Shape              Param #   \n",
      "=================================================================\n",
      "embedding_1 (Embedding)      (None, None, 300)         26724900  \n",
      "_________________________________________________________________\n",
      "bidirectional_1 (Bidirection (None, 64)                85248     \n",
      "_________________________________________________________________\n",
      "dense_2 (Dense)              (None, 24)                1560      \n",
      "_________________________________________________________________\n",
      "dense_3 (Dense)              (None, 21)                525       \n",
      "=================================================================\n",
      "Total params: 26,812,233\n",
      "Trainable params: 26,812,233\n",
      "Non-trainable params: 0\n",
      "_________________________________________________________________\n"
     ],
     "name": "stdout"
    }
   ]
  },
  {
   "cell_type": "code",
   "metadata": {
    "id": "FQwqCkeeu8Gg",
    "colab_type": "code",
    "colab": {
     "base_uri": "https://localhost:8080/",
     "height": 153
    },
    "executionInfo": {
     "status": "ok",
     "timestamp": 1599856964712,
     "user_tz": -270,
     "elapsed": 1858068,
     "user": {
      "displayName": "DaniaL Ha",
      "photoUrl": "https://lh3.googleusercontent.com/a-/AOh14GiRcJ0WxjalGy0bNYHXw1hl4sot0fF2_-1t4wbEag=s64",
      "userId": "15606141405640455496"
     }
    },
    "outputId": "4683d802-49d4-411c-acd4-c2ea686f0fd9"
   },
   "source": [
    "num_epochs = 5\n",
    "history = model.fit(train_padded, train_labels, batch_size=128, epochs=num_epochs, validation_split=0.1, callbacks=[early_stopping])"
   ],
   "execution_count": null,
   "outputs": [
    {
     "output_type": "stream",
     "text": [
      "Epoch 1/5\n",
      "1860/1860 [==============================] - 464s 249ms/step - loss: 1.8201 - accuracy: 0.3500 - val_loss: 1.7694 - val_accuracy: 0.3698\n",
      "Epoch 2/5\n",
      "1860/1860 [==============================] - 462s 249ms/step - loss: 1.7079 - accuracy: 0.3944 - val_loss: 1.7573 - val_accuracy: 0.3719\n",
      "Epoch 3/5\n",
      "1860/1860 [==============================] - 461s 248ms/step - loss: 1.6381 - accuracy: 0.4236 - val_loss: 1.7877 - val_accuracy: 0.3660\n",
      "Epoch 4/5\n",
      "1860/1860 [==============================] - 460s 247ms/step - loss: 1.5577 - accuracy: 0.4537 - val_loss: 1.8434 - val_accuracy: 0.3624\n"
     ],
     "name": "stdout"
    }
   ]
  },
  {
   "cell_type": "code",
   "metadata": {
    "id": "C4E_YIiKvRLX",
    "colab_type": "code",
    "colab": {
     "base_uri": "https://localhost:8080/",
     "height": 1000
    },
    "executionInfo": {
     "status": "ok",
     "timestamp": 1599856970143,
     "user_tz": -270,
     "elapsed": 1843,
     "user": {
      "displayName": "DaniaL Ha",
      "photoUrl": "https://lh3.googleusercontent.com/a-/AOh14GiRcJ0WxjalGy0bNYHXw1hl4sot0fF2_-1t4wbEag=s64",
      "userId": "15606141405640455496"
     }
    },
    "outputId": "e798ace6-6201-4d43-f21a-12cbcf0caf3c"
   },
   "source": [
    "import matplotlib.pyplot as plt\n",
    "import seaborn as sns\n",
    "sns.set(rc={'figure.figsize':(12,8)})\n",
    "\n",
    "def plot_graphs(model_history, ploting_variable):\n",
    "  plt.plot(model_history.history[ploting_variable])\n",
    "  plt.plot(model_history.history['val_' + ploting_variable])\n",
    "  plt.xlabel(\"Epochs\")\n",
    "  plt.ylabel(ploting_variable)\n",
    "  plt.legend([ploting_variable, 'val_' + ploting_variable])\n",
    "  plt.show()\n",
    "\n",
    "plot_graphs(history, \"accuracy\")\n",
    "plot_graphs(history, \"loss\")"
   ],
   "execution_count": null,
   "outputs": [
    {
     "output_type": "stream",
     "text": [
      "/usr/local/lib/python3.6/dist-packages/statsmodels/tools/_testing.py:19: FutureWarning: pandas.util.testing is deprecated. Use the functions in the public API at pandas.testing instead.\n",
      "  import pandas.util.testing as tm\n"
     ],
     "name": "stderr"
    },
    {
     "output_type": "display_data",
     "data": {
      "image/png": "[encoded data removed]",
      "text/plain": [
       "<Figure size 864x576 with 1 Axes>"
      ]
     },
     "metadata": {
      "tags": []
     }
    },
    {
     "output_type": "display_data",
     "data": {
      "image/png": "[encoded data removed]",
      "text/plain": [
       "<Figure size 864x576 with 1 Axes>"
      ]
     },
     "metadata": {
      "tags": []
     }
    }
   ]
  },
  {
   "cell_type": "code",
   "metadata": {
    "id": "p84klBpxz4lp",
    "colab_type": "code",
    "colab": {}
   },
   "source": [
    "test_predict = model.predict(test_padded)"
   ],
   "execution_count": null,
   "outputs": []
  },
  {
   "cell_type": "code",
   "metadata": {
    "id": "xZF-yo_60fkk",
    "colab_type": "code",
    "colab": {
     "base_uri": "https://localhost:8080/",
     "height": 119
    },
    "executionInfo": {
     "status": "ok",
     "timestamp": 1599856991526,
     "user_tz": -270,
     "elapsed": 1081,
     "user": {
      "displayName": "DaniaL Ha",
      "photoUrl": "https://lh3.googleusercontent.com/a-/AOh14GiRcJ0WxjalGy0bNYHXw1hl4sot0fF2_-1t4wbEag=s64",
      "userId": "15606141405640455496"
     }
    },
    "outputId": "813cc129-bcda-4222-b617-568137ce03c4"
   },
   "source": [
    "test_predict[0]"
   ],
   "execution_count": null,
   "outputs": [
    {
     "output_type": "execute_result",
     "data": {
      "text/plain": [
       "array([3.0416101e-01, 5.1653626e-07, 1.0962953e-06, 9.7831207e-07,\n",
       "       8.7055465e-05, 2.0588506e-05, 2.3688437e-05, 3.0242574e-05,\n",
       "       5.2800274e-04, 1.3755733e-04, 5.1162048e-04, 5.6828721e-04,\n",
       "       1.5337239e-01, 2.1261028e-03, 3.4695016e-03, 6.0898880e-03,\n",
       "       1.3587798e-01, 1.3162438e-02, 1.0298843e-02, 7.6939631e-03,\n",
       "       3.6183822e-01], dtype=float32)"
      ]
     },
     "metadata": {
      "tags": []
     },
     "execution_count": 33
    }
   ]
  },
  {
   "cell_type": "code",
   "metadata": {
    "id": "iftgHFB36k8Y",
    "colab_type": "code",
    "colab": {
     "base_uri": "https://localhost:8080/",
     "height": 34
    },
    "executionInfo": {
     "status": "ok",
     "timestamp": 1599857398912,
     "user_tz": -270,
     "elapsed": 1467,
     "user": {
      "displayName": "DaniaL Ha",
      "photoUrl": "https://lh3.googleusercontent.com/a-/AOh14GiRcJ0WxjalGy0bNYHXw1hl4sot0fF2_-1t4wbEag=s64",
      "userId": "15606141405640455496"
     }
    },
    "outputId": "9696a41d-236e-4001-8ab8-d302a3121aac"
   },
   "source": [
    "predictions = [np.argmax(prediction_i) for prediction_i in test_predict]\n",
    "predictions = [prediction * 5 for prediction in predictions]\n",
    "predictions[:10]"
   ],
   "execution_count": null,
   "outputs": [
    {
     "output_type": "execute_result",
     "data": {
      "text/plain": [
       "[100, 100, 20, 0, 100, 100, 100, 0, 60, 80]"
      ]
     },
     "metadata": {
      "tags": []
     },
     "execution_count": 41
    }
   ]
  },
  {
   "cell_type": "code",
   "metadata": {
    "id": "FNygdfSu0iBm",
    "colab_type": "code",
    "colab": {}
   },
   "source": [
    " predictions_df = test_df.copy()\n",
    " predictions_df.drop(labels=\n",
    "                   ['title', 'comment', 'advantages', 'disadvantages', 'title_fa_product', 'title_fa_category', 'is_buyer'],\n",
    "                   axis=1, inplace=True)\n",
    " predictions_df['rate'] = predictions"
   ],
   "execution_count": null,
   "outputs": []
  },
  {
   "cell_type": "code",
   "metadata": {
    "id": "1esuujUP2AHE",
    "colab_type": "code",
    "colab": {
     "base_uri": "https://localhost:8080/",
     "height": 419
    },
    "executionInfo": {
     "status": "ok",
     "timestamp": 1599857430074,
     "user_tz": -270,
     "elapsed": 624,
     "user": {
      "displayName": "DaniaL Ha",
      "photoUrl": "https://lh3.googleusercontent.com/a-/AOh14GiRcJ0WxjalGy0bNYHXw1hl4sot0fF2_-1t4wbEag=s64",
      "userId": "15606141405640455496"
     }
    },
    "outputId": "69507b2e-49e7-45e4-80e2-a86c6f87cac7"
   },
   "source": [
    "predictions_df"
   ],
   "execution_count": null,
   "outputs": [
    {
     "output_type": "execute_result",
     "data": {
      "text/html": [
       "<div>\n",
       "<style scoped>\n",
       "    .dataframe tbody tr th:only-of-type {\n",
       "        vertical-align: middle;\n",
       "    }\n",
       "\n",
       "    .dataframe tbody tr th {\n",
       "        vertical-align: top;\n",
       "    }\n",
       "\n",
       "    .dataframe thead th {\n",
       "        text-align: right;\n",
       "    }\n",
       "</style>\n",
       "<table border=\"1\" class=\"dataframe\">\n",
       "  <thead>\n",
       "    <tr style=\"text-align: right;\">\n",
       "      <th></th>\n",
       "      <th>id</th>\n",
       "      <th>rate</th>\n",
       "    </tr>\n",
       "  </thead>\n",
       "  <tbody>\n",
       "    <tr>\n",
       "      <th>0</th>\n",
       "      <td>0</td>\n",
       "      <td>100</td>\n",
       "    </tr>\n",
       "    <tr>\n",
       "      <th>1</th>\n",
       "      <td>1</td>\n",
       "      <td>100</td>\n",
       "    </tr>\n",
       "    <tr>\n",
       "      <th>2</th>\n",
       "      <td>2</td>\n",
       "      <td>20</td>\n",
       "    </tr>\n",
       "    <tr>\n",
       "      <th>3</th>\n",
       "      <td>3</td>\n",
       "      <td>0</td>\n",
       "    </tr>\n",
       "    <tr>\n",
       "      <th>4</th>\n",
       "      <td>4</td>\n",
       "      <td>100</td>\n",
       "    </tr>\n",
       "    <tr>\n",
       "      <th>...</th>\n",
       "      <td>...</td>\n",
       "      <td>...</td>\n",
       "    </tr>\n",
       "    <tr>\n",
       "      <th>19394</th>\n",
       "      <td>19394</td>\n",
       "      <td>80</td>\n",
       "    </tr>\n",
       "    <tr>\n",
       "      <th>19395</th>\n",
       "      <td>19395</td>\n",
       "      <td>100</td>\n",
       "    </tr>\n",
       "    <tr>\n",
       "      <th>19396</th>\n",
       "      <td>19396</td>\n",
       "      <td>60</td>\n",
       "    </tr>\n",
       "    <tr>\n",
       "      <th>19397</th>\n",
       "      <td>19397</td>\n",
       "      <td>80</td>\n",
       "    </tr>\n",
       "    <tr>\n",
       "      <th>19398</th>\n",
       "      <td>19398</td>\n",
       "      <td>0</td>\n",
       "    </tr>\n",
       "  </tbody>\n",
       "</table>\n",
       "<p>19399 rows × 2 columns</p>\n",
       "</div>"
      ],
      "text/plain": [
       "          id  rate\n",
       "0          0   100\n",
       "1          1   100\n",
       "2          2    20\n",
       "3          3     0\n",
       "4          4   100\n",
       "...      ...   ...\n",
       "19394  19394    80\n",
       "19395  19395   100\n",
       "19396  19396    60\n",
       "19397  19397    80\n",
       "19398  19398     0\n",
       "\n",
       "[19399 rows x 2 columns]"
      ]
     },
     "metadata": {
      "tags": []
     },
     "execution_count": 43
    }
   ]
  },
  {
   "cell_type": "code",
   "metadata": {
    "id": "Jit94_8L2NgD",
    "colab_type": "code",
    "colab": {}
   },
   "source": [
    "predictions_df.to_csv(base_dir + '/predictions.csv', index= False)"
   ],
   "execution_count": null,
   "outputs": []
  },
  {
   "cell_type": "code",
   "metadata": {
    "id": "HubU6qn524Ur",
    "colab_type": "code",
    "colab": {}
   },
   "source": [],
   "execution_count": null,
   "outputs": []
  }
 ]
}
