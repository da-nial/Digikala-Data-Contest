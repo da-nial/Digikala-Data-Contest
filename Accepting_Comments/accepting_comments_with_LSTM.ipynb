{
 "nbformat": 4,
 "nbformat_minor": 0,
 "metadata": {
  "colab": {
   "name": "Copy of Digikala - Accepting Comments - v2 - lstm.ipynb",
   "provenance": [
    {
     "file_id": "1R5PVNRKoDDPZVFFZRSRpqQ3LD1gsxGd_",
     "timestamp": 1599921065175
    },
    {
     "file_id": "1OVV-dOiGsugHY94AtQKaJ5c5u12DpHBh",
     "timestamp": 1599842103248
    }
   ],
   "collapsed_sections": [],
   "authorship_tag": "ABX9TyOg13lmYd7J9E6MQkpfTvXo"
  },
  "kernelspec": {
   "name": "python3",
   "display_name": "Python 3"
  },
  "accelerator": "GPU"
 },
 "cells": [
  {
   "cell_type": "code",
   "metadata": {
    "id": "fxOibDQFWsKg",
    "colab_type": "code",
    "colab": {
     "base_uri": "https://localhost:8080/",
     "height": 34
    },
    "executionInfo": {
     "status": "ok",
     "timestamp": 1599921132801,
     "user_tz": -270,
     "elapsed": 37756,
     "user": {
      "displayName": "DaniaL Ha",
      "photoUrl": "https://lh3.googleusercontent.com/a-/AOh14GiRcJ0WxjalGy0bNYHXw1hl4sot0fF2_-1t4wbEag=s64",
      "userId": "15606141405640455496"
     }
    },
    "outputId": "71587221-4c4f-465a-b207-9fb49bf781d8"
   },
   "source": [
    "from google.colab import drive\n",
    "drive.mount('/content/gdrive')"
   ],
   "execution_count": 1,
   "outputs": [
    {
     "output_type": "stream",
     "text": [
      "Mounted at /content/gdrive\n"
     ],
     "name": "stdout"
    }
   ]
  },
  {
   "cell_type": "code",
   "metadata": {
    "id": "3TvygBlvXGCt",
    "colab_type": "code",
    "colab": {},
    "executionInfo": {
     "status": "ok",
     "timestamp": 1599921142084,
     "user_tz": -270,
     "elapsed": 3387,
     "user": {
      "displayName": "DaniaL Ha",
      "photoUrl": "https://lh3.googleusercontent.com/a-/AOh14GiRcJ0WxjalGy0bNYHXw1hl4sot0fF2_-1t4wbEag=s64",
      "userId": "15606141405640455496"
     }
    }
   },
   "source": [
    "from tensorflow.keras.preprocessing.text import Tokenizer\n",
    "from tensorflow.keras.preprocessing.sequence import pad_sequences\n",
    "from tensorflow.keras.callbacks import EarlyStopping\n",
    "\n",
    "import tensorflow as tf\n",
    "import pandas as pd\n",
    "import numpy as np"
   ],
   "execution_count": 2,
   "outputs": []
  },
  {
   "cell_type": "code",
   "metadata": {
    "id": "iMv-TZEAYalh",
    "colab_type": "code",
    "colab": {},
    "executionInfo": {
     "status": "ok",
     "timestamp": 1599921143423,
     "user_tz": -270,
     "elapsed": 686,
     "user": {
      "displayName": "DaniaL Ha",
      "photoUrl": "https://lh3.googleusercontent.com/a-/AOh14GiRcJ0WxjalGy0bNYHXw1hl4sot0fF2_-1t4wbEag=s64",
      "userId": "15606141405640455496"
     }
    }
   },
   "source": [
    "base_dir = '/content/gdrive/My Drive/Digikala Contest/Accepting Comments'"
   ],
   "execution_count": 3,
   "outputs": []
  },
  {
   "cell_type": "code",
   "metadata": {
    "id": "oGIJAsZsYdGl",
    "colab_type": "code",
    "colab": {
     "base_uri": "https://localhost:8080/",
     "height": 51
    },
    "executionInfo": {
     "status": "ok",
     "timestamp": 1599921152318,
     "user_tz": -270,
     "elapsed": 8136,
     "user": {
      "displayName": "DaniaL Ha",
      "photoUrl": "https://lh3.googleusercontent.com/a-/AOh14GiRcJ0WxjalGy0bNYHXw1hl4sot0fF2_-1t4wbEag=s64",
      "userId": "15606141405640455496"
     }
    },
    "outputId": "2d18e118-e242-4042-dcbb-f376fdeb3062"
   },
   "source": [
    "!unzip '/content/gdrive/My Drive/Digikala Contest/Accepting Comments/nlp_comments_users.zip' -d '/content/gdrive/My Drive/Digikala Contest/Accepting Comments'"
   ],
   "execution_count": 4,
   "outputs": [
    {
     "output_type": "stream",
     "text": [
      "Archive:  /content/gdrive/My Drive/Digikala Contest/Accepting Comments/nlp_comments_users.zip\n",
      "replace /content/gdrive/My Drive/Digikala Contest/Accepting Comments/test_users.csv? [y]es, [n]o, [A]ll, [N]one, [r]ename: N\n"
     ],
     "name": "stdout"
    }
   ]
  },
  {
   "cell_type": "code",
   "metadata": {
    "id": "W-fPzAi2YnUI",
    "colab_type": "code",
    "colab": {},
    "executionInfo": {
     "status": "ok",
     "timestamp": 1599921167581,
     "user_tz": -270,
     "elapsed": 3097,
     "user": {
      "displayName": "DaniaL Ha",
      "photoUrl": "https://lh3.googleusercontent.com/a-/AOh14GiRcJ0WxjalGy0bNYHXw1hl4sot0fF2_-1t4wbEag=s64",
      "userId": "15606141405640455496"
     }
    }
   },
   "source": [
    "train_df = pd.read_csv(base_dir + '/train_users.csv') \n",
    "test_df = pd.read_csv(base_dir + '/test_users.csv')"
   ],
   "execution_count": 5,
   "outputs": []
  },
  {
   "cell_type": "code",
   "metadata": {
    "id": "R-Fc7QyVYuHr",
    "colab_type": "code",
    "colab": {
     "base_uri": "https://localhost:8080/",
     "height": 649
    },
    "executionInfo": {
     "status": "ok",
     "timestamp": 1599921171981,
     "user_tz": -270,
     "elapsed": 1180,
     "user": {
      "displayName": "DaniaL Ha",
      "photoUrl": "https://lh3.googleusercontent.com/a-/AOh14GiRcJ0WxjalGy0bNYHXw1hl4sot0fF2_-1t4wbEag=s64",
      "userId": "15606141405640455496"
     }
    },
    "outputId": "8ec509ea-1ed3-4259-e074-1baff599cf07"
   },
   "source": [
    "train_df.head(5)"
   ],
   "execution_count": 6,
   "outputs": [
    {
     "output_type": "execute_result",
     "data": {
      "text/html": [
       "<div>\n",
       "<style scoped>\n",
       "    .dataframe tbody tr th:only-of-type {\n",
       "        vertical-align: middle;\n",
       "    }\n",
       "\n",
       "    .dataframe tbody tr th {\n",
       "        vertical-align: top;\n",
       "    }\n",
       "\n",
       "    .dataframe thead th {\n",
       "        text-align: right;\n",
       "    }\n",
       "</style>\n",
       "<table border=\"1\" class=\"dataframe\">\n",
       "  <thead>\n",
       "    <tr style=\"text-align: right;\">\n",
       "      <th></th>\n",
       "      <th>id</th>\n",
       "      <th>title</th>\n",
       "      <th>comment</th>\n",
       "      <th>advantages</th>\n",
       "      <th>disadvantages</th>\n",
       "      <th>title_fa_product</th>\n",
       "      <th>title_fa_category</th>\n",
       "      <th>is_buyer</th>\n",
       "      <th>verification_status</th>\n",
       "      <th>rate</th>\n",
       "    </tr>\n",
       "  </thead>\n",
       "  <tbody>\n",
       "    <tr>\n",
       "      <th>0</th>\n",
       "      <td>0</td>\n",
       "      <td>NaN</td>\n",
       "      <td>مثل بقیه محصولات الکل دار پوست رو خشک نمیکنه</td>\n",
       "      <td>NaN</td>\n",
       "      <td>NaN</td>\n",
       "      <td>ژل ضد عفونی کننده دست شون مدل Aloevera حجم 300...</td>\n",
       "      <td>ضدعفونی کننده</td>\n",
       "      <td>1</td>\n",
       "      <td>1</td>\n",
       "      <td>100.0</td>\n",
       "    </tr>\n",
       "    <tr>\n",
       "      <th>1</th>\n",
       "      <td>1</td>\n",
       "      <td>Redmi 8</td>\n",
       "      <td>با این مبلغ اگه امکانات و ارزش خرید واستون مهم...</td>\n",
       "      <td>[\"رم4\\r\",\"قیمت نسبت به سایر برندها\\r\",\"طراحی و...</td>\n",
       "      <td>[\"نداشتن هندزفری\"]</td>\n",
       "      <td>گوشی موبایل شیائومی مدل Redmi 8 M1908C3IG دو س...</td>\n",
       "      <td>گوشی موبایل</td>\n",
       "      <td>1</td>\n",
       "      <td>1</td>\n",
       "      <td>80.0</td>\n",
       "    </tr>\n",
       "    <tr>\n",
       "      <th>2</th>\n",
       "      <td>2</td>\n",
       "      <td>عالی</td>\n",
       "      <td>خوبه فقط کج و کوله بدستم رسید ولی پسرم خیلی خو...</td>\n",
       "      <td>NaN</td>\n",
       "      <td>NaN</td>\n",
       "      <td>ماسک کودک طرح سگ نگهبان مدل رابل</td>\n",
       "      <td>ایفای نقش</td>\n",
       "      <td>1</td>\n",
       "      <td>1</td>\n",
       "      <td>100.0</td>\n",
       "    </tr>\n",
       "    <tr>\n",
       "      <th>3</th>\n",
       "      <td>3</td>\n",
       "      <td>NaN</td>\n",
       "      <td>در کل خوب بود ولی متاسفانه درب محصول شکسته بود...</td>\n",
       "      <td>NaN</td>\n",
       "      <td>NaN</td>\n",
       "      <td>مایع ضدعفونی کننده میوه و سبزیجات من مدل WT حج...</td>\n",
       "      <td>ضدعفونی کننده سطوح</td>\n",
       "      <td>1</td>\n",
       "      <td>1</td>\n",
       "      <td>70.0</td>\n",
       "    </tr>\n",
       "    <tr>\n",
       "      <th>4</th>\n",
       "      <td>4</td>\n",
       "      <td>NaN</td>\n",
       "      <td>من که خیلی باهاش حال کردم فقط من که همیشه L می...</td>\n",
       "      <td>NaN</td>\n",
       "      <td>NaN</td>\n",
       "      <td>تی شرت آستین کوتاه مردانه باینت کد 323-1 btt</td>\n",
       "      <td>تی شرت و پولوشرت مردانه</td>\n",
       "      <td>1</td>\n",
       "      <td>1</td>\n",
       "      <td>72.0</td>\n",
       "    </tr>\n",
       "  </tbody>\n",
       "</table>\n",
       "</div>"
      ],
      "text/plain": [
       "   id    title  ... verification_status   rate\n",
       "0   0      NaN  ...                   1  100.0\n",
       "1   1  Redmi 8  ...                   1   80.0\n",
       "2   2     عالی  ...                   1  100.0\n",
       "3   3      NaN  ...                   1   70.0\n",
       "4   4      NaN  ...                   1   72.0\n",
       "\n",
       "[5 rows x 10 columns]"
      ]
     },
     "metadata": {
      "tags": []
     },
     "execution_count": 6
    }
   ]
  },
  {
   "cell_type": "code",
   "metadata": {
    "id": "yPS6jHZjiiHN",
    "colab_type": "code",
    "colab": {
     "base_uri": "https://localhost:8080/",
     "height": 289
    },
    "executionInfo": {
     "status": "ok",
     "timestamp": 1599921177720,
     "user_tz": -270,
     "elapsed": 1395,
     "user": {
      "displayName": "DaniaL Ha",
      "photoUrl": "https://lh3.googleusercontent.com/a-/AOh14GiRcJ0WxjalGy0bNYHXw1hl4sot0fF2_-1t4wbEag=s64",
      "userId": "15606141405640455496"
     }
    },
    "outputId": "9c0a1d8d-8631-41c0-d0db-337a1d0203ce"
   },
   "source": [
    "test_df.head(5)"
   ],
   "execution_count": 7,
   "outputs": [
    {
     "output_type": "execute_result",
     "data": {
      "text/html": [
       "<div>\n",
       "<style scoped>\n",
       "    .dataframe tbody tr th:only-of-type {\n",
       "        vertical-align: middle;\n",
       "    }\n",
       "\n",
       "    .dataframe tbody tr th {\n",
       "        vertical-align: top;\n",
       "    }\n",
       "\n",
       "    .dataframe thead th {\n",
       "        text-align: right;\n",
       "    }\n",
       "</style>\n",
       "<table border=\"1\" class=\"dataframe\">\n",
       "  <thead>\n",
       "    <tr style=\"text-align: right;\">\n",
       "      <th></th>\n",
       "      <th>id</th>\n",
       "      <th>title</th>\n",
       "      <th>comment</th>\n",
       "      <th>advantages</th>\n",
       "      <th>disadvantages</th>\n",
       "      <th>title_fa_product</th>\n",
       "      <th>title_fa_category</th>\n",
       "      <th>is_buyer</th>\n",
       "    </tr>\n",
       "  </thead>\n",
       "  <tbody>\n",
       "    <tr>\n",
       "      <th>0</th>\n",
       "      <td>0</td>\n",
       "      <td>با کیفیت</td>\n",
       "      <td>بسته بندی بهداشتی و کیفیت عالی</td>\n",
       "      <td>NaN</td>\n",
       "      <td>NaN</td>\n",
       "      <td>گوش پاک کن کتابی پنبه ریز بسته 200 عددی</td>\n",
       "      <td>گوش پاک کن</td>\n",
       "      <td>1</td>\n",
       "    </tr>\n",
       "    <tr>\n",
       "      <th>1</th>\n",
       "      <td>1</td>\n",
       "      <td>گوشی موبایل شیائومی</td>\n",
       "      <td>این گوشی فوق‌العاده است</td>\n",
       "      <td>[\"این گوشی همه چیش فوق‌العاده است از دوربین تا...</td>\n",
       "      <td>[\"اصلا هیچ نقاط ضعفی نداره \"]</td>\n",
       "      <td>گوشی موبایل شیائومی مدل Redmi Note 8 M1908C3JG...</td>\n",
       "      <td>گوشی موبایل</td>\n",
       "      <td>1</td>\n",
       "    </tr>\n",
       "    <tr>\n",
       "      <th>2</th>\n",
       "      <td>2</td>\n",
       "      <td>NaN</td>\n",
       "      <td>صداش قطع میشه باتریشم خیییلی ضعیفه</td>\n",
       "      <td>NaN</td>\n",
       "      <td>NaN</td>\n",
       "      <td>هدفون بی سیم مدل inpods 12</td>\n",
       "      <td>هدفون، هدست و هندزفری</td>\n",
       "      <td>1</td>\n",
       "    </tr>\n",
       "    <tr>\n",
       "      <th>3</th>\n",
       "      <td>3</td>\n",
       "      <td>NaN</td>\n",
       "      <td>بنظرم‌ خوبه</td>\n",
       "      <td>NaN</td>\n",
       "      <td>NaN</td>\n",
       "      <td>خمیر دندان نسیم مدل Feluoride Protection مقدار...</td>\n",
       "      <td>خمیر دندان</td>\n",
       "      <td>1</td>\n",
       "    </tr>\n",
       "    <tr>\n",
       "      <th>4</th>\n",
       "      <td>4</td>\n",
       "      <td>عااالیه</td>\n",
       "      <td>عااالیه</td>\n",
       "      <td>[\"عاااالیه\"]</td>\n",
       "      <td>NaN</td>\n",
       "      <td>کرم موبر صورت و بدن سینره حجم 100 میلی لیتر</td>\n",
       "      <td>کرم موبر</td>\n",
       "      <td>1</td>\n",
       "    </tr>\n",
       "  </tbody>\n",
       "</table>\n",
       "</div>"
      ],
      "text/plain": [
       "   id                title  ...      title_fa_category is_buyer\n",
       "0   0             با کیفیت  ...             گوش پاک کن        1\n",
       "1   1  گوشی موبایل شیائومی  ...            گوشی موبایل        1\n",
       "2   2                  NaN  ...  هدفون، هدست و هندزفری        1\n",
       "3   3                  NaN  ...             خمیر دندان        1\n",
       "4   4              عااالیه  ...               کرم موبر        1\n",
       "\n",
       "[5 rows x 8 columns]"
      ]
     },
     "metadata": {
      "tags": []
     },
     "execution_count": 7
    }
   ]
  },
  {
   "cell_type": "code",
   "metadata": {
    "id": "GVk4BXVgYzE7",
    "colab_type": "code",
    "colab": {},
    "executionInfo": {
     "status": "ok",
     "timestamp": 1599921181630,
     "user_tz": -270,
     "elapsed": 1193,
     "user": {
      "displayName": "DaniaL Ha",
      "photoUrl": "https://lh3.googleusercontent.com/a-/AOh14GiRcJ0WxjalGy0bNYHXw1hl4sot0fF2_-1t4wbEag=s64",
      "userId": "15606141405640455496"
     }
    }
   },
   "source": [
    "train_texts = train_df['comment'].tolist()\n",
    "test_texts = test_df['comment'].tolist()"
   ],
   "execution_count": 8,
   "outputs": []
  },
  {
   "cell_type": "code",
   "metadata": {
    "id": "kXlkX6GH44h3",
    "colab_type": "code",
    "colab": {
     "base_uri": "https://localhost:8080/",
     "height": 34
    },
    "executionInfo": {
     "status": "ok",
     "timestamp": 1599921215091,
     "user_tz": -270,
     "elapsed": 25688,
     "user": {
      "displayName": "DaniaL Ha",
      "photoUrl": "https://lh3.googleusercontent.com/a-/AOh14GiRcJ0WxjalGy0bNYHXw1hl4sot0fF2_-1t4wbEag=s64",
      "userId": "15606141405640455496"
     }
    },
    "outputId": "8f580586-a83a-4a52-9e7b-c57e50225930"
   },
   "source": [
    "advantage_scores = []\n",
    "i = 0\n",
    "\n",
    "for index, row in train_df.iterrows():\n",
    "  i = i+1\n",
    "  if (pd.isnull(row['advantages'])):\n",
    "    num_advantages = 0\n",
    "  else:\n",
    "    num_advantages = len(row['advantages'].split(','))\n",
    "  if (pd.isnull(row['disadvantages'])):\n",
    "    num_disadvantages = 0\n",
    "  else:\n",
    "    num_disadvantages = len(row['disadvantages'].split(','))\n",
    "\n",
    "  advantage_scores.append(num_advantages - num_disadvantages) \n",
    "\n",
    "train_df['advantage_score'] = advantage_scores\n",
    "\n",
    "print(i)\n",
    "train_advantages = np.array(advantage_scores)"
   ],
   "execution_count": 10,
   "outputs": [
    {
     "output_type": "stream",
     "text": [
      "264399\n"
     ],
     "name": "stdout"
    }
   ]
  },
  {
   "cell_type": "code",
   "metadata": {
    "id": "xvJpvQ4s6nDJ",
    "colab_type": "code",
    "colab": {},
    "executionInfo": {
     "status": "ok",
     "timestamp": 1599921245534,
     "user_tz": -270,
     "elapsed": 4231,
     "user": {
      "displayName": "DaniaL Ha",
      "photoUrl": "https://lh3.googleusercontent.com/a-/AOh14GiRcJ0WxjalGy0bNYHXw1hl4sot0fF2_-1t4wbEag=s64",
      "userId": "15606141405640455496"
     }
    }
   },
   "source": [
    "advantage_scores = []\n",
    "for index, row in test_df.iterrows():\n",
    "  if (pd.isnull(row['advantages'])):\n",
    "    num_advantages = 0\n",
    "  else:\n",
    "    num_advantages = len(row['advantages'].split(','))\n",
    "  if (pd.isnull(row['disadvantages'])):\n",
    "    num_disadvantages = 0\n",
    "  else:\n",
    "    num_disadvantages = len(row['disadvantages'].split(','))\n",
    "\n",
    "  advantage_scores.append(num_advantages - num_disadvantages) \n",
    "\n",
    "test_df['advantage_score'] = advantage_scores\n",
    "\n",
    "test_advantages = np.array(advantage_scores)"
   ],
   "execution_count": 11,
   "outputs": []
  },
  {
   "cell_type": "code",
   "metadata": {
    "id": "JfgToBla8nku",
    "colab_type": "code",
    "colab": {
     "base_uri": "https://localhost:8080/",
     "height": 1000
    },
    "executionInfo": {
     "status": "ok",
     "timestamp": 1599921247536,
     "user_tz": -270,
     "elapsed": 610,
     "user": {
      "displayName": "DaniaL Ha",
      "photoUrl": "https://lh3.googleusercontent.com/a-/AOh14GiRcJ0WxjalGy0bNYHXw1hl4sot0fF2_-1t4wbEag=s64",
      "userId": "15606141405640455496"
     }
    },
    "outputId": "d6d0f85a-78f8-49fb-97b1-2297181b4757"
   },
   "source": [
    "train_df"
   ],
   "execution_count": 12,
   "outputs": [
    {
     "output_type": "execute_result",
     "data": {
      "text/html": [
       "<div>\n",
       "<style scoped>\n",
       "    .dataframe tbody tr th:only-of-type {\n",
       "        vertical-align: middle;\n",
       "    }\n",
       "\n",
       "    .dataframe tbody tr th {\n",
       "        vertical-align: top;\n",
       "    }\n",
       "\n",
       "    .dataframe thead th {\n",
       "        text-align: right;\n",
       "    }\n",
       "</style>\n",
       "<table border=\"1\" class=\"dataframe\">\n",
       "  <thead>\n",
       "    <tr style=\"text-align: right;\">\n",
       "      <th></th>\n",
       "      <th>id</th>\n",
       "      <th>title</th>\n",
       "      <th>comment</th>\n",
       "      <th>advantages</th>\n",
       "      <th>disadvantages</th>\n",
       "      <th>title_fa_product</th>\n",
       "      <th>title_fa_category</th>\n",
       "      <th>is_buyer</th>\n",
       "      <th>verification_status</th>\n",
       "      <th>rate</th>\n",
       "      <th>advantage_score</th>\n",
       "    </tr>\n",
       "  </thead>\n",
       "  <tbody>\n",
       "    <tr>\n",
       "      <th>0</th>\n",
       "      <td>0</td>\n",
       "      <td>NaN</td>\n",
       "      <td>مثل بقیه محصولات الکل دار پوست رو خشک نمیکنه</td>\n",
       "      <td>NaN</td>\n",
       "      <td>NaN</td>\n",
       "      <td>ژل ضد عفونی کننده دست شون مدل Aloevera حجم 300...</td>\n",
       "      <td>ضدعفونی کننده</td>\n",
       "      <td>1</td>\n",
       "      <td>1</td>\n",
       "      <td>100.0</td>\n",
       "      <td>0</td>\n",
       "    </tr>\n",
       "    <tr>\n",
       "      <th>1</th>\n",
       "      <td>1</td>\n",
       "      <td>Redmi 8</td>\n",
       "      <td>با این مبلغ اگه امکانات و ارزش خرید واستون مهم...</td>\n",
       "      <td>[\"رم4\\r\",\"قیمت نسبت به سایر برندها\\r\",\"طراحی و...</td>\n",
       "      <td>[\"نداشتن هندزفری\"]</td>\n",
       "      <td>گوشی موبایل شیائومی مدل Redmi 8 M1908C3IG دو س...</td>\n",
       "      <td>گوشی موبایل</td>\n",
       "      <td>1</td>\n",
       "      <td>1</td>\n",
       "      <td>80.0</td>\n",
       "      <td>6</td>\n",
       "    </tr>\n",
       "    <tr>\n",
       "      <th>2</th>\n",
       "      <td>2</td>\n",
       "      <td>عالی</td>\n",
       "      <td>خوبه فقط کج و کوله بدستم رسید ولی پسرم خیلی خو...</td>\n",
       "      <td>NaN</td>\n",
       "      <td>NaN</td>\n",
       "      <td>ماسک کودک طرح سگ نگهبان مدل رابل</td>\n",
       "      <td>ایفای نقش</td>\n",
       "      <td>1</td>\n",
       "      <td>1</td>\n",
       "      <td>100.0</td>\n",
       "      <td>0</td>\n",
       "    </tr>\n",
       "    <tr>\n",
       "      <th>3</th>\n",
       "      <td>3</td>\n",
       "      <td>NaN</td>\n",
       "      <td>در کل خوب بود ولی متاسفانه درب محصول شکسته بود...</td>\n",
       "      <td>NaN</td>\n",
       "      <td>NaN</td>\n",
       "      <td>مایع ضدعفونی کننده میوه و سبزیجات من مدل WT حج...</td>\n",
       "      <td>ضدعفونی کننده سطوح</td>\n",
       "      <td>1</td>\n",
       "      <td>1</td>\n",
       "      <td>70.0</td>\n",
       "      <td>0</td>\n",
       "    </tr>\n",
       "    <tr>\n",
       "      <th>4</th>\n",
       "      <td>4</td>\n",
       "      <td>NaN</td>\n",
       "      <td>من که خیلی باهاش حال کردم فقط من که همیشه L می...</td>\n",
       "      <td>NaN</td>\n",
       "      <td>NaN</td>\n",
       "      <td>تی شرت آستین کوتاه مردانه باینت کد 323-1 btt</td>\n",
       "      <td>تی شرت و پولوشرت مردانه</td>\n",
       "      <td>1</td>\n",
       "      <td>1</td>\n",
       "      <td>72.0</td>\n",
       "      <td>0</td>\n",
       "    </tr>\n",
       "    <tr>\n",
       "      <th>...</th>\n",
       "      <td>...</td>\n",
       "      <td>...</td>\n",
       "      <td>...</td>\n",
       "      <td>...</td>\n",
       "      <td>...</td>\n",
       "      <td>...</td>\n",
       "      <td>...</td>\n",
       "      <td>...</td>\n",
       "      <td>...</td>\n",
       "      <td>...</td>\n",
       "      <td>...</td>\n",
       "    </tr>\n",
       "    <tr>\n",
       "      <th>264394</th>\n",
       "      <td>264394</td>\n",
       "      <td>موز</td>\n",
       "      <td>خوبه و راضی کننده</td>\n",
       "      <td>NaN</td>\n",
       "      <td>NaN</td>\n",
       "      <td>موز هودکا - 1 کیلوگرم</td>\n",
       "      <td>میوه</td>\n",
       "      <td>1</td>\n",
       "      <td>1</td>\n",
       "      <td>90.0</td>\n",
       "      <td>0</td>\n",
       "    </tr>\n",
       "    <tr>\n",
       "      <th>264395</th>\n",
       "      <td>264395</td>\n",
       "      <td>کش</td>\n",
       "      <td>رنگ بندی زیبا و قیمت مناسبی دارد</td>\n",
       "      <td>NaN</td>\n",
       "      <td>NaN</td>\n",
       "      <td>کش مو مدل رنگارنگ بسته 12 عددی</td>\n",
       "      <td>اکسسوری مو زنانه</td>\n",
       "      <td>1</td>\n",
       "      <td>1</td>\n",
       "      <td>60.0</td>\n",
       "      <td>0</td>\n",
       "    </tr>\n",
       "    <tr>\n",
       "      <th>264396</th>\n",
       "      <td>264396</td>\n",
       "      <td>خوب بود</td>\n",
       "      <td>ولی بیشتر آف بذارید</td>\n",
       "      <td>NaN</td>\n",
       "      <td>NaN</td>\n",
       "      <td>نوار بهداشتی مولپد مدل Classic Large بسته 8 عددی</td>\n",
       "      <td>نوار بهداشتی</td>\n",
       "      <td>1</td>\n",
       "      <td>1</td>\n",
       "      <td>0.0</td>\n",
       "      <td>0</td>\n",
       "    </tr>\n",
       "    <tr>\n",
       "      <th>264397</th>\n",
       "      <td>264397</td>\n",
       "      <td>ارزش خرید داره</td>\n",
       "      <td>کلا بد نیست</td>\n",
       "      <td>NaN</td>\n",
       "      <td>NaN</td>\n",
       "      <td>شامپو بدن سیو مدل Sport مقدار 400 گرم</td>\n",
       "      <td>شامپوی بدن</td>\n",
       "      <td>1</td>\n",
       "      <td>1</td>\n",
       "      <td>60.0</td>\n",
       "      <td>0</td>\n",
       "    </tr>\n",
       "    <tr>\n",
       "      <th>264398</th>\n",
       "      <td>264398</td>\n",
       "      <td>خوبه</td>\n",
       "      <td>کار راه اندازه و قیمتش مفته</td>\n",
       "      <td>NaN</td>\n",
       "      <td>NaN</td>\n",
       "      <td>شانه مو کد 654</td>\n",
       "      <td>شانه و برس مو</td>\n",
       "      <td>1</td>\n",
       "      <td>1</td>\n",
       "      <td>60.0</td>\n",
       "      <td>0</td>\n",
       "    </tr>\n",
       "  </tbody>\n",
       "</table>\n",
       "<p>264399 rows × 11 columns</p>\n",
       "</div>"
      ],
      "text/plain": [
       "            id           title  ...   rate advantage_score\n",
       "0            0             NaN  ...  100.0               0\n",
       "1            1         Redmi 8  ...   80.0               6\n",
       "2            2            عالی  ...  100.0               0\n",
       "3            3             NaN  ...   70.0               0\n",
       "4            4             NaN  ...   72.0               0\n",
       "...        ...             ...  ...    ...             ...\n",
       "264394  264394             موز  ...   90.0               0\n",
       "264395  264395              کش  ...   60.0               0\n",
       "264396  264396         خوب بود  ...    0.0               0\n",
       "264397  264397  ارزش خرید داره  ...   60.0               0\n",
       "264398  264398            خوبه  ...   60.0               0\n",
       "\n",
       "[264399 rows x 11 columns]"
      ]
     },
     "metadata": {
      "tags": []
     },
     "execution_count": 12
    }
   ]
  },
  {
   "cell_type": "code",
   "metadata": {
    "id": "ER74G89R8o12",
    "colab_type": "code",
    "colab": {
     "base_uri": "https://localhost:8080/",
     "height": 776
    },
    "executionInfo": {
     "status": "ok",
     "timestamp": 1599921253944,
     "user_tz": -270,
     "elapsed": 1093,
     "user": {
      "displayName": "DaniaL Ha",
      "photoUrl": "https://lh3.googleusercontent.com/a-/AOh14GiRcJ0WxjalGy0bNYHXw1hl4sot0fF2_-1t4wbEag=s64",
      "userId": "15606141405640455496"
     }
    },
    "outputId": "8124e63c-8e5f-4c3f-fdcf-d0226c3c2f66"
   },
   "source": [
    "test_df"
   ],
   "execution_count": 13,
   "outputs": [
    {
     "output_type": "execute_result",
     "data": {
      "text/html": [
       "<div>\n",
       "<style scoped>\n",
       "    .dataframe tbody tr th:only-of-type {\n",
       "        vertical-align: middle;\n",
       "    }\n",
       "\n",
       "    .dataframe tbody tr th {\n",
       "        vertical-align: top;\n",
       "    }\n",
       "\n",
       "    .dataframe thead th {\n",
       "        text-align: right;\n",
       "    }\n",
       "</style>\n",
       "<table border=\"1\" class=\"dataframe\">\n",
       "  <thead>\n",
       "    <tr style=\"text-align: right;\">\n",
       "      <th></th>\n",
       "      <th>id</th>\n",
       "      <th>title</th>\n",
       "      <th>comment</th>\n",
       "      <th>advantages</th>\n",
       "      <th>disadvantages</th>\n",
       "      <th>title_fa_product</th>\n",
       "      <th>title_fa_category</th>\n",
       "      <th>is_buyer</th>\n",
       "      <th>advantage_score</th>\n",
       "    </tr>\n",
       "  </thead>\n",
       "  <tbody>\n",
       "    <tr>\n",
       "      <th>0</th>\n",
       "      <td>0</td>\n",
       "      <td>با کیفیت</td>\n",
       "      <td>بسته بندی بهداشتی و کیفیت عالی</td>\n",
       "      <td>NaN</td>\n",
       "      <td>NaN</td>\n",
       "      <td>گوش پاک کن کتابی پنبه ریز بسته 200 عددی</td>\n",
       "      <td>گوش پاک کن</td>\n",
       "      <td>1</td>\n",
       "      <td>0</td>\n",
       "    </tr>\n",
       "    <tr>\n",
       "      <th>1</th>\n",
       "      <td>1</td>\n",
       "      <td>گوشی موبایل شیائومی</td>\n",
       "      <td>این گوشی فوق‌العاده است</td>\n",
       "      <td>[\"این گوشی همه چیش فوق‌العاده است از دوربین تا...</td>\n",
       "      <td>[\"اصلا هیچ نقاط ضعفی نداره \"]</td>\n",
       "      <td>گوشی موبایل شیائومی مدل Redmi Note 8 M1908C3JG...</td>\n",
       "      <td>گوشی موبایل</td>\n",
       "      <td>1</td>\n",
       "      <td>0</td>\n",
       "    </tr>\n",
       "    <tr>\n",
       "      <th>2</th>\n",
       "      <td>2</td>\n",
       "      <td>NaN</td>\n",
       "      <td>صداش قطع میشه باتریشم خیییلی ضعیفه</td>\n",
       "      <td>NaN</td>\n",
       "      <td>NaN</td>\n",
       "      <td>هدفون بی سیم مدل inpods 12</td>\n",
       "      <td>هدفون، هدست و هندزفری</td>\n",
       "      <td>1</td>\n",
       "      <td>0</td>\n",
       "    </tr>\n",
       "    <tr>\n",
       "      <th>3</th>\n",
       "      <td>3</td>\n",
       "      <td>NaN</td>\n",
       "      <td>بنظرم‌ خوبه</td>\n",
       "      <td>NaN</td>\n",
       "      <td>NaN</td>\n",
       "      <td>خمیر دندان نسیم مدل Feluoride Protection مقدار...</td>\n",
       "      <td>خمیر دندان</td>\n",
       "      <td>1</td>\n",
       "      <td>0</td>\n",
       "    </tr>\n",
       "    <tr>\n",
       "      <th>4</th>\n",
       "      <td>4</td>\n",
       "      <td>عااالیه</td>\n",
       "      <td>عااالیه</td>\n",
       "      <td>[\"عاااالیه\"]</td>\n",
       "      <td>NaN</td>\n",
       "      <td>کرم موبر صورت و بدن سینره حجم 100 میلی لیتر</td>\n",
       "      <td>کرم موبر</td>\n",
       "      <td>1</td>\n",
       "      <td>1</td>\n",
       "    </tr>\n",
       "    <tr>\n",
       "      <th>...</th>\n",
       "      <td>...</td>\n",
       "      <td>...</td>\n",
       "      <td>...</td>\n",
       "      <td>...</td>\n",
       "      <td>...</td>\n",
       "      <td>...</td>\n",
       "      <td>...</td>\n",
       "      <td>...</td>\n",
       "      <td>...</td>\n",
       "    </tr>\n",
       "    <tr>\n",
       "      <th>19394</th>\n",
       "      <td>19394</td>\n",
       "      <td>NaN</td>\n",
       "      <td>خوشمزه مثل همیشه</td>\n",
       "      <td>NaN</td>\n",
       "      <td>NaN</td>\n",
       "      <td>چاشنی خورش قرمه سبزی هاتی کارا مقدار 750 گرم</td>\n",
       "      <td>ادویه و چاشنی</td>\n",
       "      <td>1</td>\n",
       "      <td>0</td>\n",
       "    </tr>\n",
       "    <tr>\n",
       "      <th>19395</th>\n",
       "      <td>19395</td>\n",
       "      <td>عالی</td>\n",
       "      <td>عالی\\r\\nبوش مثله خود ادکلنشه</td>\n",
       "      <td>NaN</td>\n",
       "      <td>NaN</td>\n",
       "      <td>اسپری خوشبو کننده بدن زنانه پرستیژ مدل Tresor ...</td>\n",
       "      <td>اسپری</td>\n",
       "      <td>1</td>\n",
       "      <td>0</td>\n",
       "    </tr>\n",
       "    <tr>\n",
       "      <th>19396</th>\n",
       "      <td>19396</td>\n",
       "      <td>NaN</td>\n",
       "      <td>نازکه. نسبت به کیفیتش قیمتش بالاست تازه من داخ...</td>\n",
       "      <td>NaN</td>\n",
       "      <td>NaN</td>\n",
       "      <td>دستکش زنانه دالیا مدل viscose2</td>\n",
       "      <td>دستکش زنانه</td>\n",
       "      <td>1</td>\n",
       "      <td>0</td>\n",
       "    </tr>\n",
       "    <tr>\n",
       "      <th>19397</th>\n",
       "      <td>19397</td>\n",
       "      <td>چای ایرانی</td>\n",
       "      <td>چای ایرانی بنوش هموطن</td>\n",
       "      <td>NaN</td>\n",
       "      <td>NaN</td>\n",
       "      <td>چای شکسته ایرانی مهمان دوست مقدار 500 گرم</td>\n",
       "      <td>چای</td>\n",
       "      <td>1</td>\n",
       "      <td>0</td>\n",
       "    </tr>\n",
       "    <tr>\n",
       "      <th>19398</th>\n",
       "      <td>19398</td>\n",
       "      <td>کیفیت</td>\n",
       "      <td>شامپوی مناسبی است و با موهایم سازگار است اما ق...</td>\n",
       "      <td>NaN</td>\n",
       "      <td>NaN</td>\n",
       "      <td>شامپو سدر صحت مقدار 1لیتر</td>\n",
       "      <td>شامپوی مو</td>\n",
       "      <td>1</td>\n",
       "      <td>0</td>\n",
       "    </tr>\n",
       "  </tbody>\n",
       "</table>\n",
       "<p>19399 rows × 9 columns</p>\n",
       "</div>"
      ],
      "text/plain": [
       "          id                title  ... is_buyer advantage_score\n",
       "0          0             با کیفیت  ...        1               0\n",
       "1          1  گوشی موبایل شیائومی  ...        1               0\n",
       "2          2                  NaN  ...        1               0\n",
       "3          3                  NaN  ...        1               0\n",
       "4          4              عااالیه  ...        1               1\n",
       "...      ...                  ...  ...      ...             ...\n",
       "19394  19394                  NaN  ...        1               0\n",
       "19395  19395                 عالی  ...        1               0\n",
       "19396  19396                  NaN  ...        1               0\n",
       "19397  19397           چای ایرانی  ...        1               0\n",
       "19398  19398                کیفیت  ...        1               0\n",
       "\n",
       "[19399 rows x 9 columns]"
      ]
     },
     "metadata": {
      "tags": []
     },
     "execution_count": 13
    }
   ]
  },
  {
   "cell_type": "code",
   "metadata": {
    "id": "d0waWoypibKA",
    "colab_type": "code",
    "colab": {},
    "executionInfo": {
     "status": "ok",
     "timestamp": 1599921255071,
     "user_tz": -270,
     "elapsed": 613,
     "user": {
      "displayName": "DaniaL Ha",
      "photoUrl": "https://lh3.googleusercontent.com/a-/AOh14GiRcJ0WxjalGy0bNYHXw1hl4sot0fF2_-1t4wbEag=s64",
      "userId": "15606141405640455496"
     }
    }
   },
   "source": [
    "train_labels = train_df['verification_status'].tolist()"
   ],
   "execution_count": 14,
   "outputs": []
  },
  {
   "cell_type": "code",
   "metadata": {
    "id": "KL0bTu42jgLx",
    "colab_type": "code",
    "colab": {
     "base_uri": "https://localhost:8080/",
     "height": 34
    },
    "executionInfo": {
     "status": "ok",
     "timestamp": 1599921256527,
     "user_tz": -270,
     "elapsed": 744,
     "user": {
      "displayName": "DaniaL Ha",
      "photoUrl": "https://lh3.googleusercontent.com/a-/AOh14GiRcJ0WxjalGy0bNYHXw1hl4sot0fF2_-1t4wbEag=s64",
      "userId": "15606141405640455496"
     }
    },
    "outputId": "ec44dd7c-de2d-43c5-8558-aa2e698d7b88"
   },
   "source": [
    "len(train_df)"
   ],
   "execution_count": 15,
   "outputs": [
    {
     "output_type": "execute_result",
     "data": {
      "text/plain": [
       "264399"
      ]
     },
     "metadata": {
      "tags": []
     },
     "execution_count": 15
    }
   ]
  },
  {
   "cell_type": "code",
   "metadata": {
    "id": "NqyBad4xjDK3",
    "colab_type": "code",
    "colab": {
     "base_uri": "https://localhost:8080/",
     "height": 34
    },
    "executionInfo": {
     "status": "ok",
     "timestamp": 1599921260672,
     "user_tz": -270,
     "elapsed": 1061,
     "user": {
      "displayName": "DaniaL Ha",
      "photoUrl": "https://lh3.googleusercontent.com/a-/AOh14GiRcJ0WxjalGy0bNYHXw1hl4sot0fF2_-1t4wbEag=s64",
      "userId": "15606141405640455496"
     }
    },
    "outputId": "588a418a-9a12-4a6a-939d-78fbff4f87ee"
   },
   "source": [
    "len(train_df[train_df['verification_status'] == 0])"
   ],
   "execution_count": 16,
   "outputs": [
    {
     "output_type": "execute_result",
     "data": {
      "text/plain": [
       "9918"
      ]
     },
     "metadata": {
      "tags": []
     },
     "execution_count": 16
    }
   ]
  },
  {
   "cell_type": "code",
   "metadata": {
    "id": "tE5_YKLuinaJ",
    "colab_type": "code",
    "colab": {},
    "executionInfo": {
     "status": "ok",
     "timestamp": 1599921473053,
     "user_tz": -270,
     "elapsed": 203069,
     "user": {
      "displayName": "DaniaL Ha",
      "photoUrl": "https://lh3.googleusercontent.com/a-/AOh14GiRcJ0WxjalGy0bNYHXw1hl4sot0fF2_-1t4wbEag=s64",
      "userId": "15606141405640455496"
     }
    }
   },
   "source": [
    "# cleaning the texts\n",
    "\n",
    "import re\n",
    "\n",
    "with open(base_dir + '/stopwords.txt', 'r') as stopwords:\n",
    "    content = stopwords.read()\n",
    "    stopwords_ls = content.split('\\n')\n",
    "\n",
    "for i in range(len(train_texts)):\n",
    "\n",
    "  # the empty comments are float, we replace them with an empty string\n",
    "  if type(train_texts[i]) == float:\n",
    "    train_texts[i] = ''\n",
    "\n",
    "  # removing meaningless literals\n",
    "  train_texts[i] = train_texts[i].replace('\\u200c',' ')\n",
    "  train_texts[i] = re.sub(r'[^a-zA-Z0-9آ-ی۰-۹ ]', ' ', train_texts[i])\n",
    "\n",
    "  # removing stopwords\n",
    "\n",
    "  for word in stopwords_ls:\n",
    "    token = \" \" + word + \" \"\n",
    "    train_texts[i] = train_texts[i].replace(token, \" \")"
   ],
   "execution_count": 17,
   "outputs": []
  },
  {
   "cell_type": "code",
   "metadata": {
    "id": "nwOwNmuTtWfb",
    "colab_type": "code",
    "colab": {},
    "executionInfo": {
     "status": "ok",
     "timestamp": 1599921503152,
     "user_tz": -270,
     "elapsed": 16664,
     "user": {
      "displayName": "DaniaL Ha",
      "photoUrl": "https://lh3.googleusercontent.com/a-/AOh14GiRcJ0WxjalGy0bNYHXw1hl4sot0fF2_-1t4wbEag=s64",
      "userId": "15606141405640455496"
     }
    }
   },
   "source": [
    "for i in range(len(test_texts)):\n",
    "\n",
    "  # the empty comments are float, we replace them with an empty string\n",
    "  if type(test_texts[i]) == float:\n",
    "    test_texts[i] = ''\n",
    "\n",
    "  # removing meaningless literals\n",
    "  test_texts[i] = test_texts[i].replace('\\u200c',' ')\n",
    "  test_texts[i] = re.sub(r'[^a-zA-Z0-9آ-ی۰-۹ ]', ' ', test_texts[i])\n",
    "\n",
    "  # removing stopwords\n",
    "  for word in stopwords_ls:\n",
    "    token = \" \" + word + \" \"\n",
    "    test_texts[i] = test_texts[i].replace(token, \" \")"
   ],
   "execution_count": 18,
   "outputs": []
  },
  {
   "cell_type": "code",
   "metadata": {
    "id": "BASlQ5eScn9B",
    "colab_type": "code",
    "colab": {},
    "executionInfo": {
     "status": "ok",
     "timestamp": 1599921530296,
     "user_tz": -270,
     "elapsed": 1281,
     "user": {
      "displayName": "DaniaL Ha",
      "photoUrl": "https://lh3.googleusercontent.com/a-/AOh14GiRcJ0WxjalGy0bNYHXw1hl4sot0fF2_-1t4wbEag=s64",
      "userId": "15606141405640455496"
     }
    }
   },
   "source": [
    "# # stemming and normalizing with Hazm Library. Which sucks.\n",
    "\n",
    "# !pip install hazm\n",
    "\n",
    "# from __future__ import unicode_literals\n",
    "# from hazm import *\n",
    "\n",
    "# normalizer = Normalizer()\n",
    "# train_texts = [normalizer.normalize(text) for text in train_texts]\n",
    "\n",
    "# stemmer = Stemmer()\n",
    "\n",
    "# train_texts_cleaned = []\n",
    "# for sentence in train_texts:\n",
    "#   sentence_cleaned = []\n",
    "#   for word in sentence.split():\n",
    "#     sentence_cleaned.append(stemmer.stem(word))\n",
    "  \n",
    "#   train_texts_cleaned.append(' '.join(sentence_cleaned))\n",
    "\n",
    "# train_texts = train_texts_cleaned"
   ],
   "execution_count": 19,
   "outputs": []
  },
  {
   "cell_type": "code",
   "metadata": {
    "id": "YQc9o5bDfFFt",
    "colab_type": "code",
    "colab": {
     "base_uri": "https://localhost:8080/",
     "height": 377
    },
    "executionInfo": {
     "status": "ok",
     "timestamp": 1599921532840,
     "user_tz": -270,
     "elapsed": 1221,
     "user": {
      "displayName": "DaniaL Ha",
      "photoUrl": "https://lh3.googleusercontent.com/a-/AOh14GiRcJ0WxjalGy0bNYHXw1hl4sot0fF2_-1t4wbEag=s64",
      "userId": "15606141405640455496"
     }
    },
    "outputId": "ff1ccf8b-499a-4be6-ba5b-110a538f3245"
   },
   "source": [
    "train_texts[10:30]"
   ],
   "execution_count": 20,
   "outputs": [
    {
     "output_type": "execute_result",
     "data": {
      "text/plain": [
       "['کیفیت قیمت است',\n",
       " 'نسبت قیمتش خوبه',\n",
       " 'همش وا کارتن پشیمون خریدم انگاری درشو باشن همش ریخته بود',\n",
       " 'خوب بود',\n",
       " 'با توجه قیمت صرفه دارای کیفیت قبول توجه شرایط موجود ایمنی حد مطلوب تامین کند',\n",
       " 'سپاس سایت دیجیکالا',\n",
       " 'عالی تنیز بسته بندی عالی',\n",
       " 'عالی هست',\n",
       " 'عالیییییییی',\n",
       " 'خیلی خوبه حمام بخور ازش جواب میده',\n",
       " 'خوبه کاربردی',\n",
       " 'خیلی قشنگه سوراخای دیوار دستشویی ک مستاجر قبلی زده عیبای دیوار پوشیده قشنگ شد',\n",
       " 'با توجه قیمتش کیفیت خوبی ',\n",
       " 'با توج متنوع رنگ شکل زیبای مهره دکمه حروف حالت برجسته پیشنهاد میکنم بخرید',\n",
       " 'مناسب نسبت قیمت',\n",
       " 'تو شکسته مرجوع کردم',\n",
       " 'بدمزه مزه دارو میده',\n",
       " 'در راضی م',\n",
       " 'دوستان عزیز قصد خرید پک 3تایی بهتره بدونید اسپری مردونه بسته بندی 4تا پک سفارش نبوده اشتباه باشه بجای رایحه مردانه 2تا زنانه گذاشتن دیجی کالا نظارت فروش محصولات حیف اعتبار دیجی کالا داره هرروز کمرنگ میشه  اینو بگم دوستان منتظر رایحه مردانه نباشن ',\n",
       " 'از گره خوردن جلوگیری میکنه باعث میشه موها شونه بشه نرم خوش حالت میکنه موهارو']"
      ]
     },
     "metadata": {
      "tags": []
     },
     "execution_count": 20
    }
   ]
  },
  {
   "cell_type": "code",
   "metadata": {
    "id": "ZOdkT5vMnbnX",
    "colab_type": "code",
    "colab": {},
    "executionInfo": {
     "status": "ok",
     "timestamp": 1599921547098,
     "user_tz": -270,
     "elapsed": 1810,
     "user": {
      "displayName": "DaniaL Ha",
      "photoUrl": "https://lh3.googleusercontent.com/a-/AOh14GiRcJ0WxjalGy0bNYHXw1hl4sot0fF2_-1t4wbEag=s64",
      "userId": "15606141405640455496"
     }
    }
   },
   "source": [
    "from urllib.request import urlopen\n",
    "import gzip"
   ],
   "execution_count": 21,
   "outputs": []
  },
  {
   "cell_type": "code",
   "metadata": {
    "id": "9scvTD3cnjWZ",
    "colab_type": "code",
    "colab": {},
    "executionInfo": {
     "status": "ok",
     "timestamp": 1599921549032,
     "user_tz": -270,
     "elapsed": 1302,
     "user": {
      "displayName": "DaniaL Ha",
      "photoUrl": "https://lh3.googleusercontent.com/a-/AOh14GiRcJ0WxjalGy0bNYHXw1hl4sot0fF2_-1t4wbEag=s64",
      "userId": "15606141405640455496"
     }
    }
   },
   "source": [
    "embedding_file = gzip.open(urlopen('https://dl.fbaipublicfiles.com/fasttext/vectors-crawl/cc.fa.300.vec.gz'))"
   ],
   "execution_count": 22,
   "outputs": []
  },
  {
   "cell_type": "code",
   "metadata": {
    "id": "R9EoYVA_n39G",
    "colab_type": "code",
    "colab": {},
    "executionInfo": {
     "status": "ok",
     "timestamp": 1599921682795,
     "user_tz": -270,
     "elapsed": 132377,
     "user": {
      "displayName": "DaniaL Ha",
      "photoUrl": "https://lh3.googleusercontent.com/a-/AOh14GiRcJ0WxjalGy0bNYHXw1hl4sot0fF2_-1t4wbEag=s64",
      "userId": "15606141405640455496"
     }
    }
   },
   "source": [
    "fasttext_embeddings = {}\n",
    "# put words as dict indexes and vectors as dict values\n",
    "\n",
    "for line in embedding_file:\n",
    "  values = line.split()\n",
    "  word = values [0].decode('utf-8')\n",
    "  vector = np.asarray(values[1:], dtype='float32')\n",
    "  fasttext_embeddings[word] = vector"
   ],
   "execution_count": 23,
   "outputs": []
  },
  {
   "cell_type": "code",
   "metadata": {
    "id": "9ulKVLYqooI8",
    "colab_type": "code",
    "colab": {},
    "executionInfo": {
     "status": "ok",
     "timestamp": 1599921701997,
     "user_tz": -270,
     "elapsed": 1108,
     "user": {
      "displayName": "DaniaL Ha",
      "photoUrl": "https://lh3.googleusercontent.com/a-/AOh14GiRcJ0WxjalGy0bNYHXw1hl4sot0fF2_-1t4wbEag=s64",
      "userId": "15606141405640455496"
     }
    }
   },
   "source": [
    "vocab_size = 20000\n",
    "max_length = 60 # Estimated max length of comments\n",
    "trunc_type='post'\n",
    "padding_type='post'\n",
    "oov_tok = \"<OOV>\""
   ],
   "execution_count": 24,
   "outputs": []
  },
  {
   "cell_type": "code",
   "metadata": {
    "id": "h1H3mGv-qSbK",
    "colab_type": "code",
    "colab": {},
    "executionInfo": {
     "status": "ok",
     "timestamp": 1599921717079,
     "user_tz": -270,
     "elapsed": 8809,
     "user": {
      "displayName": "DaniaL Ha",
      "photoUrl": "https://lh3.googleusercontent.com/a-/AOh14GiRcJ0WxjalGy0bNYHXw1hl4sot0fF2_-1t4wbEag=s64",
      "userId": "15606141405640455496"
     }
    }
   },
   "source": [
    "tokenizer = Tokenizer(num_words=vocab_size, oov_token=oov_tok)\n",
    "tokenizer.fit_on_texts(train_texts)\n",
    "\n",
    "word_index = tokenizer.word_index\n",
    "\n",
    "train_sequences = tokenizer.texts_to_sequences(train_texts)\n",
    "train_padded = pad_sequences(train_sequences, maxlen=max_length, padding=padding_type, truncating=trunc_type)\n",
    "\n",
    "test_sequences = tokenizer.texts_to_sequences(test_texts)\n",
    "test_padded = pad_sequences(test_sequences, maxlen=max_length, padding=padding_type, truncating=trunc_type)"
   ],
   "execution_count": 25,
   "outputs": []
  },
  {
   "cell_type": "code",
   "metadata": {
    "id": "EsIx0tXTqiLx",
    "colab_type": "code",
    "colab": {},
    "executionInfo": {
     "status": "ok",
     "timestamp": 1599921730383,
     "user_tz": -270,
     "elapsed": 1378,
     "user": {
      "displayName": "DaniaL Ha",
      "photoUrl": "https://lh3.googleusercontent.com/a-/AOh14GiRcJ0WxjalGy0bNYHXw1hl4sot0fF2_-1t4wbEag=s64",
      "userId": "15606141405640455496"
     }
    }
   },
   "source": [
    "# Need this block to get it to work with TensorFlow 2.x\n",
    "\n",
    "train_padded = np.array(train_padded)\n",
    "train_labels = np.array(train_labels)\n",
    "\n",
    "test_padded = np.array(test_padded)"
   ],
   "execution_count": 26,
   "outputs": []
  },
  {
   "cell_type": "code",
   "metadata": {
    "id": "KNJ4TjhVqtcO",
    "colab_type": "code",
    "colab": {
     "base_uri": "https://localhost:8080/",
     "height": 34
    },
    "executionInfo": {
     "status": "ok",
     "timestamp": 1599921733291,
     "user_tz": -270,
     "elapsed": 1066,
     "user": {
      "displayName": "DaniaL Ha",
      "photoUrl": "https://lh3.googleusercontent.com/a-/AOh14GiRcJ0WxjalGy0bNYHXw1hl4sot0fF2_-1t4wbEag=s64",
      "userId": "15606141405640455496"
     }
    },
    "outputId": "6c345f44-abd3-4c81-fe87-7408c52c52ba"
   },
   "source": [
    "num_tokens = len(word_index) + 1\n",
    "embedding_dim = 300\n",
    "hits = 0\n",
    "misses = 0\n",
    "\n",
    "# Prepare embedding matrix\n",
    "embedding_matrix = np.zeros((num_tokens, embedding_dim))\n",
    "for word, i in word_index.items():\n",
    "    embedding_vector = fasttext_embeddings.get(word)\n",
    "    if embedding_vector is not None:\n",
    "        # Words not found in embedding index will be all-zeros.\n",
    "        # This includes the representation for \"padding\" and \"OOV\"\n",
    "        embedding_matrix[i] = embedding_vector\n",
    "        hits += 1\n",
    "    else:\n",
    "        misses += 1\n",
    "print(\"Converted %d words (%d misses)\" % (hits, misses))"
   ],
   "execution_count": 27,
   "outputs": [
    {
     "output_type": "stream",
     "text": [
      "Converted 45086 words (23524 misses)\n"
     ],
     "name": "stdout"
    }
   ]
  },
  {
   "cell_type": "code",
   "metadata": {
    "id": "JkrNes_huANW",
    "colab_type": "code",
    "colab": {},
    "executionInfo": {
     "status": "ok",
     "timestamp": 1599923630612,
     "user_tz": -270,
     "elapsed": 1696,
     "user": {
      "displayName": "DaniaL Ha",
      "photoUrl": "https://lh3.googleusercontent.com/a-/AOh14GiRcJ0WxjalGy0bNYHXw1hl4sot0fF2_-1t4wbEag=s64",
      "userId": "15606141405640455496"
     }
    }
   },
   "source": [
    "from keras.models import Model\n",
    "from keras.layers import Input, LSTM, Dense, Embedding, Bidirectional, concatenate, Dense, Dropout"
   ],
   "execution_count": 44,
   "outputs": []
  },
  {
   "cell_type": "code",
   "metadata": {
    "id": "JWiFKvzwvQOY",
    "colab_type": "code",
    "colab": {},
    "executionInfo": {
     "status": "ok",
     "timestamp": 1599921739966,
     "user_tz": -270,
     "elapsed": 1649,
     "user": {
      "displayName": "DaniaL Ha",
      "photoUrl": "https://lh3.googleusercontent.com/a-/AOh14GiRcJ0WxjalGy0bNYHXw1hl4sot0fF2_-1t4wbEag=s64",
      "userId": "15606141405640455496"
     }
    }
   },
   "source": [
    "early_stopping = EarlyStopping(monitor= 'val_loss', patience= 2, mode='min')"
   ],
   "execution_count": 29,
   "outputs": []
  },
  {
   "cell_type": "code",
   "metadata": {
    "id": "GYLfMvTzud5v",
    "colab_type": "code",
    "colab": {},
    "executionInfo": {
     "status": "ok",
     "timestamp": 1599925103883,
     "user_tz": -270,
     "elapsed": 3068,
     "user": {
      "displayName": "DaniaL Ha",
      "photoUrl": "https://lh3.googleusercontent.com/a-/AOh14GiRcJ0WxjalGy0bNYHXw1hl4sot0fF2_-1t4wbEag=s64",
      "userId": "15606141405640455496"
     }
    }
   },
   "source": [
    "nlp_input = Input(shape=(max_length,), name='nlp_input')\n",
    "meta_input = Input(shape=(1,), name='meta_input')\n",
    "\n",
    "emb = Embedding(num_tokens, embedding_dim, embeddings_initializer=tf.keras.initializers.Constant(embedding_matrix), trainable=True)(nlp_input)\n",
    "nlp_out = Bidirectional(LSTM(32))(emb)\n",
    "\n",
    "conc = concatenate([nlp_out, meta_input])\n",
    "dense_1 = Dense(24, activation='relu')(conc)\n",
    "output = Dense(1, activation='sigmoid')(dense_1)\n",
    "\n",
    "model = Model(inputs=[nlp_input , meta_input], outputs=[output])\n",
    "\n",
    "model.compile(loss='binary_crossentropy',optimizer='adam',metrics=['accuracy', tf.keras.metrics.Precision(), tf.keras.metrics.Recall()])"
   ],
   "execution_count": 56,
   "outputs": []
  },
  {
   "cell_type": "code",
   "metadata": {
    "id": "IpNiIzZGuu6R",
    "colab_type": "code",
    "colab": {
     "base_uri": "https://localhost:8080/",
     "height": 408
    },
    "executionInfo": {
     "status": "ok",
     "timestamp": 1599925106449,
     "user_tz": -270,
     "elapsed": 2110,
     "user": {
      "displayName": "DaniaL Ha",
      "photoUrl": "https://lh3.googleusercontent.com/a-/AOh14GiRcJ0WxjalGy0bNYHXw1hl4sot0fF2_-1t4wbEag=s64",
      "userId": "15606141405640455496"
     }
    },
    "outputId": "6ba682d8-2184-40ad-aebc-4e04f3e31797"
   },
   "source": [
    "model.summary()"
   ],
   "execution_count": 57,
   "outputs": [
    {
     "output_type": "stream",
     "text": [
      "Model: \"functional_7\"\n",
      "__________________________________________________________________________________________________\n",
      "Layer (type)                    Output Shape         Param #     Connected to                     \n",
      "==================================================================================================\n",
      "nlp_input (InputLayer)          [(None, 60)]         0                                            \n",
      "__________________________________________________________________________________________________\n",
      "embedding_4 (Embedding)         (None, 60, 300)      20583300    nlp_input[0][0]                  \n",
      "__________________________________________________________________________________________________\n",
      "bidirectional_4 (Bidirectional) (None, 64)           85248       embedding_4[0][0]                \n",
      "__________________________________________________________________________________________________\n",
      "meta_input (InputLayer)         [(None, 1)]          0                                            \n",
      "__________________________________________________________________________________________________\n",
      "concatenate_4 (Concatenate)     (None, 65)           0           bidirectional_4[0][0]            \n",
      "                                                                 meta_input[0][0]                 \n",
      "__________________________________________________________________________________________________\n",
      "dense_6 (Dense)                 (None, 24)           1584        concatenate_4[0][0]              \n",
      "__________________________________________________________________________________________________\n",
      "dense_7 (Dense)                 (None, 1)            25          dense_6[0][0]                    \n",
      "==================================================================================================\n",
      "Total params: 20,670,157\n",
      "Trainable params: 20,670,157\n",
      "Non-trainable params: 0\n",
      "__________________________________________________________________________________________________\n"
     ],
     "name": "stdout"
    }
   ]
  },
  {
   "cell_type": "code",
   "metadata": {
    "id": "FQwqCkeeu8Gg",
    "colab_type": "code",
    "colab": {
     "base_uri": "https://localhost:8080/",
     "height": 71
    },
    "executionInfo": {
     "status": "ok",
     "timestamp": 1599925622890,
     "user_tz": -270,
     "elapsed": 205693,
     "user": {
      "displayName": "DaniaL Ha",
      "photoUrl": "https://lh3.googleusercontent.com/a-/AOh14GiRcJ0WxjalGy0bNYHXw1hl4sot0fF2_-1t4wbEag=s64",
      "userId": "15606141405640455496"
     }
    },
    "outputId": "624cd616-96c4-4f54-b66c-c8fa93bc250b"
   },
   "source": [
    "num_epochs = 1\n",
    "history = model.fit([train_padded, train_advantages], train_labels, batch_size=256, epochs=num_epochs, callbacks=[early_stopping])"
   ],
   "execution_count": 66,
   "outputs": [
    {
     "output_type": "stream",
     "text": [
      "1033/1033 [==============================] - ETA: 0s - loss: 0.0587 - accuracy: 0.9796 - precision_3: 0.9854 - recall_3: 0.9936WARNING:tensorflow:Early stopping conditioned on metric `val_loss` which is not available. Available metrics are: loss,accuracy,precision_3,recall_3\n",
      "1033/1033 [==============================] - 205s 198ms/step - loss: 0.0587 - accuracy: 0.9796 - precision_3: 0.9854 - recall_3: 0.9936\n"
     ],
     "name": "stdout"
    }
   ]
  },
  {
   "cell_type": "code",
   "metadata": {
    "id": "C4E_YIiKvRLX",
    "colab_type": "code",
    "colab": {
     "base_uri": "https://localhost:8080/",
     "height": 802
    },
    "executionInfo": {
     "status": "error",
     "timestamp": 1599925341768,
     "user_tz": -270,
     "elapsed": 923,
     "user": {
      "displayName": "DaniaL Ha",
      "photoUrl": "https://lh3.googleusercontent.com/a-/AOh14GiRcJ0WxjalGy0bNYHXw1hl4sot0fF2_-1t4wbEag=s64",
      "userId": "15606141405640455496"
     }
    },
    "outputId": "8e73f868-371c-4853-add1-b354870a250f"
   },
   "source": [
    "import matplotlib.pyplot as plt\n",
    "import seaborn as sns\n",
    "sns.set(rc={'figure.figsize':(12,8)})\n",
    "\n",
    "def plot_graphs(model_history, ploting_variable):\n",
    "  plt.plot(model_history.history[ploting_variable])\n",
    "  plt.plot(model_history.history['val_' + ploting_variable])\n",
    "  plt.xlabel(\"Epochs\")\n",
    "  plt.ylabel(ploting_variable)\n",
    "  plt.legend([ploting_variable, 'val_' + ploting_variable])\n",
    "  plt.show()\n",
    "\n",
    "plot_graphs(history, \"accuracy\")\n",
    "plot_graphs(history, \"loss\")"
   ],
   "execution_count": 60,
   "outputs": [
    {
     "output_type": "error",
     "ename": "KeyError",
     "evalue": "ignored",
     "traceback": [
      "\u001B[0;31m---------------------------------------------------------------------------\u001B[0m",
      "\u001B[0;31mKeyError\u001B[0m                                  Traceback (most recent call last)",
      "\u001B[0;32m<ipython-input-60-3da4d2b321ef>\u001B[0m in \u001B[0;36m<module>\u001B[0;34m()\u001B[0m\n\u001B[1;32m     11\u001B[0m   \u001B[0mplt\u001B[0m\u001B[0;34m.\u001B[0m\u001B[0mshow\u001B[0m\u001B[0;34m(\u001B[0m\u001B[0;34m)\u001B[0m\u001B[0;34m\u001B[0m\u001B[0;34m\u001B[0m\u001B[0m\n\u001B[1;32m     12\u001B[0m \u001B[0;34m\u001B[0m\u001B[0m\n\u001B[0;32m---> 13\u001B[0;31m \u001B[0mplot_graphs\u001B[0m\u001B[0;34m(\u001B[0m\u001B[0mhistory\u001B[0m\u001B[0;34m,\u001B[0m \u001B[0;34m\"accuracy\"\u001B[0m\u001B[0;34m)\u001B[0m\u001B[0;34m\u001B[0m\u001B[0;34m\u001B[0m\u001B[0m\n\u001B[0m\u001B[1;32m     14\u001B[0m \u001B[0mplot_graphs\u001B[0m\u001B[0;34m(\u001B[0m\u001B[0mhistory\u001B[0m\u001B[0;34m,\u001B[0m \u001B[0;34m\"loss\"\u001B[0m\u001B[0;34m)\u001B[0m\u001B[0;34m\u001B[0m\u001B[0;34m\u001B[0m\u001B[0m\n",
      "\u001B[0;32m<ipython-input-60-3da4d2b321ef>\u001B[0m in \u001B[0;36mplot_graphs\u001B[0;34m(model_history, ploting_variable)\u001B[0m\n\u001B[1;32m      5\u001B[0m \u001B[0;32mdef\u001B[0m \u001B[0mplot_graphs\u001B[0m\u001B[0;34m(\u001B[0m\u001B[0mmodel_history\u001B[0m\u001B[0;34m,\u001B[0m \u001B[0mploting_variable\u001B[0m\u001B[0;34m)\u001B[0m\u001B[0;34m:\u001B[0m\u001B[0;34m\u001B[0m\u001B[0;34m\u001B[0m\u001B[0m\n\u001B[1;32m      6\u001B[0m   \u001B[0mplt\u001B[0m\u001B[0;34m.\u001B[0m\u001B[0mplot\u001B[0m\u001B[0;34m(\u001B[0m\u001B[0mmodel_history\u001B[0m\u001B[0;34m.\u001B[0m\u001B[0mhistory\u001B[0m\u001B[0;34m[\u001B[0m\u001B[0mploting_variable\u001B[0m\u001B[0;34m]\u001B[0m\u001B[0;34m)\u001B[0m\u001B[0;34m\u001B[0m\u001B[0;34m\u001B[0m\u001B[0m\n\u001B[0;32m----> 7\u001B[0;31m   \u001B[0mplt\u001B[0m\u001B[0;34m.\u001B[0m\u001B[0mplot\u001B[0m\u001B[0;34m(\u001B[0m\u001B[0mmodel_history\u001B[0m\u001B[0;34m.\u001B[0m\u001B[0mhistory\u001B[0m\u001B[0;34m[\u001B[0m\u001B[0;34m'val_'\u001B[0m \u001B[0;34m+\u001B[0m \u001B[0mploting_variable\u001B[0m\u001B[0;34m]\u001B[0m\u001B[0;34m)\u001B[0m\u001B[0;34m\u001B[0m\u001B[0;34m\u001B[0m\u001B[0m\n\u001B[0m\u001B[1;32m      8\u001B[0m   \u001B[0mplt\u001B[0m\u001B[0;34m.\u001B[0m\u001B[0mxlabel\u001B[0m\u001B[0;34m(\u001B[0m\u001B[0;34m\"Epochs\"\u001B[0m\u001B[0;34m)\u001B[0m\u001B[0;34m\u001B[0m\u001B[0;34m\u001B[0m\u001B[0m\n\u001B[1;32m      9\u001B[0m   \u001B[0mplt\u001B[0m\u001B[0;34m.\u001B[0m\u001B[0mylabel\u001B[0m\u001B[0;34m(\u001B[0m\u001B[0mploting_variable\u001B[0m\u001B[0;34m)\u001B[0m\u001B[0;34m\u001B[0m\u001B[0;34m\u001B[0m\u001B[0m\n",
      "\u001B[0;31mKeyError\u001B[0m: 'val_accuracy'"
     ]
    },
    {
     "output_type": "display_data",
     "data": {
      "image/png": "[encoded data removed]",
      "text/plain": [
       "<Figure size 864x576 with 1 Axes>"
      ]
     },
     "metadata": {
      "tags": []
     }
    }
   ]
  },
  {
   "cell_type": "code",
   "metadata": {
    "id": "p84klBpxz4lp",
    "colab_type": "code",
    "colab": {},
    "executionInfo": {
     "status": "ok",
     "timestamp": 1599925346495,
     "user_tz": -270,
     "elapsed": 4473,
     "user": {
      "displayName": "DaniaL Ha",
      "photoUrl": "https://lh3.googleusercontent.com/a-/AOh14GiRcJ0WxjalGy0bNYHXw1hl4sot0fF2_-1t4wbEag=s64",
      "userId": "15606141405640455496"
     }
    }
   },
   "source": [
    "test_predict = model.predict([test_padded, test_advantages])"
   ],
   "execution_count": 61,
   "outputs": []
  },
  {
   "cell_type": "code",
   "metadata": {
    "id": "xZF-yo_60fkk",
    "colab_type": "code",
    "colab": {
     "base_uri": "https://localhost:8080/",
     "height": 34
    },
    "executionInfo": {
     "status": "ok",
     "timestamp": 1599925351921,
     "user_tz": -270,
     "elapsed": 1249,
     "user": {
      "displayName": "DaniaL Ha",
      "photoUrl": "https://lh3.googleusercontent.com/a-/AOh14GiRcJ0WxjalGy0bNYHXw1hl4sot0fF2_-1t4wbEag=s64",
      "userId": "15606141405640455496"
     }
    },
    "outputId": "68070ddc-a925-4996-a626-668ac9290c9c"
   },
   "source": [
    "count = 0\n",
    "for prediction in test_predict:\n",
    "  if prediction[0] < 0.1:\n",
    "    count += 1\n",
    "count"
   ],
   "execution_count": 62,
   "outputs": [
    {
     "output_type": "execute_result",
     "data": {
      "text/plain": [
       "123"
      ]
     },
     "metadata": {
      "tags": []
     },
     "execution_count": 62
    }
   ]
  },
  {
   "cell_type": "code",
   "metadata": {
    "id": "FNygdfSu0iBm",
    "colab_type": "code",
    "colab": {},
    "executionInfo": {
     "status": "ok",
     "timestamp": 1599925353439,
     "user_tz": -270,
     "elapsed": 827,
     "user": {
      "displayName": "DaniaL Ha",
      "photoUrl": "https://lh3.googleusercontent.com/a-/AOh14GiRcJ0WxjalGy0bNYHXw1hl4sot0fF2_-1t4wbEag=s64",
      "userId": "15606141405640455496"
     }
    }
   },
   "source": [
    " predictions_df = test_df.copy()\n",
    " predictions_df.drop(labels=\n",
    "                   ['title', 'comment', 'advantages', 'disadvantages', 'title_fa_product', 'title_fa_category', 'is_buyer', 'advantage_score'],\n",
    "                   axis=1, inplace=True)\n",
    " predictions_df['verification_status'] = test_predict.round().astype(int)"
   ],
   "execution_count": 63,
   "outputs": []
  },
  {
   "cell_type": "code",
   "metadata": {
    "id": "1esuujUP2AHE",
    "colab_type": "code",
    "colab": {
     "base_uri": "https://localhost:8080/",
     "height": 419
    },
    "executionInfo": {
     "status": "ok",
     "timestamp": 1599925356203,
     "user_tz": -270,
     "elapsed": 1067,
     "user": {
      "displayName": "DaniaL Ha",
      "photoUrl": "https://lh3.googleusercontent.com/a-/AOh14GiRcJ0WxjalGy0bNYHXw1hl4sot0fF2_-1t4wbEag=s64",
      "userId": "15606141405640455496"
     }
    },
    "outputId": "ba61a6a5-40a1-4a86-ee86-bb4af19486c0"
   },
   "source": [
    "predictions_df"
   ],
   "execution_count": 64,
   "outputs": [
    {
     "output_type": "execute_result",
     "data": {
      "text/html": [
       "<div>\n",
       "<style scoped>\n",
       "    .dataframe tbody tr th:only-of-type {\n",
       "        vertical-align: middle;\n",
       "    }\n",
       "\n",
       "    .dataframe tbody tr th {\n",
       "        vertical-align: top;\n",
       "    }\n",
       "\n",
       "    .dataframe thead th {\n",
       "        text-align: right;\n",
       "    }\n",
       "</style>\n",
       "<table border=\"1\" class=\"dataframe\">\n",
       "  <thead>\n",
       "    <tr style=\"text-align: right;\">\n",
       "      <th></th>\n",
       "      <th>id</th>\n",
       "      <th>verification_status</th>\n",
       "    </tr>\n",
       "  </thead>\n",
       "  <tbody>\n",
       "    <tr>\n",
       "      <th>0</th>\n",
       "      <td>0</td>\n",
       "      <td>1</td>\n",
       "    </tr>\n",
       "    <tr>\n",
       "      <th>1</th>\n",
       "      <td>1</td>\n",
       "      <td>1</td>\n",
       "    </tr>\n",
       "    <tr>\n",
       "      <th>2</th>\n",
       "      <td>2</td>\n",
       "      <td>1</td>\n",
       "    </tr>\n",
       "    <tr>\n",
       "      <th>3</th>\n",
       "      <td>3</td>\n",
       "      <td>1</td>\n",
       "    </tr>\n",
       "    <tr>\n",
       "      <th>4</th>\n",
       "      <td>4</td>\n",
       "      <td>1</td>\n",
       "    </tr>\n",
       "    <tr>\n",
       "      <th>...</th>\n",
       "      <td>...</td>\n",
       "      <td>...</td>\n",
       "    </tr>\n",
       "    <tr>\n",
       "      <th>19394</th>\n",
       "      <td>19394</td>\n",
       "      <td>1</td>\n",
       "    </tr>\n",
       "    <tr>\n",
       "      <th>19395</th>\n",
       "      <td>19395</td>\n",
       "      <td>1</td>\n",
       "    </tr>\n",
       "    <tr>\n",
       "      <th>19396</th>\n",
       "      <td>19396</td>\n",
       "      <td>1</td>\n",
       "    </tr>\n",
       "    <tr>\n",
       "      <th>19397</th>\n",
       "      <td>19397</td>\n",
       "      <td>1</td>\n",
       "    </tr>\n",
       "    <tr>\n",
       "      <th>19398</th>\n",
       "      <td>19398</td>\n",
       "      <td>1</td>\n",
       "    </tr>\n",
       "  </tbody>\n",
       "</table>\n",
       "<p>19399 rows × 2 columns</p>\n",
       "</div>"
      ],
      "text/plain": [
       "          id  verification_status\n",
       "0          0                    1\n",
       "1          1                    1\n",
       "2          2                    1\n",
       "3          3                    1\n",
       "4          4                    1\n",
       "...      ...                  ...\n",
       "19394  19394                    1\n",
       "19395  19395                    1\n",
       "19396  19396                    1\n",
       "19397  19397                    1\n",
       "19398  19398                    1\n",
       "\n",
       "[19399 rows x 2 columns]"
      ]
     },
     "metadata": {
      "tags": []
     },
     "execution_count": 64
    }
   ]
  },
  {
   "cell_type": "code",
   "metadata": {
    "id": "Jit94_8L2NgD",
    "colab_type": "code",
    "colab": {},
    "executionInfo": {
     "status": "ok",
     "timestamp": 1599925357853,
     "user_tz": -270,
     "elapsed": 1214,
     "user": {
      "displayName": "DaniaL Ha",
      "photoUrl": "https://lh3.googleusercontent.com/a-/AOh14GiRcJ0WxjalGy0bNYHXw1hl4sot0fF2_-1t4wbEag=s64",
      "userId": "15606141405640455496"
     }
    }
   },
   "source": [
    "predictions_df.to_csv(base_dir + '/predictions.csv', index= False)"
   ],
   "execution_count": 65,
   "outputs": []
  },
  {
   "cell_type": "code",
   "metadata": {
    "id": "HubU6qn524Ur",
    "colab_type": "code",
    "colab": {}
   },
   "source": [],
   "execution_count": null,
   "outputs": []
  }
 ]
}
